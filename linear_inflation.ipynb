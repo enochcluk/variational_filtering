{
 "cells": [
  {
   "cell_type": "code",
   "execution_count": 26,
   "metadata": {
    "tags": []
   },
   "outputs": [],
   "source": [
    "import jax.numpy as jnp\n",
    "from jax import random, grad, jit\n",
    "from jax.scipy.linalg import inv, svd, eigh, det\n",
    "from jax_models import visualize_observations, Lorenz96, generate_true_states, generate_gc_localization_matrix\n",
    "from jax_filters import ensrf_steps, kalman_filter_process\n",
    "\n",
    "from jax.lax import scan\n",
    "import jax\n",
    "from scipy.linalg import solve_discrete_are\n",
    "from tqdm import tqdm\n",
    "import matplotlib.pyplot as plt\n",
    "from jax.tree_util import Partial\n",
    "\n",
    "\n",
    "key = random.PRNGKey(3)\n",
    "\n",
    "# System dimensions\n",
    "n = 40  # System dimension\n",
    "p = 2  # Observation dimension\n",
    "num_steps = 1000 # number of steps\n",
    "J0 = 0 # burn in period\n",
    "N = 10 # Monte Carlo samples\n",
    "\n",
    "def create_stable_matrix(n, key):\n",
    "    # Generate a symmetric random matrix\n",
    "    A = random.normal(key, (n, n))\n",
    "    A = (A + A.T) / 2\n",
    "    \n",
    "    # Ensure the matrix has a spectral radius < 1 for stability\n",
    "    eigenvalues, eigenvectors = eigh(A)\n",
    "    scaled_eigenvalues = eigenvalues / (jnp.abs(eigenvalues).max() + 0.1)  # Scale eigenvalues to ensure stability\n",
    "    A_stable = eigenvectors @ jnp.diag(scaled_eigenvalues) @ eigenvectors.T\n",
    "    \n",
    "    return A_stable\n",
    "\n",
    "# Model parameters\n",
    "m0 = jnp.ones((n,))\n",
    "C0 = jnp.eye(n) * 1.0   # Initial state covariance matrix (P)\n",
    "Q = jnp.eye(n) * 5.0    # Process noise covariance matrix (Sigma in Julia code)\n",
    "R = jnp.eye(n) * 1.0    # Observation noise covariance matrix (Gamma)\n",
    "inv_R = inv(R)\n",
    "M = create_stable_matrix(n,key)    # State transition matrix (A)\n",
    "H = jnp.eye(n)          # Observation matrix\n",
    "observation_interval = 1\n",
    "n_ensemble = 30\n",
    "\n",
    "# State initialization\n",
    "vd0 = m0 + random.multivariate_normal(key, jnp.zeros(n), C0)\n",
    "\n",
    "initial_state = vd0\n",
    "key, _ = random.split(key)\n",
    "\n",
    "\n",
    "def state_transition_function(x):\n",
    "    return jnp.dot(M, x)\n",
    "\n",
    "def jacobian_function(x):\n",
    "    return M\n",
    "\n",
    "jac_func = Partial(jacobian_function)\n",
    "A_step = Partial(state_transition_function)\n",
    "\n",
    "\n",
    "observations, true_states = generate_true_states(key, num_steps, n, vd0, H, Q, R, A_step, observation_interval)"
   ]
  },
  {
   "cell_type": "code",
   "execution_count": 27,
   "metadata": {
    "tags": []
   },
   "outputs": [],
   "source": [
    "radius = 10\n",
    "localization_matrix = generate_gc_localization_matrix(n, radius)\n",
    "ensemble_init = random.multivariate_normal(key, initial_state, Q, (n_ensemble,)).T\n",
    "inflation = 1\n",
    "e, c = ensrf_steps(A_step, n_ensemble, ensemble_init, num_steps, observations, observation_interval, H, Q, R, localization_matrix, inflation, key)\n"
   ]
  },
  {
   "cell_type": "code",
   "execution_count": 4,
   "metadata": {
    "tags": []
   },
   "outputs": [],
   "source": [
    "# plt.pcolormesh(c[-1])\n",
    "# plt.colorbar()"
   ]
  },
  {
   "cell_type": "code",
   "execution_count": 28,
   "metadata": {
    "tags": []
   },
   "outputs": [],
   "source": [
    "from jax_vi import KL_gaussian, log_likelihood, KL_sum\n",
    "\n",
    "def var_cost(inflation, ensemble_init, observations, H, Q, R, localization_matrix, key, num_steps, J0):\n",
    "   \n",
    "    states, covariances = ensrf_steps(A_step, n_ensemble, ensemble_init, num_steps, observations, observation_interval, H, Q, R, localization_matrix, inflation, key)\n",
    "    ensemble_mean = jnp.mean(states, axis=-1)  # Taking the mean across the ensemble members dimension\n",
    "    key, *subkeys = random.split(key, num=N+1)\n",
    "    kl_sum = KL_sum(ensemble_mean, covariances, n, A_step, Q, key, N)\n",
    "\n",
    "    def inner_map(subkey):\n",
    "        return log_likelihood(random.multivariate_normal(subkey, ensemble_mean, covariances), observations, H, R, num_steps, J0)  # Sometimes the covariances are negative definite. Fix\n",
    "    cost = kl_sum - jnp.nanmean(jax.lax.map(inner_map, jnp.vstack(subkeys)))\n",
    "    \n",
    "    return cost"
   ]
  },
  {
   "cell_type": "code",
   "execution_count": 29,
   "metadata": {},
   "outputs": [
    {
     "data": {
      "text/plain": [
       "Array(728794.4, dtype=float32)"
      ]
     },
     "execution_count": 29,
     "metadata": {},
     "output_type": "execute_result"
    }
   ],
   "source": [
    "var_cost(inflation, ensemble_init, observations, H, Q, R, localization_matrix, key, num_steps, J0)"
   ]
  },
  {
   "cell_type": "code",
   "execution_count": 30,
   "metadata": {
    "tags": []
   },
   "outputs": [],
   "source": [
    "m, C, K = kalman_filter_process(A_step, jac_func, m0, C0, observations, H, Q, R)\n"
   ]
  },
  {
   "cell_type": "code",
   "execution_count": 31,
   "metadata": {
    "tags": []
   },
   "outputs": [
    {
     "data": {
      "application/vnd.jupyter.widget-view+json": {
       "model_id": "caa7ff1c27ad4db0a7c849815a15c667",
       "version_major": 2,
       "version_minor": 0
      },
      "text/plain": [
       "  0%|          | 0/50 [00:00<?, ?it/s]"
      ]
     },
     "metadata": {},
     "output_type": "display_data"
    }
   ],
   "source": [
    "from IPython.display import clear_output\n",
    "from jax import grad\n",
    "from tqdm.notebook import tqdm\n",
    "import jax.numpy as jnp\n",
    "from jax import random\n",
    "import properscoring\n",
    "\n",
    "\n",
    "# Modification: Use grad to compute the gradient with respect to the inflation parameter\n",
    "var_cost_grad = grad(var_cost, argnums=0)\n",
    "\n",
    "inflation_opt = 1.3 # Example starting value for inflation\n",
    "alpha = 1e-6  # Learning rate\n",
    "key = random.PRNGKey(0)  # Random key\n",
    "N = 10  # Number of MC samples\n",
    "m0 = initial_state\n",
    "C0 = Q  # Initial covariance, assuming Q is your process noise covariance\n",
    "localization_matrix = generate_gc_localization_matrix(n, radius)# jnp.ones((n, n)) # \n",
    "ensemble_init = random.multivariate_normal(key, initial_state, Q, (n_ensemble,)).T\n",
    "\n",
    "crpss = []\n",
    "rmses=[]\n",
    "inflations = []\n",
    "errs = []\n",
    "true_div = []\n",
    "\n",
    "\n",
    "# from jax import config\n",
    "# config.update(\"jax_debug_nans\", True)\n",
    "\n",
    "for i in tqdm(range(50)):\n",
    "    key, subkey = random.split(key)\n",
    "        \n",
    "    # Gradient descent step for inflation parameter\n",
    "    grad_inflation = var_cost_grad(inflation_opt, ensemble_init, observations, H, Q, R, localization_matrix, subkey, num_steps, J0)\n",
    "    inflation_opt -= alpha * grad_inflation  # Update inflation parameter\n",
    "    \n",
    "    inflations.append(inflation_opt)\n",
    "\n",
    "    states, covariances = ensrf_steps(A_step, n_ensemble, ensemble_init, num_steps, observations, observation_interval, H, Q, R, localization_matrix, inflation_opt, key)\n",
    "    ensemble_mean = jnp.mean(states, axis=-1)  # Taking the mean across the ensemble members dimension\n",
    "    rmse = jnp.sqrt(jnp.mean((ensemble_mean - true_states)**2))\n",
    "    rmses.append(rmse)\n",
    "    crps = properscoring.crps_ensemble(true_states, states).mean(axis=1).mean()\n",
    "    crpss.append(crps)\n",
    "    total_kl_divergence = 0\n",
    "    for t in range(num_steps):  \n",
    "        kl_div_t = KL_gaussian(n, ensemble_mean[t], covariances[t],  m[t], C[t])\n",
    "        total_kl_divergence += kl_div_t\n",
    "    \n",
    "    true_div.append(total_kl_divergence / 250)\n",
    "    #clear_output(wait=True)\n",
    "    \n"
   ]
  },
  {
   "cell_type": "code",
   "execution_count": 32,
   "metadata": {},
   "outputs": [
    {
     "data": {
      "text/plain": [
       "[Array(nan, dtype=float32),\n",
       " Array(nan, dtype=float32),\n",
       " Array(nan, dtype=float32),\n",
       " Array(nan, dtype=float32),\n",
       " Array(nan, dtype=float32),\n",
       " Array(nan, dtype=float32),\n",
       " Array(nan, dtype=float32),\n",
       " Array(nan, dtype=float32),\n",
       " Array(nan, dtype=float32),\n",
       " Array(nan, dtype=float32),\n",
       " Array(nan, dtype=float32),\n",
       " Array(nan, dtype=float32),\n",
       " Array(nan, dtype=float32),\n",
       " Array(nan, dtype=float32),\n",
       " Array(nan, dtype=float32),\n",
       " Array(nan, dtype=float32),\n",
       " Array(nan, dtype=float32),\n",
       " Array(nan, dtype=float32),\n",
       " Array(nan, dtype=float32),\n",
       " Array(nan, dtype=float32),\n",
       " Array(nan, dtype=float32),\n",
       " Array(nan, dtype=float32),\n",
       " Array(nan, dtype=float32),\n",
       " Array(nan, dtype=float32),\n",
       " Array(nan, dtype=float32),\n",
       " Array(nan, dtype=float32),\n",
       " Array(nan, dtype=float32),\n",
       " Array(nan, dtype=float32),\n",
       " Array(nan, dtype=float32),\n",
       " Array(nan, dtype=float32),\n",
       " Array(nan, dtype=float32),\n",
       " Array(nan, dtype=float32),\n",
       " Array(nan, dtype=float32),\n",
       " Array(nan, dtype=float32),\n",
       " Array(nan, dtype=float32),\n",
       " Array(nan, dtype=float32),\n",
       " Array(nan, dtype=float32),\n",
       " Array(nan, dtype=float32),\n",
       " Array(nan, dtype=float32),\n",
       " Array(nan, dtype=float32),\n",
       " Array(nan, dtype=float32),\n",
       " Array(nan, dtype=float32),\n",
       " Array(nan, dtype=float32),\n",
       " Array(nan, dtype=float32),\n",
       " Array(nan, dtype=float32),\n",
       " Array(nan, dtype=float32),\n",
       " Array(nan, dtype=float32),\n",
       " Array(nan, dtype=float32),\n",
       " Array(nan, dtype=float32),\n",
       " Array(nan, dtype=float32)]"
      ]
     },
     "execution_count": 32,
     "metadata": {},
     "output_type": "execute_result"
    }
   ],
   "source": [
    "true_div"
   ]
  },
  {
   "cell_type": "code",
   "execution_count": 33,
   "metadata": {
    "tags": []
   },
   "outputs": [
    {
     "data": {
      "image/png": "[encoded data removed]",
      "text/plain": [
       "<Figure size 1000x600 with 2 Axes>"
      ]
     },
     "metadata": {},
     "output_type": "display_data"
    }
   ],
   "source": [
    "import matplotlib.pyplot as plt\n",
    "\n",
    "fig, ax1 = plt.subplots(figsize=(10, 6))\n",
    "\n",
    "# Plotting the RMSE and CRPS on the primary y-axis\n",
    "color = 'tab:red'\n",
    "ax1.set_xlabel('Iteration')\n",
    "ax1.set_ylabel('Divergence', color=color)\n",
    "ln1 = ax1.plot(true_div, label='Divergence from True Solution', color='tab:orange', linestyle='-')\n",
    "ax1.tick_params(axis='y', labelcolor=color)\n",
    "\n",
    "# Create a twin y-axis for the inflation parameter\n",
    "ax2 = ax1.twinx()\n",
    "color = 'tab:blue'\n",
    "ax2.set_ylabel('Inflation', color=color)\n",
    "ln3 = ax2.plot(inflations, label='Inflation Parameter', color=color, linestyle=':')\n",
    "ax2.tick_params(axis='y', labelcolor=color)\n",
    "\n",
    "# Combine legends from both axes\n",
    "lns = ln1 + ln3\n",
    "labs = [l.get_label() for l in lns]\n",
    "ax1.legend(lns, labs, loc='upper right')\n",
    "\n",
    "plt.title('Inflation Parameter and Divergence from True Solution over Iterations')\n",
    "plt.show()\n"
   ]
  },
  {
   "cell_type": "code",
   "execution_count": null,
   "metadata": {},
   "outputs": [],
   "source": []
  },
  {
   "cell_type": "code",
   "execution_count": null,
   "metadata": {},
   "outputs": [],
   "source": []
  },
  {
   "cell_type": "code",
   "execution_count": null,
   "metadata": {},
   "outputs": [],
   "source": []
  }
 ],
 "metadata": {
  "kernelspec": {
   "display_name": "Python 3 (ipykernel)",
   "language": "python",
   "name": "python3"
  },
  "language_info": {
   "codemirror_mode": {
    "name": "ipython",
    "version": 3
   },
   "file_extension": ".py",
   "mimetype": "text/x-python",
   "name": "python",
   "nbconvert_exporter": "python",
   "pygments_lexer": "ipython3",
   "version": "3.11.5"
  }
 },
 "nbformat": 4,
 "nbformat_minor": 4
}
