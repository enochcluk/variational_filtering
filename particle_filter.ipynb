{
 "cells": [
  {
   "cell_type": "code",
   "execution_count": 122,
   "id": "53b54759-8969-40b2-a85d-b0aac3acb5fa",
   "metadata": {},
   "outputs": [],
   "source": [
    "import jax\n",
    "import jax.numpy as jnp\n",
    "from jax import random, grad, jit, jacfwd, jacrev\n",
    "from jax.scipy.linalg import inv, svd, eigh, det\n",
    "from jax.lax import scan\n",
    "from scipy.linalg import solve_discrete_are, norm\n",
    "from tqdm.auto import tqdm\n",
    "import matplotlib.pyplot as plt\n",
    "from jax.tree_util import Partial\n",
    "from functools import partial\n",
    "from jax_vi import KL_gaussian, log_likelihood, KL_sum, plot_optimization_results, plot_k_matrices\n",
    "\n",
    "from jax_filters import apply_filtering_fixed_nonlinear, kalman_filter_process, filter_step_nonlinear\n",
    "from jax_models import visualize_observations, Lorenz63, generate_true_states, generate_localization_matrix\n",
    "\n",
    "N = 10 # number of Monte Carlo samples\n",
    "num_steps = 250  # Number of time steps\n",
    "J0 = 0\n",
    "n = 3   # Number of state variables\n",
    "key = random.PRNGKey(0)  # Random key for reproducibility\n",
    "Q = 0.3 * jnp.eye(n)  # Process noise covariance\n",
    "R = 0.01 * jnp.eye(n)  # Observation noise covariance\n",
    "H = jnp.eye(n) # Observation matrix (identity matrix for direct observation of all state variables)\n",
    "\n",
    "n_ensemble = 20\n",
    "observation_interval = 1\n",
    "initial_state = random.normal(random.PRNGKey(0), (n,)) \n",
    "m0 = initial_state\n",
    "C0 = Q\n",
    "\n",
    "l63_model = Lorenz63()\n",
    "l63_step = Partial(l63_model.step)\n",
    "\n",
    "jacobian_function = jacrev(l63_step, argnums=0)\n",
    "jac_func = Partial(jacobian_function)\n",
    "state_transition_function = l63_step\n",
    "\n",
    "observations, true_states = generate_true_states(key, num_steps, n, initial_state, H, Q, R, l63_step, observation_interval)\n",
    "\n"
   ]
  },
  {
   "cell_type": "code",
   "execution_count": 144,
   "id": "213de2dd-323a-4a5c-818e-73d3cad3b5eb",
   "metadata": {},
   "outputs": [],
   "source": [
    "def resample_particles(key, particles, weights):\n",
    "    # Multinomial Resampling\n",
    "    num_particles = particles.shape[0]\n",
    "    cumulative_sum = jnp.cumsum(weights)\n",
    "    indices = jnp.searchsorted(cumulative_sum, random.uniform(key, (num_particles,)))\n",
    "    return particles[indices]"
   ]
  },
  {
   "cell_type": "code",
   "execution_count": 145,
   "id": "592fc89c-af11-472a-a540-d95192c9c4df",
   "metadata": {},
   "outputs": [],
   "source": [
    "def systematic_resample(key, particles, weights):\n",
    "    N = len(weights)\n",
    "    offset = random.uniform(key, shape=(), minval=0, maxval=1)\n",
    "    positions = (jnp.arange(N) + offset) / N\n",
    "    \n",
    "    indexes = jnp.zeros(N, dtype='int32')\n",
    "    cumulative_sum = jnp.cumsum(weights)\n",
    "    i, j = 0, 0\n",
    "    while i < N:\n",
    "        if positions[i] < cumulative_sum[j]:\n",
    "            indexes = indexes.at[i].set(j)\n",
    "            i += 1\n",
    "        else:\n",
    "            j += 1\n",
    "\n",
    "    return particles[indexes]"
   ]
  },
  {
   "cell_type": "code",
   "execution_count": null,
   "id": "e861faf6-d75d-447d-a767-ebaa1256a1b4",
   "metadata": {},
   "outputs": [],
   "source": [
    "def update_weights(particles, observation, H, R):\n",
    "    # Calculate the likelihood of each particle given the observation\n",
    "    predicted_observations = vmap(lambda x: jnp.dot(H, x), in_axes=0, out_axes=0)(particles)\n",
    "    obs_dim = observation.shape[0]\n",
    "    inv_R = jnp.linalg.inv(R)\n",
    "    diff = observation - predicted_observations\n",
    "    likelihood = jnp.exp(-0.5 * vmap(lambda d: jnp.dot(d, jnp.dot(inv_R, d.T)), in_axes=0, out_axes=0)(diff))\n",
    "    likelihood = likelihood / likelihood.sum()  # Normalize the weights\n",
    "    return likelihood\n",
    "    \n",
    "def particle_filter(key, num_particles, num_steps, initial_state, observations, state_transition_function, H, Q, R, system = False):\n",
    "    mean = jnp.tile(initial_state, (num_particles, 1))\n",
    "    particles = random.multivariate_normal(key, mean, Q, shape=(num_particles,))\n",
    "    step = vmap(state_transition_function, in_axes=0, out_axes=0)\n",
    "    ensemble = []\n",
    "    for t in range(num_steps):\n",
    "        key, subkey = random.split(key)\n",
    "        particles = step(particles) + random.multivariate_normal(key, jnp.zeros(particles.shape[1]), Q, shape=particles.shape[:1])\n",
    "        if t % observation_interval == 0:\n",
    "            observation = observations[t // observation_interval]\n",
    "            weights = update_weights(particles, observation, H, R)\n",
    "            if system:\n",
    "                particles = systematic_resample(subkey, particles, weights)\n",
    "            else:\n",
    "                particles = resample_particles(subkey, particles, weights)\n",
    "        ensemble.append(particles)\n",
    "        \n",
    "\n",
    "    # Transpose to (timestep, state_dim, num_particles)\n",
    "    return jnp.transpose(jnp.array(ensemble), (0, 2, 1))\n",
    "\n",
    "key = random.PRNGKey(0)  # Initialize PRNG key\n",
    "num_particles = 20\n",
    "initial_state = random.normal(random.PRNGKey(0), (n,)) \n",
    "\n",
    "estimated_states = particle_filter(key, num_particles, num_steps, initial_state, observations, state_transition_function, H, Q, R, True)\n"
   ]
  },
  {
   "cell_type": "code",
   "execution_count": null,
   "id": "c40e6ddc-166a-4ae6-a1e3-db58ecfa09a8",
   "metadata": {},
   "outputs": [],
   "source": [
    "from jax_filters import ensrf_steps, kalman_filter_process, ensrf_step\n",
    "inflation = 1.5  # Fixed starting value for inflation\n",
    "radius_opt = 1.2\n",
    "N = 10  # Number of MC samples\n",
    "m0 = initial_state\n",
    "C0 = Q  # Initial covariance, assuming Q is your process noise covariance\n",
    "ensemble_init = random.multivariate_normal(key, initial_state, Q, (n_ensemble,)).T\n",
    "localization_matrix = generate_localization_matrix(n, radius_opt)\n",
    "\n",
    "base_m, base_C, base_K = kalman_filter_process(l63_step, jac_func, m0, C0, observations, H, Q, R)\n",
    "\n",
    "pred_states, pred_covariances, analysis_states, analysis_covariances = ensrf_steps(l63_step, n_ensemble, ensemble_init, num_steps, observations, observation_interval, H, Q, R, localization_matrix, inflation, key)\n",
    "\n",
    "def calculate_covariance_matrix(states):\n",
    "    mean = jnp.mean(states, axis=2)\n",
    "    deviations = states - mean[:, :, jnp.newaxis]\n",
    "    covariance_matrix = jnp.einsum('ijk,ilk->ijl', deviations, deviations) / (states.shape[2] - 1)\n",
    "    return covariance_matrix\n",
    "\n",
    "particle_cov = calculate_covariance_matrix(estimated_states)\n",
    "frobenius_norms = [jnp.linalg.norm(base_C[i] - particle_cov[i], 'fro') for i in range(250)]\n",
    "\n",
    "\n"
   ]
  },
  {
   "cell_type": "code",
   "execution_count": null,
   "id": "38501135-3dca-404a-b603-bb020e20bb0d",
   "metadata": {},
   "outputs": [],
   "source": [
    "analysis_covariances.shape"
   ]
  },
  {
   "cell_type": "code",
   "execution_count": null,
   "id": "52bd67df-2a0b-4e06-a91a-ea829c1414f5",
   "metadata": {},
   "outputs": [],
   "source": [
    "pf_mean_estimates = jnp.mean(estimated_states, axis=2)\n",
    "ensrf_mean_estimates = jnp.mean(analysis_states, axis=2)\n",
    "\n",
    "# Compute errors as the absolute difference from true states\n",
    "pf_errors = jnp.abs(pf_mean_estimates - true_states)**2\n",
    "kf_errors = jnp.abs(base_m - true_states)**2\n",
    "ensrf_errors = jnp.abs(ensrf_mean_estimates - true_states)**2\n",
    "\n",
    "pf_mean_error = jnp.mean(pf_errors, axis=1)\n",
    "kf_mean_error = jnp.mean(kf_errors, axis=1)\n",
    "ensrf_mean_error = jnp.mean(ensrf_errors, axis=1)"
   ]
  },
  {
   "cell_type": "code",
   "execution_count": null,
   "id": "3aa13d43-af22-4bcc-a1a2-c550aa99ab42",
   "metadata": {},
   "outputs": [],
   "source": [
    "plt.figure(figsize=(12, 6))\n",
    "plt.plot(pf_mean_error, label='Particle Filter Mean Error', marker='o')\n",
    "plt.plot(kf_mean_error, label='Kalman Filter Mean Error', marker='x')\n",
    "plt.plot(ensrf_mean_error, label='EnSRF Mean Error', marker='s')\n",
    "plt.title('Comparison of Filter Accuracy Over Time')\n",
    "plt.xlabel('Time Step')\n",
    "plt.ylabel('Mean Absolute Error')\n",
    "plt.legend()\n",
    "plt.grid(True)\n",
    "plt.show()\n"
   ]
  },
  {
   "cell_type": "code",
   "execution_count": 118,
   "id": "426e7c26-22df-4cc4-b859-399c3a3ea041",
   "metadata": {},
   "outputs": [
    {
     "data": {
      "text/plain": [
       "Array([[ 1.9215502 , -0.59329814,  0.2814261 ],\n",
       "       [ 1.772846  ,  0.1740785 , -0.01892382],\n",
       "       [ 1.9457296 , -0.2977463 ,  1.0511189 ],\n",
       "       [ 1.218002  ,  0.20786238,  0.5761704 ],\n",
       "       [ 1.1740887 ,  0.42936862,  0.60618496]], dtype=float32)"
      ]
     },
     "execution_count": 118,
     "metadata": {},
     "output_type": "execute_result"
    }
   ],
   "source": [
    "base_m[:5]"
   ]
  },
  {
   "cell_type": "code",
   "execution_count": 121,
   "id": "01b94210-83b9-4d1c-a248-6b7578f12477",
   "metadata": {},
   "outputs": [
    {
     "data": {
      "text/plain": [
       "Array([[ 1.9251378 , -0.5991712 ,  0.28072774],\n",
       "       [ 1.7729867 ,  0.17414775, -0.01907295],\n",
       "       [ 1.9457743 , -0.2969916 ,  1.0502003 ],\n",
       "       [ 1.2184255 ,  0.20807543,  0.57656044],\n",
       "       [ 1.1740917 ,  0.42947647,  0.6061563 ]], dtype=float32)"
      ]
     },
     "execution_count": 121,
     "metadata": {},
     "output_type": "execute_result"
    }
   ],
   "source": [
    "analysis_states.mean(axis=2)[:5]"
   ]
  }
 ],
 "metadata": {
  "kernelspec": {
   "display_name": "Python 3 (ipykernel)",
   "language": "python",
   "name": "python3"
  },
  "language_info": {
   "codemirror_mode": {
    "name": "ipython",
    "version": 3
   },
   "file_extension": ".py",
   "mimetype": "text/x-python",
   "name": "python",
   "nbconvert_exporter": "python",
   "pygments_lexer": "ipython3",
   "version": "3.11.5"
  }
 },
 "nbformat": 4,
 "nbformat_minor": 5
}
