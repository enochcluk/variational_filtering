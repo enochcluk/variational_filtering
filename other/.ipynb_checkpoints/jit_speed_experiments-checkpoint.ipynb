{
 "cells": [
  {
   "cell_type": "code",
   "execution_count": 1,
   "metadata": {},
   "outputs": [],
   "source": [
    "from jax.scipy.linalg import inv, det, svd\n",
    "import jax.numpy as np\n",
    "from jax import random, jit\n",
    "from sklearn.datasets import make_spd_matrix\n",
    "import matplotlib.pyplot as plt\n",
    "from matplotlib.colors import LinearSegmentedColormap\n",
    "import jax.lax as lax\n",
    "from jax_models import KuramotoSivashinsky\n",
    "num_steps = 1000  # Number of simulation steps\n",
    "n = 256 # Dimensionality of the state space for KS model\n",
    "observation_interval = 5  # Interval at which observations are made\n",
    "dt = 0.25  # Time step for the KS model\n",
    "\n",
    "ks_model = KuramotoSivashinsky(dt=dt, s=n, l=22, M=16)\n",
    "\n",
    "# Initial state\n",
    "key = random.PRNGKey(0)  # Random key for reproducibility\n",
    "x0 = random.normal(key, (n,))\n",
    "initial_state  = x0\n",
    "# Noise covariances\n",
    "Q = 0.01 * np.eye(n)  # Process noise covariance\n",
    "R = 0.5 * np.eye(n)  # Observation noise covariance\n",
    "# Observation matrix (identity matrix for direct observation of all state variables)\n",
    "H = np.eye(n)\n",
    "\n",
    "\n",
    "def generate_true_states(key, num_steps, n, x0, H, Q, R, model_step, observation_interval):\n",
    "    # Initialize the state with the initial condition based on x0 and C0\n",
    "    x = np.zeros((num_steps, n))\n",
    "    obs = np.zeros((num_steps, H.shape[0]))  # Adjust the shape based on H\n",
    "    x = x.at[0].set(x0)\n",
    "\n",
    "    for j in range(1, num_steps):\n",
    "        key, subkey = random.split(key)\n",
    "        # Update state using the model step function\n",
    "        x_j = model_step(x[j-1])\n",
    "        # Add process noise Q only at observation times\n",
    "        if j % observation_interval == 0:\n",
    "            x_j = x_j + random.multivariate_normal(subkey, np.zeros(n), Q)\n",
    "            obs_state = np.dot(H, x_j)\n",
    "            obs_noise = random.multivariate_normal(subkey, np.zeros(H.shape[0]), R)\n",
    "            obs = obs.at[j].set(obs_state + obs_noise)\n",
    "        else: #non observations are nans\n",
    "            obs = obs.at[j].set(np.nan)\n",
    "        \n",
    "        x = x.at[j].set(x_j)\n",
    "\n",
    "    return obs, x\n"
   ]
  },
  {
   "cell_type": "code",
   "execution_count": 2,
   "metadata": {},
   "outputs": [],
   "source": [
    "import time"
   ]
  },
  {
   "cell_type": "code",
   "execution_count": 3,
   "metadata": {},
   "outputs": [
    {
     "name": "stdout",
     "output_type": "stream",
     "text": [
      "3.530884265899658\n",
      "3.4854602813720703\n",
      "3.0887906551361084\n",
      "3.2504544258117676\n",
      "2.8156626224517822\n",
      "2.6936001777648926\n",
      "2.8925094604492188\n",
      "2.8027076721191406\n",
      "2.607027292251587\n",
      "2.9955849647521973\n"
     ]
    }
   ],
   "source": [
    "\n",
    "for i in range(10):\n",
    "    a = time.time()\n",
    "    observations, true_states = generate_true_states(key, num_steps, n, x0, H, Q, R, ks_model.step, observation_interval)\n",
    "    print(time.time() - a)\n"
   ]
  },
  {
   "cell_type": "code",
   "execution_count": 9,
   "metadata": {},
   "outputs": [],
   "source": [
    "from jax import random, lax, jit\n",
    "import jax.numpy as jnp\n",
    "\n",
    "# Assume model_step, observation_interval, Q, R, H, and other necessary variables are defined\n",
    "\n",
    "def step_fn(carry, t):\n",
    "    key, x_prev = carry\n",
    "    key, subkey = random.split(key)\n",
    "    \n",
    "    x_j = model_step(x_prev)\n",
    "    \n",
    "    def add_noise_and_obs(_):\n",
    "        x_j_noise = x_j + random.multivariate_normal(subkey, jnp.zeros(n), Q)\n",
    "        obs_state = jnp.dot(H, x_j_noise)\n",
    "        obs_noise = random.multivariate_normal(subkey, jnp.zeros(H.shape[0]), R)\n",
    "        return obs_state + obs_noise, x_j_noise\n",
    "\n",
    "    def no_noise_no_obs(_):\n",
    "        return jnp.full(H.shape[0], jnp.nan), x_j\n",
    "\n",
    "    obs_j, x_j_updated = lax.cond((t + 1) % observation_interval == 0,\n",
    "                                  add_noise_and_obs,  # Function to execute if condition is True\n",
    "                                  no_noise_no_obs,  # Function to execute if condition is False\n",
    "                                  None)  # Operand passed to true_fun and false_fun (not used here)\n",
    "\n",
    "    return (key, x_j_updated), (x_j_updated, obs_j)\n",
    "\n",
    "@jit\n",
    "def generate_true_states_jit(key, x0):\n",
    "    x_init = jnp.zeros((num_steps, n))\n",
    "    obs_init = jnp.full((num_steps, H.shape[0]), jnp.nan)  # Assuming H is defined\n",
    "    x_init = x_init.at[0].set(x0)\n",
    "    \n",
    "    carry_init = (key, x0)\n",
    "    _, (x, obs) = lax.scan(step_fn, carry_init, jnp.arange(num_steps - 1))\n",
    "    \n",
    "    x = jnp.vstack([x0[None, :], x])\n",
    "    obs = jnp.vstack([jnp.full((1, H.shape[0]), jnp.nan), obs])  # First observation is NaN\n",
    "    \n",
    "    return obs, x\n"
   ]
  },
  {
   "cell_type": "code",
   "execution_count": 10,
   "metadata": {},
   "outputs": [
    {
     "name": "stdout",
     "output_type": "stream",
     "text": [
      "1.2976999282836914\n",
      "0.3859541416168213\n",
      "0.31633663177490234\n",
      "0.31566429138183594\n",
      "0.47411537170410156\n",
      "0.3068225383758545\n",
      "0.32282495498657227\n",
      "0.28130173683166504\n",
      "0.2782151699066162\n",
      "0.300736665725708\n"
     ]
    }
   ],
   "source": [
    "for i in range(10):\n",
    "    a = time.time()\n",
    "    observations, true_states = generate_true_states_jit(key, x0)\n",
    "    print(time.time()-a)\n"
   ]
  },
  {
   "cell_type": "code",
   "execution_count": 1,
   "metadata": {},
   "outputs": [],
   "source": []
  },
  {
   "cell_type": "code",
   "execution_count": 3,
   "metadata": {},
   "outputs": [
    {
     "data": {
      "text/plain": [
       "Array([[1.       , 0.8948393, 0.6411804, 0.6411804, 0.8948393],\n",
       "       [0.8948393, 1.       , 0.8948393, 0.6411804, 0.6411804],\n",
       "       [0.6411804, 0.8948393, 1.       , 0.8948393, 0.6411804],\n",
       "       [0.6411804, 0.6411804, 0.8948393, 1.       , 0.8948393],\n",
       "       [0.8948393, 0.6411804, 0.6411804, 0.8948393, 1.       ]],      dtype=float32)"
      ]
     },
     "execution_count": 3,
     "metadata": {},
     "output_type": "execute_result"
    }
   ],
   "source": []
  }
 ],
 "metadata": {
  "kernelspec": {
   "display_name": "Python 3 (ipykernel)",
   "language": "python",
   "name": "python3"
  },
  "language_info": {
   "codemirror_mode": {
    "name": "ipython",
    "version": 3
   },
   "file_extension": ".py",
   "mimetype": "text/x-python",
   "name": "python",
   "nbconvert_exporter": "python",
   "pygments_lexer": "ipython3",
   "version": "3.11.5"
  }
 },
 "nbformat": 4,
 "nbformat_minor": 4
}
