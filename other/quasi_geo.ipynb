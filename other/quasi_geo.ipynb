{
 "cells": [
  {
   "cell_type": "code",
   "execution_count": 1,
   "id": "7645b8ae-c998-44a9-87bc-5964547f031b",
   "metadata": {},
   "outputs": [],
   "source": [
    "# !pip install pyqg-jax\n",
    "# !pip install cmocean"
   ]
  },
  {
   "cell_type": "code",
   "execution_count": 4,
   "id": "ed03a7a4-a544-4e56-acb4-7b31b1f2c129",
   "metadata": {},
   "outputs": [
    {
     "name": "stdout",
     "output_type": "stream",
     "text": [
      "Requirement already satisfied: jax in /home/eluk/anaconda3/lib/python3.11/site-packages (0.4.23)\n",
      "Requirement already satisfied: ml-dtypes>=0.2.0 in /home/eluk/anaconda3/lib/python3.11/site-packages (from jax) (0.3.1)\n",
      "Requirement already satisfied: numpy>=1.22 in /home/eluk/anaconda3/lib/python3.11/site-packages (from jax) (1.26.3)\n",
      "Requirement already satisfied: opt-einsum in /home/eluk/anaconda3/lib/python3.11/site-packages (from jax) (3.3.0)\n",
      "Requirement already satisfied: scipy>=1.9 in /home/eluk/anaconda3/lib/python3.11/site-packages (from jax) (1.11.4)\n"
     ]
    }
   ],
   "source": [
    "!pip install jax"
   ]
  },
  {
   "cell_type": "code",
   "execution_count": 2,
   "id": "0d25b8fd-9898-4421-8ab7-6bf71ee8c5c0",
   "metadata": {},
   "outputs": [],
   "source": [
    "# Set environment variable for double precision support\n",
    "import os\n",
    "os.environ['JAX_ENABLE_X64'] = 'True'\n",
    "import operator\n",
    "import functools\n",
    "import matplotlib.pyplot as plt\n",
    "import cmocean.cm as cmo\n",
    "import jax\n",
    "import jax.numpy as jnp\n",
    "import pyqg_jax\n",
    "\n",
    "\n",
    "jax.config.update('jax_enable_x64', True)\n",
    "\n",
    "base_model = pyqg_jax.qg_model.QGModel(\n",
    "    nx=64,\n",
    "    ny=64,\n",
    "    precision=pyqg_jax.state.Precision.DOUBLE,\n",
    ")\n",
    "\n",
    "param_model = pyqg_jax.parameterizations.smagorinsky.apply_parameterization(\n",
    "    base_model, constant=0.08,\n",
    ")\n",
    "\n",
    "stepper = pyqg_jax.steppers.AB3Stepper(dt=14400.0)\n",
    "stepped_model = pyqg_jax.steppers.SteppedModel(\n",
    "    param_model, stepper\n",
    ")\n",
    "\n"
   ]
  },
  {
   "cell_type": "code",
   "execution_count": 1,
   "id": "de1ce862-c87d-4dd1-9bae-85f1d94e8a2d",
   "metadata": {},
   "outputs": [
    {
     "ename": "NameError",
     "evalue": "name 'stepped_model' is not defined",
     "output_type": "error",
     "traceback": [
      "\u001b[0;31m---------------------------------------------------------------------------\u001b[0m",
      "\u001b[0;31mNameError\u001b[0m                                 Traceback (most recent call last)",
      "Cell \u001b[0;32mIn[1], line 1\u001b[0m\n\u001b[0;32m----> 1\u001b[0m init_state \u001b[38;5;241m=\u001b[39m stepped_model\u001b[38;5;241m.\u001b[39mcreate_initial_state(jax\u001b[38;5;241m.\u001b[39mrandom\u001b[38;5;241m.\u001b[39mkey(\u001b[38;5;241m0\u001b[39m))\n\u001b[1;32m      3\u001b[0m \u001b[38;5;66;03m# Extract the initial q and flatten it to create x0\u001b[39;00m\n\u001b[1;32m      4\u001b[0m q_init \u001b[38;5;241m=\u001b[39m init_state\u001b[38;5;241m.\u001b[39mstate\u001b[38;5;241m.\u001b[39mmodel_state\u001b[38;5;241m.\u001b[39mq\n",
      "\u001b[0;31mNameError\u001b[0m: name 'stepped_model' is not defined"
     ]
    }
   ],
   "source": [
    "init_state = stepped_model.create_initial_state(jax.random.key(0))\n",
    "\n",
    "# Extract the initial q and flatten it to create x0\n",
    "q_init = init_state.state.model_state.q\n",
    "x0 = q_init.reshape(-1)\n",
    "n = x0.shape[0]\n",
    "\n",
    "H = jnp.eye(n)\n",
    "\n",
    "\n",
    "# Process noise covariance Q\n",
    "Q = jnp.eye(n) * 1e-5  # Adjust as needed\n",
    "\n",
    "# Observation noise covariance R\n",
    "R = jnp.eye(n) * 1e-2  # Adjust as needed\n",
    "\n",
    "# @functools.partial(jax.jit, static_argnames=[\"num_steps\"])\n",
    "# def roll_out_state(state, num_steps):\n",
    "#     def loop_fn(carry, _x):\n",
    "#         current_state = carry\n",
    "#         next_state = stepped_model.step_model(current_state)\n",
    "#         return next_state, current_state\n",
    "\n",
    "#     _final_carry, traj_steps = jax.lax.scan(\n",
    "#         loop_fn, state, None, length=num_steps\n",
    "#     )\n",
    "#     return traj_steps\n",
    "def roll_out_state(state, num_steps, key):\n",
    "    def loop_fn(carry, key):\n",
    "        current_state = carry\n",
    "        # Step the model forward (without process noise for now)\n",
    "        next_state = stepped_model.step_model(current_state)    \n",
    "        # Generate observation noise\n",
    "        noise_std = jnp.sqrt(jnp.diag(R))\n",
    "        obs_noise = jax.random.normal(key, shape=(n,)) * noise_std\n",
    "        # Compute observation\n",
    "        observation = H @ next_state.state.model_state.q.reshape(-1) + obs_noise\n",
    "        \n",
    "        return next_state, (next_state, observation)\n",
    "    \n",
    "    # Split the key into num_steps keys\n",
    "    keys = jax.random.split(key, num_steps)\n",
    "    \n",
    "    # Run the loop\n",
    "    final_state, (traj_steps, observations) = jax.lax.scan(\n",
    "        loop_fn, state, keys\n",
    "    )\n",
    "    return traj_steps, observations\n",
    "\n",
    "key = jax.random.PRNGKey(0)\n",
    "\n",
    "traj, obs = roll_out_state(init_state, num_steps=50,key=key)\n",
    "\n",
    "# # Plot initial state\n",
    "# inner_state = init_state.state.model_state\n",
    "# fig, axs = plt.subplots(1, 2, layout=\"constrained\")\n",
    "# for layer, ax in enumerate(axs):\n",
    "#     data = inner_state.q[layer]\n",
    "#     vmax = jnp.abs(data).max()\n",
    "#     ax.set_title(f\"Layer {layer}\")\n",
    "#     ax.imshow(data, cmap=cmo.balance, vmin=-vmax, vmax=vmax)\n",
    "# plt.show()"
   ]
  },
  {
   "cell_type": "code",
   "execution_count": null,
   "id": "918e0428-e55e-4323-a5df-732e277c22f3",
   "metadata": {},
   "outputs": [],
   "source": [
    "# Plot final state\n",
    "final_state = jax.tree_util.tree_map(operator.itemgetter(0), traj)\n",
    "final_q = final_state.state.model_state.q\n",
    "fig, axs = plt.subplots(1, 2, layout=\"constrained\")\n",
    "for layer, ax in enumerate(axs):\n",
    "    data = final_q[layer]\n",
    "    vmax = jnp.abs(data).max()\n",
    "    ax.set_title(f\"Layer {layer}\")\n",
    "    ax.imshow(data, cmap=cmo.balance, vmin=-vmax, vmax=vmax)\n",
    "plt.show()"
   ]
  },
  {
   "cell_type": "code",
   "execution_count": 16,
   "id": "e3c8a066-a437-4e55-90f8-c3fac0f4e121",
   "metadata": {},
   "outputs": [
    {
     "data": {
      "text/plain": [
       "(2, 64, 64)"
      ]
     },
     "execution_count": 16,
     "metadata": {},
     "output_type": "execute_result"
    }
   ],
   "source": [
    "final_q.shape"
   ]
  },
  {
   "cell_type": "code",
   "execution_count": 25,
   "id": "2983dc5e-92cc-4094-aed2-e611e20ed340",
   "metadata": {},
   "outputs": [],
   "source": [
    "import os\n",
    "os.environ['JAX_ENABLE_X64'] = 'True'\n",
    "\n",
    "import jax\n",
    "jax.config.update('jax_enable_x64', True)\n",
    "\n",
    "import jax.numpy as jnp\n",
    "from jax import random, grad, jit, lax, jacrev\n",
    "from jax.scipy.linalg import inv, svd, eigh, det\n",
    "from jax.numpy.linalg import norm\n",
    "\n",
    "import matplotlib.pyplot as plt\n",
    "import cmocean.cm as cmo\n",
    "from tqdm.auto import tqdm\n",
    "from sklearn.datasets import make_spd_matrix\n",
    "\n",
    "import pyqg_jax\n",
    "from pyqg_jax import qg_model, state, parameterizations, steppers\n",
    "\n",
    "from jax_models import visualize_observations, Lorenz96, KuramotoSivashinsky, PyQGModel, generate_true_states, generate_localization_matrix\n",
    "from jax_filters import ensrf_steps, kalman_filter_process, ensrf_step\n",
    "from jax_vi import KL_gaussian, log_likelihood, KL_sum\n",
    "\n",
    "from functools import partial\n",
    "from jax.tree_util import Partial\n",
    "\n",
    "@jit\n",
    "def pyqg_step(x, init_state, param_model, stepped_model):\n",
    "    # Reshape x back to the model's q shape\n",
    "    q_shape = init_state.state.model_state.q.shape\n",
    "    q = x.reshape(q_shape)\n",
    "    # Create a new model state with q using state.update\n",
    "    base_state = init_state.state.model_state.update(q=q)\n",
    "    # Wrap the new model state through the parameterization\n",
    "    wrapped_in_param = param_model.initialize_param_state(base_state)\n",
    "    # Initialize the stepper state with the wrapped parameterized state\n",
    "    integrator_state = stepped_model.initialize_stepper_state(wrapped_in_param)\n",
    "    # Perform one step\n",
    "    next_state = stepped_model.step_model(integrator_state)\n",
    "    # Extract q from the next state and flatten it\n",
    "    q_next = next_state.state.model_state.q\n",
    "    x_next = q_next.reshape(-1)\n",
    "    return x_next\n",
    "    \n",
    "# models as classes\n",
    "class BaseModel:\n",
    "    def __init__(self, dt=0.01):\n",
    "        self.dt = dt\n",
    "\n",
    "    def step(self, x):\n",
    "        raise NotImplementedError(\"The step method must be implemented by subclasses.\")\n",
    "        \n",
    "class PyQGModel(BaseModel):\n",
    "    def __init__(self, dt=14400.0, nx=64, ny=64):\n",
    "        super().__init__(dt)\n",
    "        self.nx = nx\n",
    "        self.ny = ny\n",
    "        self.dt = dt\n",
    "        # self.precision = precision\n",
    "        self.base_model = qg_model.QGModel(\n",
    "            nx=nx,\n",
    "            ny=ny,\n",
    "            precision = pyqg_jax.state.Precision.DOUBLE,\n",
    "        )\n",
    "        self.param_model = parameterizations.smagorinsky.apply_parameterization(\n",
    "            self.base_model, constant=0.08,\n",
    "        )\n",
    "        self.stepper = steppers.AB3Stepper(dt=dt)\n",
    "        self.stepped_model = steppers.SteppedModel(\n",
    "            self.param_model, self.stepper\n",
    "        )\n",
    "        self.init_state = self.stepped_model.create_initial_state(jax.random.key(10))\n",
    "\n",
    "\n",
    "    def step(self, x):\n",
    "        return pyqg_step(x, self.init_state, self.param_model, self.stepped_model)\n"
   ]
  },
  {
   "cell_type": "code",
   "execution_count": 26,
   "id": "e1b02821-1247-4bd3-a3b8-224f7f1e39aa",
   "metadata": {},
   "outputs": [],
   "source": [
    "key = random.PRNGKey(0)\n",
    "num_steps = 5  # Adjust as needed\n",
    "model = PyQGModel()\n",
    "init_state = model.init_state\n",
    "qg_step = Partial(model.step)\n",
    "state_transition_function = qg_step\n",
    "\n",
    "jacobian_function = jacrev(qg_step, argnums=0)\n",
    "jac_func = Partial(jacobian_function)\n",
    "key = random.PRNGKey(0)\n",
    "\n",
    "# Extract the initial q and flatten it to create x0\n",
    "q_init = init_state.state.model_state.q\n",
    "x0 = q_init.reshape(-1)\n",
    "n = x0.shape[0]\n",
    "\n",
    "H = jnp.eye(n)\n",
    "\n",
    "\n",
    "# Process noise covariance Q\n",
    "Q = jnp.eye(n) * 1e-9   # Adjust as needed\n",
    "\n",
    "# Observation noise covariance R\n",
    "R = jnp.eye(n) * 1e-9  # Adjust as needed\n",
    "\n",
    "# Observation interval\n",
    "observation_interval = 1\n"
   ]
  },
  {
   "cell_type": "code",
   "execution_count": 27,
   "id": "5d62d523-36b6-4fa2-8fcb-f64deec0fbac",
   "metadata": {},
   "outputs": [],
   "source": [
    "observations, xs = generate_true_states(key, num_steps, n, x0, H, Q, R, qg_step, observation_interval)\n",
    "import pickle\n",
    "\n",
    "# with open('qg_500steps.pkl', 'wb') as f:\n",
    "#     pickle.dump({'observations': observations, 'xs': xs}, f)"
   ]
  },
  {
   "cell_type": "code",
   "execution_count": 30,
   "id": "632021ce-1db1-41dc-a056-9fe2a5cc2f39",
   "metadata": {},
   "outputs": [
    {
     "data": {
      "image/png": "[encoded data removed]",
      "text/plain": [
       "<Figure size 1000x500 with 4 Axes>"
      ]
     },
     "metadata": {},
     "output_type": "display_data"
    }
   ],
   "source": [
    "# Reshape the first state back to the q shape\n",
    "q_shape = q_init.shape\n",
    "q_first = xs[0].reshape(q_shape)\n",
    "import matplotlib.pyplot as plt\n",
    "\n",
    "fig, axs = plt.subplots(1, 2, figsize=(10, 5))\n",
    "for layer, ax in enumerate(axs):\n",
    "    data = q_first[layer]\n",
    "    vmax = jnp.abs(data).max()\n",
    "    ax.set_title(f\"Layer {layer}\")\n",
    "    im = ax.imshow(data, cmap='RdBu_r', vmin=-vmax, vmax=vmax)\n",
    "    plt.colorbar(im, ax=ax)\n",
    "plt.tight_layout()\n",
    "plt.show()\n"
   ]
  },
  {
   "cell_type": "code",
   "execution_count": 26,
   "id": "c253e52b-b6ef-4dec-8dc3-96fecf790876",
   "metadata": {},
   "outputs": [
    {
     "data": {
      "text/plain": [
       "Array([nan, nan, nan, ..., nan, nan, nan], dtype=float64)"
      ]
     },
     "execution_count": 26,
     "metadata": {},
     "output_type": "execute_result"
    }
   ],
   "source": [
    "xs[1]"
   ]
  },
  {
   "cell_type": "code",
   "execution_count": null,
   "id": "964179f9-a629-425a-87ff-255068303026",
   "metadata": {},
   "outputs": [],
   "source": []
  }
 ],
 "metadata": {
  "kernelspec": {
   "display_name": "Python 3 (ipykernel)",
   "language": "python",
   "name": "python3"
  },
  "language_info": {
   "codemirror_mode": {
    "name": "ipython",
    "version": 3
   },
   "file_extension": ".py",
   "mimetype": "text/x-python",
   "name": "python",
   "nbconvert_exporter": "python",
   "pygments_lexer": "ipython3",
   "version": "3.11.5"
  }
 },
 "nbformat": 4,
 "nbformat_minor": 5
}
