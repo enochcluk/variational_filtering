{
 "cells": [
  {
   "cell_type": "code",
   "execution_count": 1,
   "metadata": {
    "tags": []
   },
   "outputs": [],
   "source": [
    "# Import necessary libraries\n",
    "import jax.numpy as jnp\n",
    "from jax import random, grad, jit, lax, jacrev\n",
    "from jax.scipy.linalg import inv, svd, eigh, det\n",
    "from jax.numpy.linalg import norm\n",
    "from tqdm import tqdm\n",
    "from sklearn.datasets import make_spd_matrix\n",
    "from jax_models import visualize_observations, Lorenz96, KuramotoSivashinsky, generate_true_states, generate_gc_localization_matrix\n",
    "from jax_filters import ensrf_steps, kalman_filter_process\n",
    "import jax\n",
    "import matplotlib.pyplot as plt\n",
    "from jax.tree_util import Partial\n",
    "from functools import partial\n",
    "from jax_vi import KL_gaussian, log_likelihood, KL_sum\n",
    "\n",
    "N = 10 # number of Monte Carlo samples\n",
    "F = 8.0\n",
    "dt = 0.05\n",
    "num_steps = 250  # Number of time steps\n",
    "J0 = 0\n",
    "n = 40   # Number of state variables\n",
    "key = random.PRNGKey(0)  # Random key for reproducibility\n",
    "x0 = random.normal(key, (n,))\n",
    "initial_state  = x0\n",
    "# Noise covariances\n",
    "Q = 0.03 * jnp.eye(n)  # Process noise covariance\n",
    "R = 0.01 * jnp.eye(n)  # Observation noise covariance\n",
    "# Observation matrix (identity matrix for direct observation of all state variables)\n",
    "H = jnp.eye(n)\n",
    "\n",
    "n_ensemble = 20\n",
    "observation_interval = 1\n",
    "initial_state = random.normal(random.PRNGKey(0), (n,))  # Initial state\n",
    "m0 = initial_state\n",
    "C0 = Q\n",
    "\n",
    "\n",
    "l96_model = Lorenz96(dt = dt, F = 8)\n",
    "l96_step = Partial(l96_model.step)\n",
    "# Generate true states and observations using the Lorenz '96 model\n",
    "\n",
    "state_transition_function = l96_model.step\n",
    "\n",
    "jacobian_function = jacrev(l96_step, argnums=0)\n",
    "jac_func = Partial(jacobian_function)\n",
    "\n",
    "observations, true_states = generate_true_states(key, num_steps, n, initial_state, H, Q, R, l96_step, observation_interval)"
   ]
  },
  {
   "cell_type": "code",
   "execution_count": 4,
   "metadata": {
    "tags": []
   },
   "outputs": [],
   "source": [
    "# plt.pcolormesh(c[-1])\n",
    "# plt.colorbar()"
   ]
  },
  {
   "cell_type": "code",
   "execution_count": 11,
   "metadata": {
    "tags": []
   },
   "outputs": [],
   "source": [
    "@jit\n",
    "def var_cost(radius, inflation, model, ensemble_init, observations, H, Q, R, key, J, J0):\n",
    "    localization_matrix = generate_gc_localization_matrix(n, radius)\n",
    "    states, covariances = ensrf_steps(l96_step, n_ensemble, ensemble_init, num_steps, observations, observation_interval, H, Q, R, localization_matrix, inflation, key)\n",
    "    ensemble_mean = jnp.mean(states, axis=-1)  # Taking the mean across the ensemble members dimension\n",
    "    key, *subkeys = random.split(key, num=N+1)\n",
    "    kl_sum = KL_sum(ensemble_mean, covariances, n, model, Q, key, N)\n",
    "    def inner_map(subkey):\n",
    "        return log_likelihood(random.multivariate_normal(subkey, ensemble_mean, covariances), observations, H, R, J, J0)  # Sometimes the covariances are negative definite. Fix\n",
    "    cost = kl_sum - jnp.mean(jax.lax.map(inner_map, jnp.vstack(subkeys)))\n",
    "    print(cost)\n",
    "    return cost"
   ]
  },
  {
   "cell_type": "code",
   "execution_count": 5,
   "metadata": {},
   "outputs": [],
   "source": [
    "inflation = 1.2  # Fixed starting value for inflation\n",
    "radius_opt = 34.2\n",
    "alpha = 1e-4  # Learning rate\n",
    "key = random.PRNGKey(0)  # Random key\n",
    "N = 10  # Number of MC samples\n",
    "m0 = initial_state\n",
    "C0 = Q  # Initial covariance, assuming Q is your process noise covariance\n",
    "ensemble_init = random.multivariate_normal(key, initial_state, Q, (n_ensemble,)).T\n",
    "localization_matrix = generate_gc_localization_matrix(n, radius_opt)\n",
    "\n",
    "states, covariances = ensrf_steps(l96_step, n_ensemble, ensemble_init, num_steps, observations, observation_interval, H, Q, R, localization_matrix, inflation, key)\n",
    "# blows up at index 26"
   ]
  },
  {
   "cell_type": "code",
   "execution_count": 12,
   "metadata": {},
   "outputs": [
    {
     "ename": "NameError",
     "evalue": "name 'subkey' is not defined",
     "output_type": "error",
     "traceback": [
      "\u001b[0;31m---------------------------------------------------------------------------\u001b[0m",
      "\u001b[0;31mNameError\u001b[0m                                 Traceback (most recent call last)",
      "Cell \u001b[0;32mIn[12], line 1\u001b[0m\n\u001b[0;32m----> 1\u001b[0m var_cost(radius_opt, inflation, l96_step, ensemble_init, observations, H, Q, R, subkey, num_steps, J0)\n",
      "\u001b[0;31mNameError\u001b[0m: name 'subkey' is not defined"
     ]
    }
   ],
   "source": [
    "key, subkey = random.split(key)\n",
    "var_cost(radius_opt, inflation, l96_step, ensemble_init, observations, H, Q, R, subkey, num_steps, J0)"
   ]
  },
  {
   "cell_type": "code",
   "execution_count": 14,
   "metadata": {},
   "outputs": [],
   "source": [
    "m, C, K = kalman_filter_process(l96_step, jac_func, m0, C0, observations, H, Q, R)\n"
   ]
  },
  {
   "cell_type": "code",
   "execution_count": 15,
   "metadata": {
    "tags": []
   },
   "outputs": [
    {
     "data": {
      "application/vnd.jupyter.widget-view+json": {
       "model_id": "4a53f00a713a485393f20c71eee4a024",
       "version_major": 2,
       "version_minor": 0
      },
      "text/plain": [
       "  0%|          | 0/10 [00:00<?, ?it/s]"
      ]
     },
     "metadata": {},
     "output_type": "display_data"
    },
    {
     "name": "stdout",
     "output_type": "stream",
     "text": [
      "nan\n",
      "nan nan\n",
      "Traced<ShapedArray(float32[])>with<DynamicJaxprTrace(level=3/0)>\n",
      "nan\n",
      "nan nan\n",
      "nan\n",
      "nan nan\n",
      "nan\n",
      "nan nan\n",
      "nan\n",
      "nan nan\n",
      "nan\n",
      "nan nan\n",
      "nan\n",
      "nan nan\n",
      "nan\n",
      "nan nan\n",
      "nan\n",
      "nan nan\n",
      "nan\n",
      "nan nan\n"
     ]
    }
   ],
   "source": [
    "import properscoring\n",
    "from IPython.display import clear_output\n",
    "from jax import grad\n",
    "from tqdm.notebook import tqdm\n",
    "import jax.numpy as jnp\n",
    "from jax import random\n",
    "\n",
    "\n",
    "var_cost_grad = grad(var_cost, argnums=0)\n",
    "\n",
    "inflation = 1.2  # Fixed starting value for inflation\n",
    "radius_opt = 34.2\n",
    "alpha = 1e-4  # Learning rate\n",
    "key = random.PRNGKey(0)  # Random key\n",
    "N = 10  # Number of MC samples\n",
    "m0 = initial_state\n",
    "C0 = Q  # Initial covariance, assuming Q is your process noise covariance\n",
    "ensemble_init = random.multivariate_normal(key, initial_state, Q, (n_ensemble,)).T\n",
    "\n",
    "crpss = []\n",
    "radii = []\n",
    "rmses=[]\n",
    "\n",
    "for i in tqdm(range(10)):\n",
    "    key, subkey = random.split(key)\n",
    "        \n",
    "    # Gradient descent step for inflation parameter\n",
    "    grad_radius = var_cost_grad(radius_opt, inflation, l96_step, ensemble_init, observations, H, Q, R, subkey, num_steps, J0)\n",
    "    print(grad_radius)\n",
    "    radius_opt -= alpha * grad_radius  # Update inflation parameter\n",
    "    radii.append(radius_opt)\n",
    "    localization_matrix = generate_gc_localization_matrix(n, radius_opt)\n",
    "\n",
    "    states, _ = ensrf_steps(l96_step, n_ensemble, ensemble_init, num_steps, observations, observation_interval, H, Q, R, localization_matrix, inflation, key)\n",
    "    ensemble_mean = jnp.mean(states, axis=-1)  # Taking the mean across the ensemble members dimension\n",
    "    rmse = jnp.sqrt(jnp.mean((ensemble_mean - m)**2))\n",
    "    rmses.append(rmse)\n",
    "    crps = properscoring.crps_ensemble(m, states).mean(axis=1).mean()\n",
    "    crpss.append(crps)\n",
    "    #clear_output(wait=True)\n",
    "    \n",
    "    print(radius_opt, crps)"
   ]
  },
  {
   "cell_type": "code",
   "execution_count": 12,
   "metadata": {},
   "outputs": [
    {
     "data": {
      "image/png": "[encoded data removed]",
      "text/plain": [
       "<Figure size 1000x600 with 2 Axes>"
      ]
     },
     "metadata": {},
     "output_type": "display_data"
    }
   ],
   "source": [
    "import matplotlib.pyplot as plt\n",
    "\n",
    "fig, ax1 = plt.subplots(figsize=(10, 6))\n",
    "\n",
    "# Plotting the RMSE and CRPS on the primary y-axis\n",
    "color = 'tab:red'\n",
    "ax1.set_xlabel('Iteration')\n",
    "ax1.set_ylabel('RMSE / CRPS', color=color)\n",
    "ln1 = ax1.plot(rmses, label='RMSE', color='tab:orange', linestyle='-')\n",
    "ln2 = ax1.plot(crpss, label='CRPS', color='tab:red', linestyle='--')\n",
    "ax1.tick_params(axis='y', labelcolor=color)\n",
    "\n",
    "# Create a twin y-axis for the inflation parameter\n",
    "ax2 = ax1.twinx()\n",
    "color = 'tab:blue'\n",
    "ax2.set_ylabel('Localization Radius', color=color)\n",
    "ln3 = ax2.plot(radii, label='Radius', color=color, linestyle=':')\n",
    "ax2.tick_params(axis='y', labelcolor=color)\n",
    "\n",
    "# Combine legends from both axes\n",
    "lns = ln1 + ln2 + ln3\n",
    "labs = [l.get_label() for l in lns]\n",
    "ax1.legend(lns, labs, loc='upper right')\n",
    "\n",
    "plt.title('RMSE, CRPS, and Radius Parameter over Iterations')\n",
    "plt.show()\n"
   ]
  }
 ],
 "metadata": {
  "kernelspec": {
   "display_name": "Python 3 (ipykernel)",
   "language": "python",
   "name": "python3"
  },
  "language_info": {
   "codemirror_mode": {
    "name": "ipython",
    "version": 3
   },
   "file_extension": ".py",
   "mimetype": "text/x-python",
   "name": "python",
   "nbconvert_exporter": "python",
   "pygments_lexer": "ipython3",
   "version": "3.1.undefined"
  }
 },
 "nbformat": 4,
 "nbformat_minor": 4
}
