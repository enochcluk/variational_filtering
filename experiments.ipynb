{
 "cells": [
  {
   "cell_type": "code",
   "execution_count": null,
   "metadata": {},
   "outputs": [
    {
     "ename": "",
     "evalue": "",
     "output_type": "error",
     "traceback": [
      "\u001b[1;31mJupyter cannot be started. Error attempting to locate Jupyter: Select an Interpreter to start Jupyter\n",
      "\u001b[1;31mRun the following command to install 'jupyter and notebook' into the Python environment. \n",
      "\u001b[1;31mCommand: 'python -m pip install jupyter notebook -U\n",
      "\u001b[1;31mor\n",
      "\u001b[1;31mconda install jupyter notebook -U'\n",
      "\u001b[1;31mClick <a href='https://aka.ms/installJupyterForVSCode'>here</a> for more info."
     ]
    }
   ],
   "source": [
    "from jax_models import KuramotoSivashinsky, generate_true_states, visualize_observations\n",
    "import jax.numpy as np\n",
    "from jax import random\n",
    "\n",
    "# Initialize parameters\n",
    "num_steps = 1000  # Number of simulation steps\n",
    "n = 128  # Dimensionality of the state space for KS model\n",
    "observation_interval = 5  # Interval at which observations are made\n",
    "dt = 0.01  # Time step for the KS model\n",
    "\n",
    "# Initialize the Kuramoto-Sivashinsky model\n",
    "ks_model = KuramotoSivashinsky(dt=dt, s=n, l=22, M=16)\n",
    "\n",
    "# Initial state\n",
    "key = random.PRNGKey(0)  # Random key for reproducibility\n",
    "x0 = random.normal(key, (n,))\n",
    "initial_state  = x0\n",
    "# Noise covariances\n",
    "Q = 0.1 * np.eye(n)  # Process noise covariance\n",
    "R = 5.0 * np.eye(n)  # Observation noise covariance\n",
    "\n",
    "# Observation matrix (identity matrix for direct observation of all state variables)\n",
    "H = np.eye(n)\n",
    "\n",
    "# Generate observations\n",
    "observations, true_states = generate_true_states(key, num_steps, n, x0, Q, Q, R, ks_model.step, observation_interval, H)\n",
    "\n",
    "# Visualize the observations\n",
    "visualize_observations(observations, observation_interval)\n"
   ]
  }
 ],
 "metadata": {
  "kernelspec": {
   "display_name": "Python 3",
   "language": "python",
   "name": "python3"
  },
  "language_info": {
   "name": "python",
   "version": "2.7.0"
  }
 },
 "nbformat": 4,
 "nbformat_minor": 2
}
