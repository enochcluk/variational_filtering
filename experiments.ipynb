{
 "cells": [
  {
   "cell_type": "code",
   "execution_count": 1,
   "metadata": {
    "tags": []
   },
   "outputs": [
    {
     "data": {
      "text/plain": [
       "<module 'jax_models' from '/central/home/eluk/variational_filtering/jax_models.py'>"
      ]
     },
     "execution_count": 1,
     "metadata": {},
     "output_type": "execute_result"
    }
   ],
   "source": [
    "import importlib\n",
    "import jax_models\n",
    "from jax.scipy.linalg import inv, det, svd\n",
    "import jax.numpy as np\n",
    "from jax import random, jit\n",
    "from sklearn.datasets import make_spd_matrix\n",
    "import matplotlib.pyplot as plt\n",
    "from matplotlib.colors import LinearSegmentedColormap\n",
    "import jax\n",
    "from jax_models import visualize_observations, KuramotoSivashinsky, generate_true_states, generate_gc_localization_matrix\n",
    "from jax_filters import ensrf_steps\n",
    "importlib.reload(jax_models)"
   ]
  },
  {
   "cell_type": "code",
   "execution_count": 2,
   "metadata": {
    "tags": []
   },
   "outputs": [
    {
     "ename": "TypeError",
     "evalue": "Cannot interpret value of type <class 'method'> as an abstract array; it does not have a dtype attribute",
     "output_type": "error",
     "traceback": [
      "\u001b[0;31m---------------------------------------------------------------------------\u001b[0m",
      "\u001b[0;31mKeyError\u001b[0m                                  Traceback (most recent call last)",
      "File \u001b[0;32m~/anaconda3/lib/python3.11/site-packages/jax/_src/api_util.py:584\u001b[0m, in \u001b[0;36mshaped_abstractify\u001b[0;34m(x)\u001b[0m\n\u001b[1;32m    583\u001b[0m \u001b[38;5;28;01mtry\u001b[39;00m:\n\u001b[0;32m--> 584\u001b[0m   \u001b[38;5;28;01mreturn\u001b[39;00m _shaped_abstractify_handlers[\u001b[38;5;28mtype\u001b[39m(x)](x)\n\u001b[1;32m    585\u001b[0m \u001b[38;5;28;01mexcept\u001b[39;00m \u001b[38;5;167;01mKeyError\u001b[39;00m:\n",
      "\u001b[0;31mKeyError\u001b[0m: <class 'method'>",
      "\nDuring handling of the above exception, another exception occurred:\n",
      "\u001b[0;31mTypeError\u001b[0m                                 Traceback (most recent call last)",
      "Cell \u001b[0;32mIn[2], line 19\u001b[0m\n\u001b[1;32m     17\u001b[0m H \u001b[38;5;241m=\u001b[39m np\u001b[38;5;241m.\u001b[39meye(n)\n\u001b[1;32m     18\u001b[0m \u001b[38;5;66;03m# Generate observations\u001b[39;00m\n\u001b[0;32m---> 19\u001b[0m observations, true_states \u001b[38;5;241m=\u001b[39m generate_true_states(key, num_steps, n, x0, H, Q, R, ks_model\u001b[38;5;241m.\u001b[39mstep, observation_interval)\n\u001b[1;32m     21\u001b[0m \u001b[38;5;66;03m# Visualize the observations\u001b[39;00m\n\u001b[1;32m     22\u001b[0m visualize_observations(true_states)\n",
      "    \u001b[0;31m[... skipping hidden 6 frame]\u001b[0m\n",
      "File \u001b[0;32m~/anaconda3/lib/python3.11/site-packages/jax/_src/api_util.py:575\u001b[0m, in \u001b[0;36m_shaped_abstractify_slow\u001b[0;34m(x)\u001b[0m\n\u001b[1;32m    573\u001b[0m   dtype \u001b[38;5;241m=\u001b[39m dtypes\u001b[38;5;241m.\u001b[39mcanonicalize_dtype(x\u001b[38;5;241m.\u001b[39mdtype, allow_extended_dtype\u001b[38;5;241m=\u001b[39m\u001b[38;5;28;01mTrue\u001b[39;00m)\n\u001b[1;32m    574\u001b[0m \u001b[38;5;28;01melse\u001b[39;00m:\n\u001b[0;32m--> 575\u001b[0m   \u001b[38;5;28;01mraise\u001b[39;00m \u001b[38;5;167;01mTypeError\u001b[39;00m(\n\u001b[1;32m    576\u001b[0m       \u001b[38;5;124mf\u001b[39m\u001b[38;5;124m\"\u001b[39m\u001b[38;5;124mCannot interpret value of type \u001b[39m\u001b[38;5;132;01m{\u001b[39;00m\u001b[38;5;28mtype\u001b[39m(x)\u001b[38;5;132;01m}\u001b[39;00m\u001b[38;5;124m as an abstract array; it \u001b[39m\u001b[38;5;124m\"\u001b[39m\n\u001b[1;32m    577\u001b[0m       \u001b[38;5;124m\"\u001b[39m\u001b[38;5;124mdoes not have a dtype attribute\u001b[39m\u001b[38;5;124m\"\u001b[39m)\n\u001b[1;32m    578\u001b[0m \u001b[38;5;28;01mreturn\u001b[39;00m core\u001b[38;5;241m.\u001b[39mShapedArray(np\u001b[38;5;241m.\u001b[39mshape(x), dtype, weak_type\u001b[38;5;241m=\u001b[39mweak_type,\n\u001b[1;32m    579\u001b[0m                         named_shape\u001b[38;5;241m=\u001b[39mnamed_shape)\n",
      "\u001b[0;31mTypeError\u001b[0m: Cannot interpret value of type <class 'method'> as an abstract array; it does not have a dtype attribute"
     ]
    }
   ],
   "source": [
    "# Initialize parameters\n",
    "num_steps = 1000  # Number of simulation steps\n",
    "n = 256 # Dimensionality of the state space for KS model\n",
    "observation_interval = 5  # Interval at which observations are made\n",
    "dt = 0.25  # Time step for the KS model\n",
    "\n",
    "ks_model = KuramotoSivashinsky(dt=dt, s=n, l=22, M=16)\n",
    "\n",
    "# Initial state\n",
    "key = random.PRNGKey(0)  # Random key for reproducibility\n",
    "x0 = random.normal(key, (n,))\n",
    "initial_state  = x0\n",
    "# Noise covariances\n",
    "Q = 0.01 * np.eye(n)  # Process noise covariance\n",
    "R = 0.5 * np.eye(n)  # Observation noise covariance\n",
    "# Observation matrix (identity matrix for direct observation of all state variables)\n",
    "H = np.eye(n)\n",
    "# Generate observations\n",
    "observations, true_states = generate_true_states(key, num_steps, n, x0, H, Q, R, ks_model.step, observation_interval)\n",
    "\n",
    "# Visualize the observations\n",
    "visualize_observations(true_states)"
   ]
  },
  {
   "cell_type": "code",
   "execution_count": 4,
   "metadata": {
    "tags": []
   },
   "outputs": [
    {
     "name": "stderr",
     "output_type": "stream",
     "text": [
      "Running Trials:   0%|                                                                            | 0/10 [00:00<?, ?it/s]"
     ]
    },
    {
     "name": "stdout",
     "output_type": "stream",
     "text": [
      "Trial 0\n",
      "<class 'jaxlib.xla_extension.ArrayImpl'>\n",
      "\n",
      "Intel MKL ERROR: Parameter 4 was incorrect on entry to SLASCL.\n",
      "\n",
      "Intel MKL ERROR: Parameter 4 was incorrect on entry to SLASCL.\n"
     ]
    },
    {
     "name": "stderr",
     "output_type": "stream",
     "text": [
      "Running Trials:  10%|██████▋                                                            | 1/10 [05:02<45:22, 302.55s/it]"
     ]
    },
    {
     "name": "stdout",
     "output_type": "stream",
     "text": [
      "Trial 1\n",
      "<class 'jaxlib.xla_extension.ArrayImpl'>\n",
      "\n",
      "Intel MKL ERROR: Parameter 4 was incorrect on entry to SLASCL.\n",
      "\n",
      "Intel MKL ERROR: Parameter 4 was incorrect on entry to SLASCL.\n"
     ]
    },
    {
     "name": "stderr",
     "output_type": "stream",
     "text": [
      "Running Trials:  20%|█████████████▍                                                     | 2/10 [09:54<39:28, 296.10s/it]"
     ]
    },
    {
     "name": "stdout",
     "output_type": "stream",
     "text": [
      "Trial 2\n",
      "<class 'jaxlib.xla_extension.ArrayImpl'>\n",
      "\n",
      "Intel MKL ERROR: Parameter 4 was incorrect on entry to SLASCL.\n",
      "\n",
      "Intel MKL ERROR: Parameter 4 was incorrect on entry to SLASCL.\n"
     ]
    },
    {
     "name": "stderr",
     "output_type": "stream",
     "text": [
      "Running Trials:  30%|████████████████████                                               | 3/10 [15:21<36:13, 310.57s/it]"
     ]
    },
    {
     "name": "stdout",
     "output_type": "stream",
     "text": [
      "Trial 3\n",
      "<class 'jaxlib.xla_extension.ArrayImpl'>\n",
      "\n",
      "Intel MKL ERROR: Parameter 4 was incorrect on entry to SLASCL.\n",
      "\n",
      "Intel MKL ERROR: Parameter 4 was incorrect on entry to SLASCL.\n"
     ]
    },
    {
     "name": "stderr",
     "output_type": "stream",
     "text": [
      "Running Trials:  40%|██████████████████████████▊                                        | 4/10 [20:41<31:24, 314.06s/it]"
     ]
    },
    {
     "name": "stdout",
     "output_type": "stream",
     "text": [
      "Trial 4\n",
      "<class 'jaxlib.xla_extension.ArrayImpl'>\n",
      "\n",
      "Intel MKL ERROR: Parameter 4 was incorrect on entry to SLASCL.\n",
      "\n",
      "Intel MKL ERROR: Parameter 4 was incorrect on entry to SLASCL.\n"
     ]
    },
    {
     "name": "stderr",
     "output_type": "stream",
     "text": [
      "Running Trials:  50%|█████████████████████████████████▌                                 | 5/10 [25:46<25:53, 310.76s/it]"
     ]
    },
    {
     "name": "stdout",
     "output_type": "stream",
     "text": [
      "Trial 5\n",
      "<class 'jaxlib.xla_extension.ArrayImpl'>\n",
      "\n",
      "Intel MKL ERROR: Parameter 4 was incorrect on entry to SLASCL.\n",
      "\n",
      "Intel MKL ERROR: Parameter 4 was incorrect on entry to SLASCL.\n"
     ]
    },
    {
     "name": "stderr",
     "output_type": "stream",
     "text": [
      "Running Trials:  60%|████████████████████████████████████████▏                          | 6/10 [30:43<20:24, 306.17s/it]"
     ]
    },
    {
     "name": "stdout",
     "output_type": "stream",
     "text": [
      "Trial 6\n",
      "<class 'jaxlib.xla_extension.ArrayImpl'>\n",
      "\n",
      "Intel MKL ERROR: Parameter 4 was incorrect on entry to SLASCL.\n",
      "\n",
      "Intel MKL ERROR: Parameter 4 was incorrect on entry to SLASCL.\n"
     ]
    },
    {
     "name": "stderr",
     "output_type": "stream",
     "text": [
      "Running Trials:  70%|██████████████████████████████████████████████▉                    | 7/10 [35:39<15:08, 302.91s/it]"
     ]
    },
    {
     "name": "stdout",
     "output_type": "stream",
     "text": [
      "Trial 7\n",
      "<class 'jaxlib.xla_extension.ArrayImpl'>\n",
      "\n",
      "Intel MKL ERROR: Parameter 4 was incorrect on entry to SLASCL.\n",
      "\n",
      "Intel MKL ERROR: Parameter 4 was incorrect on entry to SLASCL.\n"
     ]
    },
    {
     "name": "stderr",
     "output_type": "stream",
     "text": [
      "Running Trials:  80%|█████████████████████████████████████████████████████▌             | 8/10 [40:48<10:09, 304.77s/it]"
     ]
    },
    {
     "name": "stdout",
     "output_type": "stream",
     "text": [
      "Trial 8\n",
      "<class 'jaxlib.xla_extension.ArrayImpl'>\n",
      "\n",
      "Intel MKL ERROR: Parameter 4 was incorrect on entry to SLASCL.\n",
      "\n",
      "Intel MKL ERROR: Parameter 4 was incorrect on entry to SLASCL.\n"
     ]
    },
    {
     "name": "stderr",
     "output_type": "stream",
     "text": [
      "Running Trials:  90%|████████████████████████████████████████████████████████████▎      | 9/10 [45:38<05:00, 300.12s/it]"
     ]
    },
    {
     "name": "stdout",
     "output_type": "stream",
     "text": [
      "Trial 9\n",
      "<class 'jaxlib.xla_extension.ArrayImpl'>\n",
      "\n",
      "Intel MKL ERROR: Parameter 4 was incorrect on entry to SLASCL.\n",
      "\n",
      "Intel MKL ERROR: Parameter 4 was incorrect on entry to SLASCL.\n"
     ]
    },
    {
     "name": "stderr",
     "output_type": "stream",
     "text": [
      "Running Trials: 100%|██████████████████████████████████████████████████████████████████| 10/10 [50:30<00:00, 303.00s/it]\n"
     ]
    }
   ],
   "source": [
    "import pickle\n",
    "import os\n",
    "from datetime import datetime\n",
    "from tqdm import tqdm\n",
    "\n",
    "radii = [2,5, 10, 50, 100]\n",
    "inflations = [1.0, 1.05, 1.1, 1.2, 1.3, 1.5]\n",
    "num_trials = 10\n",
    "ensemble_sizes = [30,40]\n",
    "\n",
    "n = ks_model.s\n",
    "num_steps = 1000  # Total number of time steps\n",
    "observation_interval = 5  # Observation is available every 5 time steps\n",
    "\n",
    "# Initialize random key for reproducibility\n",
    "key = random.PRNGKey(0)\n",
    "\n",
    "# Process noise covariance and Observation noise covariance\n",
    "Q = 0.01 * np.eye(n)\n",
    "R = 0.5 * np.eye(n)\n",
    "# Observation matrix (identity matrix for direct observation of all state variables)\n",
    "H = np.eye(n)\n",
    "\n",
    "# Initial state\n",
    "initial_state = random.normal(key, (n,))\n",
    "\n",
    "# Initialize data structures for results\n",
    "std_errors = {(radius, inflation, n_ensemble): [] for radius in radii for inflation in inflations for n_ensemble in ensemble_sizes}\n",
    "errors = {(radius, inflation, n_ensemble): [] for radius in radii for inflation in inflations for n_ensemble in ensemble_sizes}\n",
    "\n",
    "for trial in tqdm(range(num_trials), desc=\"Running Trials\"):\n",
    "    print(f\"Trial {trial}\")\n",
    "    observations, true_states = generate_true_states(key, num_steps, n, initial_state, H, Q, R, ks_model.step, observation_interval)\n",
    "\n",
    "    for radius in radii:\n",
    "        local_mat = generate_gc_localization_matrix(n, radius)\n",
    "        for inflation in inflations:\n",
    "            for n_ensemble in ensemble_sizes:\n",
    "                ensemble_init = random.multivariate_normal(key, initial_state, Q, (n_ensemble,)).T\n",
    "                states = ensrf_steps(ks_model.step, n_ensemble, ensemble_init, num_steps, observations, observation_interval, H, Q, R, local_mat, inflation)\n",
    "                average_state = np.mean(states, axis=2)  # Calculate the mean along the ensemble dimension\n",
    "                error = np.sqrt(np.mean((average_state - true_states) ** 2, axis=1))\n",
    "                errors[(radius, inflation, n_ensemble)].append(error)\n",
    "                std_dev = np.std(states, axis=(1, 2))  # Standard deviation across all ensemble members and state dimensions\n",
    "                std_errors[(radius, inflation, n_ensemble)].append(std_dev)\n",
    "\n",
    "# Preparing data for saving\n",
    "all_data = {\n",
    "    'std_errors': std_errors,\n",
    "    'errors': errors,\n",
    "    'parameters': {\n",
    "        'radii': radii,\n",
    "        'inflations': inflations,\n",
    "        'ensemble_sizes': ensemble_sizes,\n",
    "        'num_trials': num_trials,\n",
    "        'filter_params': (H,Q,R, observation_interval, num_steps)\n",
    "    }\n",
    "}\n",
    "\n",
    "# File saving path\n",
    "directory = '/central/home/eluk/variational_filtering/experiment_data/'\n",
    "filename = f'ks_experiment_{datetime.now().strftime(\"%Y-%m-%d_%H-%M-%S\")}.pkl'\n",
    "file_path = os.path.join(directory, filename)\n",
    "\n",
    "with open(file_path, 'wb') as f:\n",
    "    pickle.dump(all_data, f)"
   ]
  },
  {
   "cell_type": "code",
   "execution_count": null,
   "metadata": {
    "tags": []
   },
   "outputs": [
    {
     "ename": "",
     "evalue": "",
     "output_type": "error",
     "traceback": [
      "\u001b[1;31mJupyter cannot be started. Error attempting to locate Jupyter: Running cells with '/bin/python3' requires the jupyter and notebook package.\n",
      "\u001b[1;31mRun the following command to install 'jupyter and notebook' into the Python environment. \n",
      "\u001b[1;31mCommand: 'python -m pip install jupyter notebook -U\n",
      "\u001b[1;31mor\n",
      "\u001b[1;31mconda install jupyter notebook -U'\n",
      "\u001b[1;31mClick <a href='https://aka.ms/installJupyterForVSCode'>here</a> for more info."
     ]
    }
   ],
   "source": [
    "# File saving path\n",
    "directory = '/central/home/eluk/variational_filtering/experiment_data/'\n",
    "filename = f'ks_experiment_{datetime.now().strftime(\"%Y-%m-%d_%H-%M-%S\")}.pkl'\n",
    "file_path = os.path.join(directory, filename)\n",
    "\n",
    "with open(file_path, 'wb') as f:\n",
    "    pickle.dump(all_data, f)"
   ]
  },
  {
   "cell_type": "code",
   "execution_count": null,
   "metadata": {},
   "outputs": [],
   "source": []
  },
  {
   "cell_type": "code",
   "execution_count": null,
   "metadata": {},
   "outputs": [],
   "source": []
  }
 ],
 "metadata": {
  "kernelspec": {
   "display_name": "Python 3 (ipykernel)",
   "language": "python",
   "name": "python3"
  },
  "language_info": {
   "codemirror_mode": {
    "name": "ipython",
    "version": 3
   },
   "file_extension": ".py",
   "mimetype": "text/x-python",
   "name": "python",
   "nbconvert_exporter": "python",
   "pygments_lexer": "ipython3",
   "version": "3.11.5"
  }
 },
 "nbformat": 4,
 "nbformat_minor": 4
}
