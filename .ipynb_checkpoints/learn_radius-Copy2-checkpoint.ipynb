{
 "cells": [
  {
   "cell_type": "code",
   "execution_count": 1,
   "metadata": {
    "tags": []
   },
   "outputs": [],
   "source": [
    "# Import necessary libraries\n",
    "import jax.numpy as jnp\n",
    "from jax import random, grad, jit, lax, jacrev\n",
    "from jax.scipy.linalg import inv, svd, eigh, det\n",
    "from jax.numpy.linalg import norm\n",
    "from tqdm.auto import tqdm\n",
    "from sklearn.datasets import make_spd_matrix\n",
    "from jax_models import visualize_observations, Lorenz96, KuramotoSivashinsky, generate_true_states, generate_localization_matrix\n",
    "from jax_filters import ensrf_steps, kalman_filter_process, ensrf_step\n",
    "import jax\n",
    "import matplotlib.pyplot as plt\n",
    "from jax.tree_util import Partial\n",
    "from functools import partial\n",
    "from jax_vi import KL_gaussian, log_likelihood, KL_sum\n",
    "jax.config.update(\"jax_enable_x64\", True)\n",
    "#jax.config.update(\"jax_debug_nans\", True)\n",
    "\n",
    "N = 10 # number of Monte Carlo samples\n",
    "F = 8.0\n",
    "dt = 0.05\n",
    "num_steps = 250  # Number of time steps\n",
    "J0 = 0\n",
    "n = 40   # Number of state variables\n",
    "key = random.PRNGKey(0)  # Random key for reproducibility\n",
    "x0 = random.normal(key, (n,))\n",
    "initial_state  = x0\n",
    "# Noise covariances\n",
    "Q = 0.03 * jnp.eye(n)  # Process noise covariance\n",
    "R = 0.5 * jnp.eye(n)  # Observation noise covariance\n",
    "# Observation matrix (identity matrix for direct observation of all state variables)\n",
    "H = jnp.eye(n)\n",
    "\n",
    "n_ensemble = 5\n",
    "observation_interval = 1\n",
    "initial_state = random.normal(random.PRNGKey(0), (n,))  # Initial state\n",
    "m0 = initial_state\n",
    "C0 = Q\n",
    "\n",
    "\n",
    "l96_model = Lorenz96(dt = dt, F = 8)\n",
    "l96_step = Partial(l96_model.step)\n",
    "# Generate true states and observations using the Lorenz '96 model\n",
    "\n",
    "state_transition_function = l96_model.step\n",
    "\n",
    "jacobian_function = jacrev(l96_step, argnums=0)\n",
    "jac_func = Partial(jacobian_function)\n",
    "\n",
    "observations, true_states = generate_true_states(key, num_steps, n, initial_state, H, Q, R, l96_step, observation_interval)"
   ]
  },
  {
   "cell_type": "code",
   "execution_count": 2,
   "metadata": {
    "tags": []
   },
   "outputs": [],
   "source": [
    "@jit\n",
    "def var_cost(radius, inflation, model, ensemble_init, observations, H, Q, R, key, J, J0):\n",
    "    localization_matrix = generate_localization_matrix(n, radius)\n",
    "    states, covariances = ensrf_steps(l96_step, n_ensemble, ensemble_init, num_steps, observations, observation_interval, H, Q, R, localization_matrix, inflation, key)\n",
    "    ensemble_mean = jnp.mean(states, axis=-1)  # Taking the mean across the ensemble members dimension\n",
    "    key, *subkeys = random.split(key, num=N+1)\n",
    "    kl_sum = KL_sum(ensemble_mean, covariances, n, model, Q, key, N)\n",
    "    def inner_map(subkey):\n",
    "        return log_likelihood(random.multivariate_normal(subkey, ensemble_mean, covariances), observations, H, R, J, J0)  # Sometimes the covariances are negative definite. Fix\n",
    "    cost = kl_sum - jnp.mean(jax.lax.map(inner_map, jnp.vstack(subkeys)))\n",
    "    return cost"
   ]
  },
  {
   "cell_type": "code",
   "execution_count": 3,
   "metadata": {
    "tags": []
   },
   "outputs": [],
   "source": [
    "inflation = 1.5  # Fixed starting value for inflation\n",
    "radius_opt = 1.0\n",
    "alpha = 1e-4  # Learning rate\n",
    "key = random.PRNGKey(0)  # Random key\n",
    "N = 10  # Number of MC samples\n",
    "m0 = initial_state\n",
    "C0 = Q  # Initial covariance, assuming Q is your process noise covariance\n",
    "ensemble_init = random.multivariate_normal(key, initial_state, Q, (n_ensemble,)).T\n",
    "localization_matrix = generate_localization_matrix(n, radius_opt)\n",
    "\n",
    "states, covariances = ensrf_steps(l96_step, n_ensemble, ensemble_init, num_steps, observations, observation_interval, H, Q, R, localization_matrix, inflation, key)\n"
   ]
  },
  {
   "cell_type": "code",
   "execution_count": 40,
   "metadata": {
    "tags": []
   },
   "outputs": [
    {
     "data": {
      "text/plain": [
       "Array(119137.01306575, dtype=float64)"
      ]
     },
     "execution_count": 40,
     "metadata": {},
     "output_type": "execute_result"
    }
   ],
   "source": [
    "key, subkey = random.split(key)\n",
    "var_cost(radius_opt, inflation, l96_step, ensemble_init, observations, H, Q, R, subkey, num_steps, J0)"
   ]
  },
  {
   "cell_type": "code",
   "execution_count": 16,
   "metadata": {
    "tags": []
   },
   "outputs": [
    {
     "name": "stdout",
     "output_type": "stream",
     "text": [
      "(Array(25045.32123712, dtype=float64), Array(-8381.46181025, dtype=float64))\n"
     ]
    }
   ],
   "source": [
    "print(jax.value_and_grad(var_cost) (radius_opt, inflation, l96_step, ensemble_init, observations, H, Q, R, subkey, num_steps, J0))"
   ]
  },
  {
   "cell_type": "code",
   "execution_count": 42,
   "metadata": {},
   "outputs": [
    {
     "data": {
      "text/plain": [
       "(40, 5)"
      ]
     },
     "execution_count": 42,
     "metadata": {},
     "output_type": "execute_result"
    }
   ],
   "source": [
    "ensemble_init.shape"
   ]
  },
  {
   "cell_type": "code",
   "execution_count": null,
   "metadata": {},
   "outputs": [],
   "source": [
    "import jax.numpy as jnp\n",
    "import matplotlib.pyplot as plt\n",
    "from mpl_toolkits.mplot3d import Axes3D \n",
    "\n",
    "n_ensemble = 5\n",
    "ensemble_init = random.multivariate_normal(key, initial_state, Q, (n_ensemble,)).T\n",
    "\n",
    "radius_range = jnp.arange(1, 41, 1)  \n",
    "inflation_range = jnp.linspace(1.01, 1.9, 90) \n",
    "\n",
    "radius_values, inflation_values, cost_values = [], [], []\n",
    "\n",
    "# Compute the cost for each combination of radius_opt and inflation\n",
    "for radius_opt in radius_range:\n",
    "    for infl in inflation_range:\n",
    "        key, subkey = random.split(key)\n",
    "        cost = var_cost(radius_opt, infl, l96_step, ensemble_init, observations, H, Q, R, subkey, num_steps, J0)\n",
    "        radius_values.append(radius_opt)\n",
    "        inflation_values.append(infl)\n",
    "        cost_values.append(cost)\n",
    "\n",
    "radius_values = jnp.array(radius_values)\n",
    "inflation_values = jnp.array(inflation_values)\n",
    "cost_values = jnp.array(cost_values)\n",
    "\n",
    "fig = plt.figure(figsize=(12, 8))\n",
    "ax = fig.add_subplot(111, projection='3d')\n",
    "\n",
    "scat = ax.scatter(radius_values, inflation_values, cost_values, c=cost_values, cmap='viridis')\n",
    "ax.set_xlabel('Radius')\n",
    "ax.set_ylabel('Inflation')\n",
    "ax.set_zlabel('Cost')\n",
    "ax.set_title('Cost Surface Across Radius and Inflation')\n",
    "\n",
    "cbar = fig.colorbar(scat, ax=ax, pad=0.1)\n",
    "cbar.set_label('Cost')\n",
    "\n",
    "plt.show()\n"
   ]
  },
  {
   "cell_type": "code",
   "execution_count": 18,
   "metadata": {
    "tags": []
   },
   "outputs": [
    {
     "data": {
      "text/plain": [
       "Array(-1160.53889697, dtype=float64)"
      ]
     },
     "execution_count": 18,
     "metadata": {},
     "output_type": "execute_result"
    }
   ],
   "source": [
    "var_cost_grad = grad(var_cost, argnums=0)\n",
    "\n",
    "var_cost_grad(radius_opt, inflation, l96_step, ensemble_init, observations, H, Q, R, subkey, num_steps, J0)\n"
   ]
  },
  {
   "cell_type": "code",
   "execution_count": 19,
   "metadata": {
    "tags": []
   },
   "outputs": [],
   "source": [
    "base_m, base_C, base_K = kalman_filter_process(l96_step, jac_func, m0, C0, observations, H, Q, R)\n"
   ]
  },
  {
   "cell_type": "code",
   "execution_count": 21,
   "metadata": {
    "tags": []
   },
   "outputs": [
    {
     "data": {
      "application/vnd.jupyter.widget-view+json": {
       "model_id": "49199308c5044921a69a8edff25cd0c1",
       "version_major": 2,
       "version_minor": 0
      },
      "text/plain": [
       "  0%|          | 0/100 [00:00<?, ?it/s]"
      ]
     },
     "metadata": {},
     "output_type": "display_data"
    },
    {
     "ename": "NameError",
     "evalue": "name 'generate_gc_localization_matrix' is not defined",
     "output_type": "error",
     "traceback": [
      "\u001b[0;31m---------------------------------------------------------------------------\u001b[0m",
      "\u001b[0;31mNameError\u001b[0m                                 Traceback (most recent call last)",
      "Cell \u001b[0;32mIn[21], line 33\u001b[0m\n\u001b[1;32m     31\u001b[0m radius_opt \u001b[38;5;241m-\u001b[39m\u001b[38;5;241m=\u001b[39m alpha \u001b[38;5;241m*\u001b[39m grad_radius  \u001b[38;5;66;03m# Update inflation parameter\u001b[39;00m\n\u001b[1;32m     32\u001b[0m radii\u001b[38;5;241m.\u001b[39mappend(radius_opt)\n\u001b[0;32m---> 33\u001b[0m localization_matrix \u001b[38;5;241m=\u001b[39m generate_gc_localization_matrix(n, radius_opt)\n\u001b[1;32m     35\u001b[0m states, _ \u001b[38;5;241m=\u001b[39m ensrf_steps(l96_step, n_ensemble, ensemble_init, num_steps, observations, observation_interval, H, Q, R, localization_matrix, inflation, key)\n\u001b[1;32m     36\u001b[0m ensemble_mean \u001b[38;5;241m=\u001b[39m jnp\u001b[38;5;241m.\u001b[39mmean(states, axis\u001b[38;5;241m=\u001b[39m\u001b[38;5;241m-\u001b[39m\u001b[38;5;241m1\u001b[39m)  \u001b[38;5;66;03m# Taking the mean across the ensemble members dimension\u001b[39;00m\n",
      "\u001b[0;31mNameError\u001b[0m: name 'generate_gc_localization_matrix' is not defined"
     ]
    }
   ],
   "source": [
    "import properscoring\n",
    "from IPython.display import clear_output\n",
    "from jax import grad\n",
    "from tqdm.notebook import tqdm\n",
    "import jax.numpy as jnp\n",
    "from jax import random\n",
    "\n",
    "\n",
    "var_cost_grad = grad(var_cost, argnums=0)\n",
    "\n",
    "inflation = 1.05  # Fixed starting value for inflation\n",
    "radius_opt = 16.0\n",
    "alpha = 1e-1  # Learning rate\n",
    "key = random.PRNGKey(0)  # Random key\n",
    "N = 10  # Number of MC samples\n",
    "m0 = initial_state\n",
    "C0 = Q  # Initial covariance, assuming Q is your process noise covariance\n",
    "ensemble_init = random.multivariate_normal(key, initial_state, Q, (n_ensemble,)).T\n",
    "\n",
    "crpss = []\n",
    "radii = []\n",
    "rmses=[]\n",
    "true_div = []\n",
    "\n",
    "\n",
    "for i in tqdm(range(100)):\n",
    "    key, subkey = random.split(key)\n",
    "        \n",
    "    # Gradient descent step for inflation parameter\n",
    "    grad_radius = var_cost_grad(radius_opt, inflation, l96_step, ensemble_init, observations, H, Q, R, subkey, num_steps, J0)\n",
    "    radius_opt -= alpha * grad_radius  # Update inflation parameter\n",
    "    radii.append(radius_opt)\n",
    "    localization_matrix = generate_gc_localization_matrix(n, radius_opt)\n",
    "\n",
    "    states, _ = ensrf_steps(l96_step, n_ensemble, ensemble_init, num_steps, observations, observation_interval, H, Q, R, localization_matrix, inflation, key)\n",
    "    ensemble_mean = jnp.mean(states, axis=-1)  # Taking the mean across the ensemble members dimension\n",
    "    rmse = jnp.sqrt(jnp.mean((ensemble_mean - true_states)**2))\n",
    "    print(radius_opt, grad_radius, rmse)\n",
    "    rmses.append(rmse)\n",
    "    crps = properscoring.crps_ensemble(true_states, states).mean(axis=1).mean()\n",
    "    crpss.append(crps)\n",
    "    total_kl_divergence = 0\n",
    "    for t in range(num_steps):  \n",
    "        kl_div_t = KL_gaussian(n, predicted_states[t], covariances[t],  base_m[t], base_C[t])\n",
    "        total_kl_divergence += kl_div_t \n",
    "    true_div.append(total_kl_divergence / num_steps)\n",
    "    "
   ]
  },
  {
   "cell_type": "code",
   "execution_count": null,
   "metadata": {
    "tags": []
   },
   "outputs": [],
   "source": [
    "plt.plot(radii)"
   ]
  },
  {
   "cell_type": "code",
   "execution_count": null,
   "metadata": {
    "tags": []
   },
   "outputs": [],
   "source": [
    "plt.plot(rmses)"
   ]
  },
  {
   "cell_type": "code",
   "execution_count": null,
   "metadata": {},
   "outputs": [],
   "source": [
    "import matplotlib.pyplot as plt\n",
    "\n",
    "fig, ax1 = plt.subplots(figsize=(10, 6))\n",
    "\n",
    "# Plotting the RMSE and CRPS on the primary y-axis\n",
    "color = 'tab:red'\n",
    "ax1.set_xlabel('Iteration')\n",
    "ax1.set_ylabel('RMSE / CRPS', color=color)\n",
    "ln1 = ax1.plot(rmses, label='RMSE', color='tab:orange', linestyle='-')\n",
    "ln2 = ax1.plot(crpss, label='CRPS', color='tab:red', linestyle='--')\n",
    "ax1.tick_params(axis='y', labelcolor=color)\n",
    "\n",
    "# Create a twin y-axis for the inflation parameter\n",
    "ax2 = ax1.twinx()\n",
    "color = 'tab:blue'\n",
    "ax2.set_ylabel('Localization Radius', color=color)\n",
    "ln3 = ax2.plot(radii, label='Radius', color=color, linestyle=':')\n",
    "ax2.tick_params(axis='y', labelcolor=color)\n",
    "\n",
    "# Combine legends from both axes\n",
    "lns = ln1 + ln2 + ln3\n",
    "labs = [l.get_label() for l in lns]\n",
    "ax1.legend(lns, labs, loc='upper right')\n",
    "\n",
    "plt.title('RMSE, CRPS, and Radius Parameter over Iterations')\n",
    "plt.show()\n"
   ]
  },
  {
   "cell_type": "code",
   "execution_count": 13,
   "metadata": {
    "tags": []
   },
   "outputs": [
    {
     "data": {
      "image/png": "[encoded data removed]",
      "text/plain": [
       "<Figure size 640x480 with 1 Axes>"
      ]
     },
     "metadata": {},
     "output_type": "display_data"
    }
   ],
   "source": [
    "plt.plot([3, 6, 12, 25, 50, 100, 200], [2.3, 5.75, 7.8, 11.6, 16, 26.8, 44.2])\n",
    "plt.xlabel(\"Ensemble size\")\n",
    "plt.ylabel(\"Optimal localization radius\")\n",
    "plt.savefig(\"localization_radii.pdf\")"
   ]
  },
  {
   "cell_type": "code",
   "execution_count": null,
   "metadata": {},
   "outputs": [],
   "source": []
  }
 ],
 "metadata": {
  "kernelspec": {
   "display_name": "Python 3 (ipykernel)",
   "language": "python",
   "name": "python3"
  },
  "language_info": {
   "codemirror_mode": {
    "name": "ipython",
    "version": 3
   },
   "file_extension": ".py",
   "mimetype": "text/x-python",
   "name": "python",
   "nbconvert_exporter": "python",
   "pygments_lexer": "ipython3",
   "version": "3.11.5"
  }
 },
 "nbformat": 4,
 "nbformat_minor": 4
}
