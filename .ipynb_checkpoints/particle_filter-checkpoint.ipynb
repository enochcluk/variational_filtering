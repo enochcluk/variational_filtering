{
 "cells": [
  {
   "cell_type": "code",
   "execution_count": 26,
   "id": "53b54759-8969-40b2-a85d-b0aac3acb5fa",
   "metadata": {},
   "outputs": [],
   "source": [
    "import jax.numpy as jnp\n",
    "from jax import random, grad, jit, jacrev\n",
    "from jax.scipy.linalg import inv, svd, eigh, det\n",
    "from jax_models import visualize_observations, Lorenz96, generate_true_states, generate_gc_localization_matrix\n",
    "from jax_filters import ensrf_steps, kalman_filter_process\n",
    "\n",
    "from jax.lax import scan\n",
    "import jax\n",
    "from scipy.linalg import solve_discrete_are\n",
    "from tqdm import tqdm\n",
    "import matplotlib.pyplot as plt\n",
    "from jax.tree_util import Partial\n",
    "\n",
    "\n",
    "N = 10 # number of Monte Carlo samples\n",
    "F = 8.0\n",
    "dt = 0.05\n",
    "num_steps = 250  # Number of time steps\n",
    "J0 = 0\n",
    "n = 40   # Number of state variables\n",
    "key = random.PRNGKey(0)  # Random key for reproducibility\n",
    "x0 = random.normal(key, (n,))\n",
    "initial_state  = x0\n",
    "# Noise covariances\n",
    "Q = 0.03 * jnp.eye(n)  # Process noise covariance\n",
    "R = 0.01 * jnp.eye(n)  # Observation noise covariance\n",
    "# Observation matrix (identity matrix for direct observation of all state variables)\n",
    "H = jnp.eye(n)\n",
    "\n",
    "n_ensemble = 20\n",
    "observation_interval = 1\n",
    "initial_state = random.normal(random.PRNGKey(0), (n,))  # Initial state\n",
    "m0 = initial_state\n",
    "C0 = Q\n",
    "\n",
    "\n",
    "l96_model = Lorenz96(dt = dt, F = 8)\n",
    "l96_step = Partial(l96_model.step)\n",
    "# Generate true states and observations using the Lorenz '96 model\n",
    "\n",
    "jacobian_function = jacrev(l96_step, argnums=0)\n",
    "jac_func = Partial(jacobian_function)\n",
    "state_transition_function = l96_model.step\n",
    "\n",
    "observations, true_states = generate_true_states(key, num_steps, n, initial_state, H, Q, R, l96_step, observation_interval)\n",
    "\n"
   ]
  },
  {
   "cell_type": "code",
   "execution_count": 23,
   "id": "e861faf6-d75d-447d-a767-ebaa1256a1b4",
   "metadata": {},
   "outputs": [],
   "source": [
    "def systematic_resample(weights, key):\n",
    "    \"\"\"Perform systematic resampling from the weight vector.\"\"\"\n",
    "    num_particles = weights.shape[0]\n",
    "    positions = (random.uniform(key, (1,)) + jnp.arange(num_particles)) / num_particles\n",
    "    indexes = jnp.zeros(num_particles, dtype=jnp.int32)\n",
    "    cumulative_sum = jnp.cumsum(weights)\n",
    "    i, j = 0, 0\n",
    "    while i < num_particles:\n",
    "        while positions[i] >= cumulative_sum[j]:\n",
    "            j += 1\n",
    "        indexes = indexes.at[i].set(j)\n",
    "        i += 1\n",
    "    return indexes\n",
    "\n",
    "    \n",
    "def particle_filter_step(particles, weights, state_transition_function, observation, H, Q, R, key):\n",
    "    key, noise_key, obs_noise_key = random.split(key, 3)\n",
    "    model_vmap = jax.vmap(state_transition_function)\n",
    "    particles = model_vmap(particles)\n",
    "    process_noise = random.multivariate_normal(noise_key, jnp.zeros(particles.shape[1]), Q, shape=(particles.shape[0],))\n",
    "    particles = particles + process_noise\n",
    "    predicted_observations = jnp.dot(particles, H.T)\n",
    "\n",
    "    observation_noise = random.multivariate_normal(obs_noise_key, jnp.zeros(predicted_observations.shape[1]), R, shape=(predicted_observations.shape[0],))\n",
    "    predicted_observations = predicted_observations + observation_noise\n",
    "\n",
    "    # Update weights based on observation likelihood\n",
    "    likelihoods = jnp.exp(-0.5 * jnp.sum((predicted_observations - observation) ** 2 / jnp.diag(R), axis=1))\n",
    "    weights *= likelihoods\n",
    "    weights /= jnp.sum(weights)  # Normalize weights\n",
    "\n",
    "    # Systematic resampling\n",
    "    resampled_indices = systematic_resample(weights, key)\n",
    "    particles = particles[resampled_indices]\n",
    "    weights = jnp.ones_like(weights) / particles.shape[0]  # Reset weights\n",
    "\n",
    "    return particles, weights\n",
    "\n",
    "\n",
    "\n"
   ]
  },
  {
   "cell_type": "code",
   "execution_count": 31,
   "id": "d4268b7f-3957-43f3-bf48-d3f65a7c8f75",
   "metadata": {},
   "outputs": [],
   "source": [
    "num_particles = 100\n",
    "n = x0.shape[0] \n",
    "particles = random.multivariate_normal(key, jnp.zeros(40), Q, shape=(num_particles,))\n",
    "weights = jnp.ones(num_particles) / num_particles\n",
    "\n",
    "observations, true_states = generate_true_states(key, num_steps, n, x0, H, Q, R, l96_step, observation_interval)\n",
    "\n",
    "for observation in observations:\n",
    "    key, subkey = random.split(key)\n",
    "    particles, weights = particle_filter_step(particles, weights, l96_step, observation, H, Q, R, subkey)\n"
   ]
  },
  {
   "cell_type": "code",
   "execution_count": null,
   "id": "890093e1-ab78-4c58-9927-522897ea4172",
   "metadata": {},
   "outputs": [],
   "source": [
    "\n",
    "observations, true_states = generate_true_states(key, num_steps, n, x0, H, Q, R, l96_step, observation_interval)\n",
    "\n",
    "num_particles = 100\n",
    "particles = random.multivariate_normal(key, jnp.zeros(n), Q, shape=(num_particles,))\n",
    "weights = jnp.ones(num_particles) / num_particles\n",
    "\n",
    "m_kf, C_kf, K_kf = kalman_filter_process(l96_step, jac_func, x0, Q, observations, H, Q, R)\n",
    "\n",
    "m_pf = []\n",
    "for observation in observations:\n",
    "    key, subkey = random.split(key)\n",
    "    particles, weights = particle_filter_step(particles, weights, l96_step, observation, H, Q, R, subkey)\n",
    "    m_pf.append(jnp.mean(particles, axis=0))  # Estimate mean from particles\n",
    "\n",
    "m_pf = jnp.array(m_pf)\n",
    "\n",
    "# Calculate RMSE for Kalman filter and Particle filter\n",
    "rmse_kf = jnp.sqrt(jnp.mean((m_kf - true_states) ** 2))\n",
    "rmse_pf = jnp.sqrt(jnp.mean((m_pf - true_states) ** 2))\n",
    "\n",
    "print(f\"RMSE Kalman Filter: {rmse_kf}\")\n",
    "print(f\"RMSE Particle Filter: {rmse_pf}\")\n"
   ]
  },
  {
   "cell_type": "code",
   "execution_count": 30,
   "id": "d90ac57f-48a5-4415-bf7b-b1f6825e4b6c",
   "metadata": {},
   "outputs": [
    {
     "data": {
      "text/plain": [
       "(40, 100)"
      ]
     },
     "execution_count": 30,
     "metadata": {},
     "output_type": "execute_result"
    }
   ],
   "source": [
    "particles.shape"
   ]
  },
  {
   "cell_type": "code",
   "execution_count": null,
   "id": "4373fd35-a57c-4acb-a1dd-e8cbd4516a76",
   "metadata": {},
   "outputs": [],
   "source": []
  }
 ],
 "metadata": {
  "kernelspec": {
   "display_name": "Python 3 (ipykernel)",
   "language": "python",
   "name": "python3"
  },
  "language_info": {
   "codemirror_mode": {
    "name": "ipython",
    "version": 3
   },
   "file_extension": ".py",
   "mimetype": "text/x-python",
   "name": "python",
   "nbconvert_exporter": "python",
   "pygments_lexer": "ipython3",
   "version": "3.11.5"
  }
 },
 "nbformat": 4,
 "nbformat_minor": 5
}
