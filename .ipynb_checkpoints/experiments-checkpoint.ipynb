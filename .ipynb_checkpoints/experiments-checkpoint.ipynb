{
 "cells": [
  {
   "cell_type": "code",
   "execution_count": 19,
   "metadata": {
    "tags": []
   },
   "outputs": [],
   "source": [
    "import importlib\n",
    "import jax_models\n",
    "from jax_models import KuramotoSivashinsky, generate_true_states, visualize_observations\n",
    "importlib.reload(jax_models)\n",
    "\n",
    "import jax.numpy as np\n",
    "from jax import random"
   ]
  },
  {
   "cell_type": "code",
   "execution_count": 17,
   "metadata": {
    "tags": []
   },
   "outputs": [
    {
     "name": "stdout",
     "output_type": "stream",
     "text": [
      "<bound method KuramotoSivashinsky.step of <jax_models.KuramotoSivashinsky object at 0x7eff60c30590>>\n",
      "[-0.5338914   0.8417911   0.8115571   0.05308708  0.72478807 -0.5391156\n",
      " -0.21932149  0.5509203   0.16972555  1.1971722  -1.0609422   0.28213271\n",
      " -1.0543169   1.0187539  -0.42167255 -2.5889838   0.3031899  -0.7655693\n",
      "  1.3062729  -0.7149365  -0.18686387 -1.8082983  -0.46174228  0.17252915\n",
      "  0.43107846  0.2948003  -0.8942256  -0.30150604  0.27695706 -1.4905776\n",
      " -0.5799751   0.9487235 ]\n"
     ]
    },
    {
     "ename": "TypeError",
     "evalue": "Cannot interpret value of type <class 'jax_models.KuramotoSivashinsky'> as an abstract array; it does not have a dtype attribute",
     "output_type": "error",
     "traceback": [
      "\u001b[0;31m---------------------------------------------------------------------------\u001b[0m",
      "\u001b[0;31mKeyError\u001b[0m                                  Traceback (most recent call last)",
      "File \u001b[0;32m~/anaconda3/lib/python3.11/site-packages/jax/_src/api_util.py:584\u001b[0m, in \u001b[0;36mshaped_abstractify\u001b[0;34m(x)\u001b[0m\n\u001b[1;32m    583\u001b[0m \u001b[38;5;28;01mtry\u001b[39;00m:\n\u001b[0;32m--> 584\u001b[0m   \u001b[38;5;28;01mreturn\u001b[39;00m _shaped_abstractify_handlers[\u001b[38;5;28mtype\u001b[39m(x)](x)\n\u001b[1;32m    585\u001b[0m \u001b[38;5;28;01mexcept\u001b[39;00m \u001b[38;5;167;01mKeyError\u001b[39;00m:\n",
      "\u001b[0;31mKeyError\u001b[0m: <class 'jax_models.KuramotoSivashinsky'>",
      "\nDuring handling of the above exception, another exception occurred:\n",
      "\u001b[0;31mTypeError\u001b[0m                                 Traceback (most recent call last)",
      "Cell \u001b[0;32mIn[17], line 22\u001b[0m\n\u001b[1;32m     20\u001b[0m \u001b[38;5;28mprint\u001b[39m(ks_model\u001b[38;5;241m.\u001b[39mstep)\n\u001b[1;32m     21\u001b[0m \u001b[38;5;66;03m# Generate observations\u001b[39;00m\n\u001b[0;32m---> 22\u001b[0m observations, true_states \u001b[38;5;241m=\u001b[39m generate_true_states(key, num_steps, n, x0, H, Q, R, \u001b[38;5;28;01mlambda\u001b[39;00m x: ks_model\u001b[38;5;241m.\u001b[39mstep(x), observation_interval)\n\u001b[1;32m     24\u001b[0m \u001b[38;5;66;03m# Visualize the observations\u001b[39;00m\n\u001b[1;32m     25\u001b[0m visualize_observations(observations, observation_interval)\n",
      "File \u001b[0;32m/central/home/eluk/variational_filtering/jax_models.py:88\u001b[0m, in \u001b[0;36mgenerate_true_states\u001b[0;34m(key, num_steps, n, x0, H, Q, R, model_step, observation_interval)\u001b[0m\n\u001b[1;32m     86\u001b[0m \u001b[38;5;66;03m# Update state using the model step function\u001b[39;00m\n\u001b[1;32m     87\u001b[0m \u001b[38;5;28mprint\u001b[39m(x[j\u001b[38;5;241m-\u001b[39m\u001b[38;5;241m1\u001b[39m])\n\u001b[0;32m---> 88\u001b[0m x_j \u001b[38;5;241m=\u001b[39m model_step(x[j\u001b[38;5;241m-\u001b[39m\u001b[38;5;241m1\u001b[39m])\n\u001b[1;32m     89\u001b[0m \u001b[38;5;28mprint\u001b[39m(x)\n\u001b[1;32m     90\u001b[0m \u001b[38;5;66;03m# Add process noise Q only at observation times\u001b[39;00m\n",
      "Cell \u001b[0;32mIn[17], line 22\u001b[0m, in \u001b[0;36m<lambda>\u001b[0;34m(x)\u001b[0m\n\u001b[1;32m     20\u001b[0m \u001b[38;5;28mprint\u001b[39m(ks_model\u001b[38;5;241m.\u001b[39mstep)\n\u001b[1;32m     21\u001b[0m \u001b[38;5;66;03m# Generate observations\u001b[39;00m\n\u001b[0;32m---> 22\u001b[0m observations, true_states \u001b[38;5;241m=\u001b[39m generate_true_states(key, num_steps, n, x0, H, Q, R, \u001b[38;5;28;01mlambda\u001b[39;00m x: ks_model\u001b[38;5;241m.\u001b[39mstep(x), observation_interval)\n\u001b[1;32m     24\u001b[0m \u001b[38;5;66;03m# Visualize the observations\u001b[39;00m\n\u001b[1;32m     25\u001b[0m visualize_observations(observations, observation_interval)\n",
      "    \u001b[0;31m[... skipping hidden 6 frame]\u001b[0m\n",
      "File \u001b[0;32m~/anaconda3/lib/python3.11/site-packages/jax/_src/api_util.py:575\u001b[0m, in \u001b[0;36m_shaped_abstractify_slow\u001b[0;34m(x)\u001b[0m\n\u001b[1;32m    573\u001b[0m   dtype \u001b[38;5;241m=\u001b[39m dtypes\u001b[38;5;241m.\u001b[39mcanonicalize_dtype(x\u001b[38;5;241m.\u001b[39mdtype, allow_extended_dtype\u001b[38;5;241m=\u001b[39m\u001b[38;5;28;01mTrue\u001b[39;00m)\n\u001b[1;32m    574\u001b[0m \u001b[38;5;28;01melse\u001b[39;00m:\n\u001b[0;32m--> 575\u001b[0m   \u001b[38;5;28;01mraise\u001b[39;00m \u001b[38;5;167;01mTypeError\u001b[39;00m(\n\u001b[1;32m    576\u001b[0m       \u001b[38;5;124mf\u001b[39m\u001b[38;5;124m\"\u001b[39m\u001b[38;5;124mCannot interpret value of type \u001b[39m\u001b[38;5;132;01m{\u001b[39;00m\u001b[38;5;28mtype\u001b[39m(x)\u001b[38;5;132;01m}\u001b[39;00m\u001b[38;5;124m as an abstract array; it \u001b[39m\u001b[38;5;124m\"\u001b[39m\n\u001b[1;32m    577\u001b[0m       \u001b[38;5;124m\"\u001b[39m\u001b[38;5;124mdoes not have a dtype attribute\u001b[39m\u001b[38;5;124m\"\u001b[39m)\n\u001b[1;32m    578\u001b[0m \u001b[38;5;28;01mreturn\u001b[39;00m core\u001b[38;5;241m.\u001b[39mShapedArray(np\u001b[38;5;241m.\u001b[39mshape(x), dtype, weak_type\u001b[38;5;241m=\u001b[39mweak_type,\n\u001b[1;32m    579\u001b[0m                         named_shape\u001b[38;5;241m=\u001b[39mnamed_shape)\n",
      "\u001b[0;31mTypeError\u001b[0m: Cannot interpret value of type <class 'jax_models.KuramotoSivashinsky'> as an abstract array; it does not have a dtype attribute"
     ]
    }
   ],
   "source": [
    "# Initialize parameters\n",
    "num_steps = 100  # Number of simulation steps\n",
    "n = 32 # Dimensionality of the state space for KS model\n",
    "observation_interval = 5  # Interval at which observations are made\n",
    "dt = 0.25  # Time step for the KS model\n",
    "\n",
    "# Initialize the Kuramoto-Sivashinsky model\n",
    "ks_model = KuramotoSivashinsky(dt=dt, s=n, l=22, M=16)\n",
    "\n",
    "# Initial state\n",
    "key = random.PRNGKey(0)  # Random key for reproducibility\n",
    "x0 = random.normal(key, (n,))\n",
    "initial_state  = x0\n",
    "# Noise covariances\n",
    "Q = 0.1 * np.eye(n)  # Process noise covariance\n",
    "R = 0.5 * np.eye(n)  # Observation noise covariance\n",
    "\n",
    "# Observation matrix (identity matrix for direct observation of all state variables)\n",
    "H = np.eye(n)\n",
    "print(ks_model.step)\n",
    "# Generate observations\n",
    "observations, true_states = generate_true_states(key, num_steps, n, x0, H, Q, R, lambda x: ks_model.step(x), observation_interval)\n",
    "\n",
    "# Visualize the observations\n",
    "visualize_observations(observations, observation_interval)"
   ]
  },
  {
   "cell_type": "code",
   "execution_count": null,
   "metadata": {},
   "outputs": [],
   "source": []
  }
 ],
 "metadata": {
  "kernelspec": {
   "display_name": "Python 3 (ipykernel)",
   "language": "python",
   "name": "python3"
  },
  "language_info": {
   "codemirror_mode": {
    "name": "ipython",
    "version": 3
   },
   "file_extension": ".py",
   "mimetype": "text/x-python",
   "name": "python",
   "nbconvert_exporter": "python",
   "pygments_lexer": "ipython3",
   "version": "3.11.5"
  }
 },
 "nbformat": 4,
 "nbformat_minor": 4
}
