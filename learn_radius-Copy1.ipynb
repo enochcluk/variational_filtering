{
 "cells": [
  {
   "cell_type": "code",
   "execution_count": 1,
   "metadata": {
    "tags": []
   },
   "outputs": [],
   "source": [
    "# Import necessary libraries\n",
    "import jax.numpy as jnp\n",
    "from jax import random, grad, jit, lax, jacrev\n",
    "from jax.scipy.linalg import inv, svd, eigh, det\n",
    "from jax.numpy.linalg import norm\n",
    "from tqdm.auto import tqdm\n",
    "from sklearn.datasets import make_spd_matrix\n",
    "from jax_models import visualize_observations, Lorenz96, KuramotoSivashinsky, generate_true_states, generate_localization_matrix\n",
    "from jax_filters import ensrf_steps, kalman_filter_process, ensrf_step\n",
    "import jax\n",
    "import matplotlib.pyplot as plt\n",
    "from jax.tree_util import Partial\n",
    "from functools import partial\n",
    "from jax_vi import KL_gaussian, log_likelihood, KL_sum\n",
    "jax.config.update(\"jax_enable_x64\", True)\n",
    "#jax.config.update(\"jax_debug_nans\", True)\n",
    "\n",
    "N = 10 # number of Monte Carlo samples\n",
    "F = 8.0\n",
    "dt = 0.05\n",
    "num_steps = 250  # Number of time steps\n",
    "J0 = 0\n",
    "n = 40   # Number of state variables\n",
    "key = random.PRNGKey(0)  # Random key for reproducibility\n",
    "x0 = random.normal(key, (n,))\n",
    "initial_state  = x0\n",
    "# Noise covariances\n",
    "Q = 0.03 * jnp.eye(n)  # Process noise covariance\n",
    "R = 0.5 * jnp.eye(n)  # Observation noise covariance\n",
    "# Observation matrix (identity matrix for direct observation of all state variables)\n",
    "H = jnp.eye(n)\n",
    "\n",
    "n_ensemble = 5\n",
    "observation_interval = 1\n",
    "initial_state = random.normal(random.PRNGKey(0), (n,))  # Initial state\n",
    "m0 = initial_state\n",
    "C0 = Q\n",
    "\n",
    "\n",
    "l96_model = Lorenz96(dt = dt, F = 8)\n",
    "l96_step = Partial(l96_model.step)\n",
    "# Generate true states and observations using the Lorenz '96 model\n",
    "\n",
    "state_transition_function = l96_model.step\n",
    "\n",
    "jacobian_function = jacrev(l96_step, argnums=0)\n",
    "jac_func = Partial(jacobian_function)\n",
    "\n",
    "observations, true_states = generate_true_states(key, num_steps, n, initial_state, H, Q, R, l96_step, observation_interval)"
   ]
  },
  {
   "cell_type": "code",
   "execution_count": 2,
   "metadata": {
    "tags": []
   },
   "outputs": [],
   "source": [
    "@jit\n",
    "def var_cost(radius, inflation, model, ensemble_init, observations, H, Q, R, key, J, J0):\n",
    "    localization_matrix = generate_localization_matrix(n, radius)\n",
    "    states, covariances = ensrf_steps(l96_step, n_ensemble, ensemble_init, num_steps, observations, observation_interval, H, Q, R, localization_matrix, inflation, key)\n",
    "    ensemble_mean = jnp.mean(states, axis=-1)  # Taking the mean across the ensemble members dimension\n",
    "    key, *subkeys = random.split(key, num=N+1)\n",
    "    kl_sum = KL_sum(ensemble_mean, covariances, n, model, Q, key, N)\n",
    "    def inner_map(subkey):\n",
    "        return log_likelihood(random.multivariate_normal(subkey, ensemble_mean, covariances), observations, H, R, J, J0)  # Sometimes the covariances are negative definite. Fix\n",
    "    cost = kl_sum - jnp.mean(jax.lax.map(inner_map, jnp.vstack(subkeys)))\n",
    "    return cost"
   ]
  },
  {
   "cell_type": "code",
   "execution_count": 3,
   "metadata": {
    "tags": []
   },
   "outputs": [],
   "source": [
    "inflation = 1.5  # Fixed starting value for inflation\n",
    "radius_opt = 1.0\n",
    "alpha = 1e-4  # Learning rate\n",
    "key = random.PRNGKey(0)  # Random key\n",
    "N = 10  # Number of MC samples\n",
    "m0 = initial_state\n",
    "C0 = Q  # Initial covariance, assuming Q is your process noise covariance\n",
    "ensemble_init = random.multivariate_normal(key, initial_state, Q, (n_ensemble,)).T\n",
    "localization_matrix = generate_localization_matrix(n, radius_opt)\n",
    "\n",
    "states, covariances = ensrf_steps(l96_step, n_ensemble, ensemble_init, num_steps, observations, observation_interval, H, Q, R, localization_matrix, inflation, key)\n"
   ]
  },
  {
   "cell_type": "code",
   "execution_count": 40,
   "metadata": {
    "tags": []
   },
   "outputs": [
    {
     "data": {
      "text/plain": [
       "Array(119137.01306575, dtype=float64)"
      ]
     },
     "execution_count": 40,
     "metadata": {},
     "output_type": "execute_result"
    }
   ],
   "source": [
    "key, subkey = random.split(key)\n",
    "var_cost(radius_opt, inflation, l96_step, ensemble_init, observations, H, Q, R, subkey, num_steps, J0)"
   ]
  },
  {
   "cell_type": "code",
   "execution_count": 16,
   "metadata": {
    "tags": []
   },
   "outputs": [
    {
     "name": "stdout",
     "output_type": "stream",
     "text": [
      "(Array(25045.32123712, dtype=float64), Array(-8381.46181025, dtype=float64))\n"
     ]
    }
   ],
   "source": [
    "print(jax.value_and_grad(var_cost) (radius_opt, inflation, l96_step, ensemble_init, observations, H, Q, R, subkey, num_steps, J0))"
   ]
  },
  {
   "cell_type": "code",
   "execution_count": 42,
   "metadata": {},
   "outputs": [
    {
     "data": {
      "text/plain": [
       "(40, 5)"
      ]
     },
     "execution_count": 42,
     "metadata": {},
     "output_type": "execute_result"
    }
   ],
   "source": [
    "ensemble_init.shape"
   ]
  },
  {
   "cell_type": "code",
   "execution_count": null,
   "metadata": {},
   "outputs": [],
   "source": [
    "import jax.numpy as jnp\n",
    "import matplotlib.pyplot as plt\n",
    "from mpl_toolkits.mplot3d import Axes3D \n",
    "\n",
    "n_ensemble = 5\n",
    "ensemble_init = random.multivariate_normal(key, initial_state, Q, (n_ensemble,)).T\n",
    "\n",
    "radius_range = jnp.arange(1, 41, 2)  \n",
    "inflation_range = jnp.linspace(1.01, 1.9, 20) \n",
    "\n",
    "radius_values, inflation_values, cost_values = [], [], []\n",
    "\n",
    "# Compute the cost for each combination of radius_opt and inflation\n",
    "for radius_opt in radius_range:\n",
    "    for infl in inflation_range:\n",
    "        key, subkey = random.split(key)\n",
    "        cost = var_cost(radius_opt, infl, l96_step, ensemble_init, observations, H, Q, R, subkey, num_steps, J0)\n",
    "        radius_values.append(radius_opt)\n",
    "        inflation_values.append(infl)\n",
    "        cost_values.append(cost)\n",
    "\n",
    "radius_values = jnp.array(radius_values)\n",
    "inflation_values = jnp.array(inflation_values)\n",
    "cost_values = jnp.array(cost_values)\n",
    "\n",
    "fig = plt.figure(figsize=(12, 8))\n",
    "ax = fig.add_subplot(111, projection='3d')\n",
    "\n",
    "scat = ax.scatter(radius_values, inflation_values, cost_values, c=cost_values, cmap='viridis')\n",
    "ax.set_xlabel('Radius')\n",
    "ax.set_ylabel('Inflation')\n",
    "ax.set_zlabel('Cost')\n",
    "ax.set_title('Cost Surface Across Radius and Inflation')\n",
    "\n",
    "cbar = fig.colorbar(scat, ax=ax, pad=0.1)\n",
    "cbar.set_label('Cost')\n",
    "\n",
    "plt.show()\n"
   ]
  },
  {
   "cell_type": "code",
   "execution_count": null,
   "metadata": {},
   "outputs": [],
   "source": []
  }
 ],
 "metadata": {
  "kernelspec": {
   "display_name": "Python 3 (ipykernel)",
   "language": "python",
   "name": "python3"
  },
  "language_info": {
   "codemirror_mode": {
    "name": "ipython",
    "version": 3
   },
   "file_extension": ".py",
   "mimetype": "text/x-python",
   "name": "python",
   "nbconvert_exporter": "python",
   "pygments_lexer": "ipython3",
   "version": "3.11.5"
  }
 },
 "nbformat": 4,
 "nbformat_minor": 4
}
