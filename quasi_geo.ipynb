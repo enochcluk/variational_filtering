{
 "cells": [
  {
   "cell_type": "code",
   "execution_count": 1,
   "id": "7645b8ae-c998-44a9-87bc-5964547f031b",
   "metadata": {},
   "outputs": [],
   "source": [
    "# !pip install pyqg-jax\n",
    "# !pip install cmocean"
   ]
  },
  {
   "cell_type": "code",
   "execution_count": 4,
   "id": "ed03a7a4-a544-4e56-acb4-7b31b1f2c129",
   "metadata": {},
   "outputs": [
    {
     "name": "stdout",
     "output_type": "stream",
     "text": [
      "Requirement already satisfied: jax in /home/eluk/anaconda3/lib/python3.11/site-packages (0.4.23)\n",
      "Requirement already satisfied: ml-dtypes>=0.2.0 in /home/eluk/anaconda3/lib/python3.11/site-packages (from jax) (0.3.1)\n",
      "Requirement already satisfied: numpy>=1.22 in /home/eluk/anaconda3/lib/python3.11/site-packages (from jax) (1.26.3)\n",
      "Requirement already satisfied: opt-einsum in /home/eluk/anaconda3/lib/python3.11/site-packages (from jax) (3.3.0)\n",
      "Requirement already satisfied: scipy>=1.9 in /home/eluk/anaconda3/lib/python3.11/site-packages (from jax) (1.11.4)\n"
     ]
    }
   ],
   "source": [
    "!pip install jax"
   ]
  },
  {
   "cell_type": "code",
   "execution_count": 2,
   "id": "0d25b8fd-9898-4421-8ab7-6bf71ee8c5c0",
   "metadata": {},
   "outputs": [],
   "source": [
    "# Set environment variable for double precision support\n",
    "import os\n",
    "os.environ['JAX_ENABLE_X64'] = 'True'\n",
    "import operator\n",
    "import functools\n",
    "import matplotlib.pyplot as plt\n",
    "import cmocean.cm as cmo\n",
    "import jax\n",
    "import jax.numpy as jnp\n",
    "import pyqg_jax\n",
    "\n",
    "\n",
    "jax.config.update('jax_enable_x64', True)\n",
    "\n",
    "base_model = pyqg_jax.qg_model.QGModel(\n",
    "    nx=64,\n",
    "    ny=64,\n",
    "    precision=pyqg_jax.state.Precision.DOUBLE,\n",
    ")\n",
    "\n",
    "param_model = pyqg_jax.parameterizations.smagorinsky.apply_parameterization(\n",
    "    base_model, constant=0.08,\n",
    ")\n",
    "\n",
    "stepper = pyqg_jax.steppers.AB3Stepper(dt=14400.0)\n",
    "stepped_model = pyqg_jax.steppers.SteppedModel(\n",
    "    param_model, stepper\n",
    ")\n",
    "\n"
   ]
  },
  {
   "cell_type": "code",
   "execution_count": 35,
   "id": "de1ce862-c87d-4dd1-9bae-85f1d94e8a2d",
   "metadata": {},
   "outputs": [
    {
     "ename": "TypeError",
     "evalue": "dot_general requires contracting dimensions to have the same shape, got (8192,) and (64,).",
     "output_type": "error",
     "traceback": [
      "\u001b[0;31m---------------------------------------------------------------------------\u001b[0m",
      "\u001b[0;31mTypeError\u001b[0m                                 Traceback (most recent call last)",
      "Cell \u001b[0;32mIn[35], line 52\u001b[0m\n\u001b[1;32m     48\u001b[0m     \u001b[38;5;28;01mreturn\u001b[39;00m traj_steps, observations\n\u001b[1;32m     50\u001b[0m key \u001b[38;5;241m=\u001b[39m jax\u001b[38;5;241m.\u001b[39mrandom\u001b[38;5;241m.\u001b[39mPRNGKey(\u001b[38;5;241m0\u001b[39m)\n\u001b[0;32m---> 52\u001b[0m traj, obs \u001b[38;5;241m=\u001b[39m roll_out_state(init_state, num_steps\u001b[38;5;241m=\u001b[39m\u001b[38;5;241m50\u001b[39m,key\u001b[38;5;241m=\u001b[39mkey)\n",
      "Cell \u001b[0;32mIn[35], line 45\u001b[0m, in \u001b[0;36mroll_out_state\u001b[0;34m(state, num_steps, key)\u001b[0m\n\u001b[1;32m     42\u001b[0m keys \u001b[38;5;241m=\u001b[39m jax\u001b[38;5;241m.\u001b[39mrandom\u001b[38;5;241m.\u001b[39msplit(key, num_steps)\n\u001b[1;32m     44\u001b[0m \u001b[38;5;66;03m# Run the loop\u001b[39;00m\n\u001b[0;32m---> 45\u001b[0m final_state, (traj_steps, observations) \u001b[38;5;241m=\u001b[39m jax\u001b[38;5;241m.\u001b[39mlax\u001b[38;5;241m.\u001b[39mscan(\n\u001b[1;32m     46\u001b[0m     loop_fn, state, keys\n\u001b[1;32m     47\u001b[0m )\n\u001b[1;32m     48\u001b[0m \u001b[38;5;28;01mreturn\u001b[39;00m traj_steps, observations\n",
      "    \u001b[0;31m[... skipping hidden 9 frame]\u001b[0m\n",
      "Cell \u001b[0;32mIn[35], line 37\u001b[0m, in \u001b[0;36mroll_out_state.<locals>.loop_fn\u001b[0;34m(carry, key)\u001b[0m\n\u001b[1;32m     35\u001b[0m obs_noise \u001b[38;5;241m=\u001b[39m jax\u001b[38;5;241m.\u001b[39mrandom\u001b[38;5;241m.\u001b[39mnormal(key, shape\u001b[38;5;241m=\u001b[39m(n,)) \u001b[38;5;241m*\u001b[39m noise_std\n\u001b[1;32m     36\u001b[0m \u001b[38;5;66;03m# Compute observation\u001b[39;00m\n\u001b[0;32m---> 37\u001b[0m observation \u001b[38;5;241m=\u001b[39m H \u001b[38;5;241m@\u001b[39m next_state\u001b[38;5;241m.\u001b[39mstate\u001b[38;5;241m.\u001b[39mmodel_state\u001b[38;5;241m.\u001b[39mq \u001b[38;5;241m+\u001b[39m obs_noise\n\u001b[1;32m     39\u001b[0m \u001b[38;5;28;01mreturn\u001b[39;00m next_state, (next_state, observation)\n",
      "File \u001b[0;32m~/anaconda3/lib/python3.11/site-packages/jax/_src/numpy/array_methods.py:271\u001b[0m, in \u001b[0;36m_defer_to_unrecognized_arg.<locals>.deferring_binary_op\u001b[0;34m(self, other)\u001b[0m\n\u001b[1;32m    269\u001b[0m args \u001b[38;5;241m=\u001b[39m (other, \u001b[38;5;28mself\u001b[39m) \u001b[38;5;28;01mif\u001b[39;00m swap \u001b[38;5;28;01melse\u001b[39;00m (\u001b[38;5;28mself\u001b[39m, other)\n\u001b[1;32m    270\u001b[0m \u001b[38;5;28;01mif\u001b[39;00m \u001b[38;5;28misinstance\u001b[39m(other, _accepted_binop_types):\n\u001b[0;32m--> 271\u001b[0m   \u001b[38;5;28;01mreturn\u001b[39;00m binary_op(\u001b[38;5;241m*\u001b[39margs)\n\u001b[1;32m    272\u001b[0m \u001b[38;5;66;03m# Note: don't use isinstance here, because we don't want to raise for\u001b[39;00m\n\u001b[1;32m    273\u001b[0m \u001b[38;5;66;03m# subclasses, e.g. NamedTuple objects that may override operators.\u001b[39;00m\n\u001b[1;32m    274\u001b[0m \u001b[38;5;28;01mif\u001b[39;00m \u001b[38;5;28mtype\u001b[39m(other) \u001b[38;5;129;01min\u001b[39;00m _rejected_binop_types:\n",
      "    \u001b[0;31m[... skipping hidden 12 frame]\u001b[0m\n",
      "File \u001b[0;32m~/anaconda3/lib/python3.11/site-packages/jax/_src/numpy/lax_numpy.py:3359\u001b[0m, in \u001b[0;36mmatmul\u001b[0;34m(a, b, precision, preferred_element_type)\u001b[0m\n\u001b[1;32m   3357\u001b[0m a \u001b[38;5;241m=\u001b[39m lax\u001b[38;5;241m.\u001b[39msqueeze(a, \u001b[38;5;28mtuple\u001b[39m(a_squeeze))\n\u001b[1;32m   3358\u001b[0m b \u001b[38;5;241m=\u001b[39m lax\u001b[38;5;241m.\u001b[39msqueeze(b, \u001b[38;5;28mtuple\u001b[39m(b_squeeze))\n\u001b[0;32m-> 3359\u001b[0m out \u001b[38;5;241m=\u001b[39m lax\u001b[38;5;241m.\u001b[39mdot_general(\n\u001b[1;32m   3360\u001b[0m   a, b, (((ndim(a) \u001b[38;5;241m-\u001b[39m \u001b[38;5;241m1\u001b[39m,), (ndim(b) \u001b[38;5;241m-\u001b[39m \u001b[38;5;241m1\u001b[39m \u001b[38;5;241m-\u001b[39m b_is_mat,)), (a_batch, b_batch)),\n\u001b[1;32m   3361\u001b[0m   precision\u001b[38;5;241m=\u001b[39mprecision, preferred_element_type\u001b[38;5;241m=\u001b[39mpreferred_element_type)\n\u001b[1;32m   3362\u001b[0m result \u001b[38;5;241m=\u001b[39m lax\u001b[38;5;241m.\u001b[39mtranspose(out, perm)\n\u001b[1;32m   3363\u001b[0m \u001b[38;5;28;01mreturn\u001b[39;00m lax_internal\u001b[38;5;241m.\u001b[39m_convert_element_type(result, preferred_element_type, output_weak_type)\n",
      "    \u001b[0;31m[... skipping hidden 7 frame]\u001b[0m\n",
      "File \u001b[0;32m~/anaconda3/lib/python3.11/site-packages/jax/_src/lax/lax.py:2580\u001b[0m, in \u001b[0;36m_dot_general_shape_rule\u001b[0;34m(lhs, rhs, dimension_numbers, precision, preferred_element_type)\u001b[0m\n\u001b[1;32m   2577\u001b[0m \u001b[38;5;28;01mif\u001b[39;00m \u001b[38;5;129;01mnot\u001b[39;00m core\u001b[38;5;241m.\u001b[39mdefinitely_equal_shape(lhs_contracting_shape, rhs_contracting_shape):\n\u001b[1;32m   2578\u001b[0m   msg \u001b[38;5;241m=\u001b[39m (\u001b[38;5;124m\"\u001b[39m\u001b[38;5;124mdot_general requires contracting dimensions to have the same \u001b[39m\u001b[38;5;124m\"\u001b[39m\n\u001b[1;32m   2579\u001b[0m          \u001b[38;5;124m\"\u001b[39m\u001b[38;5;124mshape, got \u001b[39m\u001b[38;5;132;01m{}\u001b[39;00m\u001b[38;5;124m and \u001b[39m\u001b[38;5;132;01m{}\u001b[39;00m\u001b[38;5;124m.\u001b[39m\u001b[38;5;124m\"\u001b[39m)\n\u001b[0;32m-> 2580\u001b[0m   \u001b[38;5;28;01mraise\u001b[39;00m \u001b[38;5;167;01mTypeError\u001b[39;00m(msg\u001b[38;5;241m.\u001b[39mformat(lhs_contracting_shape, rhs_contracting_shape))\n\u001b[1;32m   2582\u001b[0m \u001b[38;5;28;01mreturn\u001b[39;00m _dot_general_shape_computation(lhs\u001b[38;5;241m.\u001b[39mshape, rhs\u001b[38;5;241m.\u001b[39mshape, dimension_numbers)\n",
      "\u001b[0;31mTypeError\u001b[0m: dot_general requires contracting dimensions to have the same shape, got (8192,) and (64,)."
     ]
    }
   ],
   "source": [
    "init_state = stepped_model.create_initial_state(jax.random.key(10))\n",
    "\n",
    "# Extract the initial q and flatten it to create x0\n",
    "q_init = init_state.state.model_state.q\n",
    "x0 = q_init.reshape(-1)\n",
    "n = x0.shape[0]\n",
    "\n",
    "H = jnp.eye(n)\n",
    "\n",
    "\n",
    "# Process noise covariance Q\n",
    "Q = jnp.eye(n) * 1e-5  # Adjust as needed\n",
    "\n",
    "# Observation noise covariance R\n",
    "R = jnp.eye(n) * 1e-2  # Adjust as needed\n",
    "\n",
    "# @functools.partial(jax.jit, static_argnames=[\"num_steps\"])\n",
    "# def roll_out_state(state, num_steps):\n",
    "#     def loop_fn(carry, _x):\n",
    "#         current_state = carry\n",
    "#         next_state = stepped_model.step_model(current_state)\n",
    "#         return next_state, current_state\n",
    "\n",
    "#     _final_carry, traj_steps = jax.lax.scan(\n",
    "#         loop_fn, state, None, length=num_steps\n",
    "#     )\n",
    "#     return traj_steps\n",
    "def roll_out_state(state, num_steps, key):\n",
    "    def loop_fn(carry, key):\n",
    "        current_state = carry\n",
    "        # Step the model forward (without process noise for now)\n",
    "        next_state = stepped_model.step_model(current_state)    \n",
    "        # Generate observation noise\n",
    "        noise_std = jnp.sqrt(jnp.diag(R))\n",
    "        obs_noise = jax.random.normal(key, shape=(n,)) * noise_std\n",
    "        # Compute observation\n",
    "        observation = H @ next_state.state.model_state.q + obs_noise\n",
    "        \n",
    "        return next_state, (next_state, observation)\n",
    "    \n",
    "    # Split the key into num_steps keys\n",
    "    keys = jax.random.split(key, num_steps)\n",
    "    \n",
    "    # Run the loop\n",
    "    final_state, (traj_steps, observations) = jax.lax.scan(\n",
    "        loop_fn, state, keys\n",
    "    )\n",
    "    return traj_steps, observations\n",
    "\n",
    "key = jax.random.PRNGKey(0)\n",
    "\n",
    "traj, obs = roll_out_state(init_state, num_steps=50,key=key)\n",
    "\n",
    "# # Plot initial state\n",
    "# inner_state = init_state.state.model_state\n",
    "# fig, axs = plt.subplots(1, 2, layout=\"constrained\")\n",
    "# for layer, ax in enumerate(axs):\n",
    "#     data = inner_state.q[layer]\n",
    "#     vmax = jnp.abs(data).max()\n",
    "#     ax.set_title(f\"Layer {layer}\")\n",
    "#     ax.imshow(data, cmap=cmo.balance, vmin=-vmax, vmax=vmax)\n",
    "# plt.show()"
   ]
  },
  {
   "cell_type": "code",
   "execution_count": 31,
   "id": "1af2c0e9-01a1-4362-baa8-5b6363f9a322",
   "metadata": {},
   "outputs": [
    {
     "data": {
      "text/plain": [
       "Array([[[ 2.32208280e-03+0.00000000e+00j,\n",
       "         -1.37349886e-04+2.41229201e-04j,\n",
       "         -3.35991799e-05-1.07132359e-04j, ...,\n",
       "         -1.98066113e-04+1.02059764e-04j,\n",
       "          1.26105656e-05+8.16698551e-05j,\n",
       "          7.96607957e-05+0.00000000e+00j],\n",
       "        [-2.40584373e-06+3.00297766e-07j,\n",
       "          2.52436752e-06-4.92674113e-07j,\n",
       "         -3.53280610e-07-1.54377996e-06j, ...,\n",
       "          1.25600936e-06-4.40382939e-07j,\n",
       "         -6.54353552e-07+4.47526068e-07j,\n",
       "          1.14677999e-06+2.32552276e-08j],\n",
       "        [-3.37782231e-06+1.48312483e-08j,\n",
       "          2.31360810e-06-7.03992050e-07j,\n",
       "          2.13319854e-07+3.94649757e-06j, ...,\n",
       "         -1.81898462e-07-1.32554261e-06j,\n",
       "          1.20836363e-06+8.34635349e-07j,\n",
       "         -5.38779667e-07-5.10969662e-07j],\n",
       "        ...,\n",
       "        [ 7.75555347e-07+5.19888239e-07j,\n",
       "         -1.09602203e-06+2.43807929e-06j,\n",
       "         -1.36075087e-06-1.05444589e-06j, ...,\n",
       "          7.56796528e-07-5.79988829e-07j,\n",
       "          3.41033690e-06-1.69742921e-07j,\n",
       "          2.63850569e-06+1.66126405e-06j],\n",
       "        [-3.37782231e-06-1.48312483e-08j,\n",
       "         -8.85755490e-07-5.88212444e-07j,\n",
       "         -7.72554703e-07-7.97624512e-07j, ...,\n",
       "         -1.02719815e-06-1.58669017e-06j,\n",
       "          1.18385663e-06+9.91474381e-07j,\n",
       "         -5.38779667e-07+5.10969662e-07j],\n",
       "        [-2.40584373e-06-3.00297766e-07j,\n",
       "          2.53498787e-06-2.00439951e-07j,\n",
       "          1.93783164e-06+7.71996654e-07j, ...,\n",
       "         -1.28446837e-06-2.15584155e-06j,\n",
       "          1.17212323e-08+6.57935397e-07j,\n",
       "          1.14677999e-06-2.32552276e-08j]],\n",
       "\n",
       "       [[ 0.00000000e+00+0.00000000e+00j,\n",
       "          0.00000000e+00+0.00000000e+00j,\n",
       "          0.00000000e+00-0.00000000e+00j, ...,\n",
       "          0.00000000e+00+0.00000000e+00j,\n",
       "          0.00000000e+00+0.00000000e+00j,\n",
       "          0.00000000e+00+0.00000000e+00j],\n",
       "        [ 0.00000000e+00+0.00000000e+00j,\n",
       "          0.00000000e+00+0.00000000e+00j,\n",
       "          0.00000000e+00+0.00000000e+00j, ...,\n",
       "          0.00000000e+00+0.00000000e+00j,\n",
       "          0.00000000e+00+0.00000000e+00j,\n",
       "          0.00000000e+00+0.00000000e+00j],\n",
       "        [ 0.00000000e+00+0.00000000e+00j,\n",
       "          0.00000000e+00+0.00000000e+00j,\n",
       "          0.00000000e+00+0.00000000e+00j, ...,\n",
       "          0.00000000e+00+0.00000000e+00j,\n",
       "          0.00000000e+00+0.00000000e+00j,\n",
       "          0.00000000e+00+0.00000000e+00j],\n",
       "        ...,\n",
       "        [ 0.00000000e+00+0.00000000e+00j,\n",
       "          0.00000000e+00+0.00000000e+00j,\n",
       "          0.00000000e+00+0.00000000e+00j, ...,\n",
       "          0.00000000e+00+0.00000000e+00j,\n",
       "          0.00000000e+00+0.00000000e+00j,\n",
       "          0.00000000e+00+0.00000000e+00j],\n",
       "        [ 0.00000000e+00+0.00000000e+00j,\n",
       "          0.00000000e+00+0.00000000e+00j,\n",
       "          0.00000000e+00+0.00000000e+00j, ...,\n",
       "          0.00000000e+00+0.00000000e+00j,\n",
       "          0.00000000e+00+0.00000000e+00j,\n",
       "          0.00000000e+00+0.00000000e+00j],\n",
       "        [ 0.00000000e+00+0.00000000e+00j,\n",
       "          0.00000000e+00+0.00000000e+00j,\n",
       "          0.00000000e+00+0.00000000e+00j, ...,\n",
       "          0.00000000e+00+0.00000000e+00j,\n",
       "          0.00000000e+00+0.00000000e+00j,\n",
       "          0.00000000e+00+0.00000000e+00j]]], dtype=complex128)"
      ]
     },
     "execution_count": 31,
     "metadata": {},
     "output_type": "execute_result"
    }
   ],
   "source": [
    "init_state.state.model_state.qh\n"
   ]
  },
  {
   "cell_type": "code",
   "execution_count": 19,
   "id": "918e0428-e55e-4323-a5df-732e277c22f3",
   "metadata": {},
   "outputs": [
    {
     "data": {
      "image/png": "[encoded data removed]",
      "text/plain": [
       "<Figure size 640x480 with 2 Axes>"
      ]
     },
     "metadata": {},
     "output_type": "display_data"
    }
   ],
   "source": [
    "# Plot final state\n",
    "final_state = jax.tree_util.tree_map(operator.itemgetter(-1), traj)\n",
    "final_q = final_state.state.model_state.q\n",
    "fig, axs = plt.subplots(1, 2, layout=\"constrained\")\n",
    "for layer, ax in enumerate(axs):\n",
    "    data = final_q[layer]\n",
    "    vmax = jnp.abs(data).max()\n",
    "    ax.set_title(f\"Layer {layer}\")\n",
    "    ax.imshow(data, cmap=cmo.balance, vmin=-vmax, vmax=vmax)\n",
    "plt.show()"
   ]
  },
  {
   "cell_type": "code",
   "execution_count": 16,
   "id": "e3c8a066-a437-4e55-90f8-c3fac0f4e121",
   "metadata": {},
   "outputs": [
    {
     "data": {
      "text/plain": [
       "(2, 64, 64)"
      ]
     },
     "execution_count": 16,
     "metadata": {},
     "output_type": "execute_result"
    }
   ],
   "source": [
    "final_q.shape"
   ]
  },
  {
   "cell_type": "code",
   "execution_count": 13,
   "id": "2983dc5e-92cc-4094-aed2-e611e20ed340",
   "metadata": {},
   "outputs": [],
   "source": [
    "import os\n",
    "os.environ['JAX_ENABLE_X64'] = 'True'\n",
    "\n",
    "import jax\n",
    "jax.config.update('jax_enable_x64', True)\n",
    "\n",
    "import jax.numpy as jnp\n",
    "from jax import random, grad, jit, lax, jacrev\n",
    "from jax.scipy.linalg import inv, svd, eigh, det\n",
    "from jax.numpy.linalg import norm\n",
    "\n",
    "import matplotlib.pyplot as plt\n",
    "import cmocean.cm as cmo\n",
    "from tqdm.auto import tqdm\n",
    "from sklearn.datasets import make_spd_matrix\n",
    "\n",
    "import pyqg_jax\n",
    "from pyqg_jax import qg_model, state, parameterizations, steppers\n",
    "\n",
    "from jax_models import visualize_observations, Lorenz96, KuramotoSivashinsky, PyQGModel, generate_true_states, generate_localization_matrix\n",
    "from jax_filters import ensrf_steps, kalman_filter_process, ensrf_step\n",
    "from jax_vi import KL_gaussian, log_likelihood, KL_sum\n",
    "\n",
    "from functools import partial\n",
    "from jax.tree_util import Partial\n",
    "\n",
    "@jit\n",
    "def pyqg_step(x, init_state, param_model, stepped_model):\n",
    "    # Reshape x back to the model's q shape\n",
    "    q_shape = init_state.state.model_state.q.shape\n",
    "    q = x.reshape(q_shape)\n",
    "    # Create a new model state with q using state.update\n",
    "    base_state = init_state.state.model_state.update(q=q)\n",
    "    # Wrap the new model state through the parameterization\n",
    "    wrapped_in_param = param_model.initialize_param_state(base_state)\n",
    "    # Initialize the stepper state with the wrapped parameterized state\n",
    "    integrator_state = stepped_model.initialize_stepper_state(wrapped_in_param)\n",
    "    # Perform one step\n",
    "    next_state = stepped_model.step_model(integrator_state)\n",
    "    # Extract q from the next state and flatten it\n",
    "    q_next = next_state.state.model_state.q\n",
    "    x_next = q_next.reshape(-1)\n",
    "    return x_next\n",
    "    \n",
    "# models as classes\n",
    "class BaseModel:\n",
    "    def __init__(self, dt=0.01):\n",
    "        self.dt = dt\n",
    "\n",
    "    def step(self, x):\n",
    "        raise NotImplementedError(\"The step method must be implemented by subclasses.\")\n",
    "        \n",
    "class PyQGModel(BaseModel):\n",
    "    def __init__(self, dt=14400.0, nx=64, ny=64):\n",
    "        super().__init__(dt)\n",
    "        self.nx = nx\n",
    "        self.ny = ny\n",
    "        self.dt = dt\n",
    "        # self.precision = precision\n",
    "        self.base_model = qg_model.QGModel(\n",
    "            nx=nx,\n",
    "            ny=ny,\n",
    "            precision = pyqg_jax.state.Precision.DOUBLE,\n",
    "        )\n",
    "        self.param_model = parameterizations.smagorinsky.apply_parameterization(\n",
    "            self.base_model, constant=0.08,\n",
    "        )\n",
    "        self.stepper = steppers.AB3Stepper(dt=dt)\n",
    "        self.stepped_model = steppers.SteppedModel(\n",
    "            self.param_model, self.stepper\n",
    "        )\n",
    "        self.init_state = self.stepped_model.create_initial_state(jax.random.key(10))\n",
    "\n",
    "\n",
    "    def step(self, x):\n",
    "        return pyqg_step(x, self.init_state, self.param_model, self.stepped_model)\n"
   ]
  },
  {
   "cell_type": "code",
   "execution_count": 20,
   "id": "e1b02821-1247-4bd3-a3b8-224f7f1e39aa",
   "metadata": {},
   "outputs": [],
   "source": [
    "key = random.PRNGKey(0)\n",
    "num_steps = 5  # Adjust as needed\n",
    "model = PyQGModel()\n",
    "init_state = model.init_state\n",
    "qg_step = Partial(model.step)\n",
    "state_transition_function = qg_step\n",
    "\n",
    "jacobian_function = jacrev(qg_step, argnums=0)\n",
    "jac_func = Partial(jacobian_function)\n",
    "key = random.PRNGKey(0)\n",
    "\n",
    "# Extract the initial q and flatten it to create x0\n",
    "q_init = init_state.state.model_state.q\n",
    "x0 = q_init.reshape(-1)\n",
    "n = x0.shape[0]\n",
    "\n",
    "H = jnp.eye(n)\n",
    "\n",
    "\n",
    "# Process noise covariance Q\n",
    "Q = jnp.eye(n) * 1e-5 * 0  # Adjust as needed\n",
    "\n",
    "# Observation noise covariance R\n",
    "R = jnp.eye(n) * 1e-2 * 0 # Adjust as needed\n",
    "\n",
    "# Observation interval\n",
    "observation_interval = 1\n"
   ]
  },
  {
   "cell_type": "code",
   "execution_count": 21,
   "id": "5d62d523-36b6-4fa2-8fcb-f64deec0fbac",
   "metadata": {},
   "outputs": [],
   "source": [
    "observations, xs = generate_true_states(key, num_steps, n, x0, H, Q, R, qg_step, observation_interval)\n",
    "import pickle\n",
    "\n",
    "# with open('qg_500steps.pkl', 'wb') as f:\n",
    "#     pickle.dump({'observations': observations, 'xs': xs}, f)"
   ]
  },
  {
   "cell_type": "code",
   "execution_count": 22,
   "id": "632021ce-1db1-41dc-a056-9fe2a5cc2f39",
   "metadata": {},
   "outputs": [
    {
     "data": {
      "image/png": "[encoded data removed]",
      "text/plain": [
       "<Figure size 1000x500 with 4 Axes>"
      ]
     },
     "metadata": {},
     "output_type": "display_data"
    }
   ],
   "source": [
    "# Reshape the first state back to the q shape\n",
    "q_shape = q_init.shape\n",
    "q_first = xs[-1].reshape(q_shape)\n",
    "\n",
    "import matplotlib.pyplot as plt\n",
    "\n",
    "fig, axs = plt.subplots(1, 2, figsize=(10, 5))\n",
    "for layer, ax in enumerate(axs):\n",
    "    data = q_first[layer]\n",
    "    vmax = jnp.abs(data).max()\n",
    "    ax.set_title(f\"Layer {layer}\")\n",
    "    im = ax.imshow(data, cmap='RdBu_r', vmin=-vmax, vmax=vmax)\n",
    "    plt.colorbar(im, ax=ax)\n",
    "plt.tight_layout()\n",
    "plt.show()\n"
   ]
  },
  {
   "cell_type": "code",
   "execution_count": 26,
   "id": "c253e52b-b6ef-4dec-8dc3-96fecf790876",
   "metadata": {},
   "outputs": [
    {
     "data": {
      "text/plain": [
       "Array([nan, nan, nan, ..., nan, nan, nan], dtype=float64)"
      ]
     },
     "execution_count": 26,
     "metadata": {},
     "output_type": "execute_result"
    }
   ],
   "source": [
    "xs[1]"
   ]
  },
  {
   "cell_type": "code",
   "execution_count": null,
   "id": "964179f9-a629-425a-87ff-255068303026",
   "metadata": {},
   "outputs": [],
   "source": []
  }
 ],
 "metadata": {
  "kernelspec": {
   "display_name": "Python 3 (ipykernel)",
   "language": "python",
   "name": "python3"
  },
  "language_info": {
   "codemirror_mode": {
    "name": "ipython",
    "version": 3
   },
   "file_extension": ".py",
   "mimetype": "text/x-python",
   "name": "python",
   "nbconvert_exporter": "python",
   "pygments_lexer": "ipython3",
   "version": "3.11.5"
  }
 },
 "nbformat": 4,
 "nbformat_minor": 5
}
