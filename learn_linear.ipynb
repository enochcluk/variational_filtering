{
 "cells": [
  {
   "cell_type": "code",
   "execution_count": 9,
   "id": "88e09d12-5017-4ada-a599-b4c6ff4e88d2",
   "metadata": {},
   "outputs": [],
   "source": [
    "# Import necessary libraries\n",
    "import jax.numpy as jnp\n",
    "from jax import random, grad, jit, lax\n",
    "from jax.scipy.linalg import inv, svd, eigh, det\n",
    "from jax.numpy.linalg import norm\n",
    "from tqdm import tqdm\n",
    "from sklearn.datasets import make_spd_matrix\n",
    "from jax_models import Lorenz96\n",
    "from jax_models import visualize_observations, Lorenz96, generate_true_states, generate_gc_localization_matrix\n",
    "#from jax_filters import ensrf_steps\n",
    "import jax\n",
    "import matplotlib.pyplot as plt\n",
    "#from jax_vi import KL_gaussian, log_likelihood\n",
    "from jax.tree_util import Partial\n",
    "\n",
    "def create_stable_matrix(n, key):\n",
    "    # Generate a symmetric random matrix\n",
    "    A = random.normal(key, (n, n))\n",
    "    A = (A + A.T) / 2\n",
    "    # Ensure the matrix has a spectral radius < 1 for stability\n",
    "    eigenvalues, eigenvectors = eigh(A)\n",
    "    scaled_eigenvalues = eigenvalues / (jnp.abs(eigenvalues).max() + 0.1)  # Scale eigenvalues to ensure stability\n",
    "    A_stable = eigenvectors @ jnp.diag(scaled_eigenvalues) @ eigenvectors.T\n",
    "    return A_stable\n",
    "\n",
    "key = random.PRNGKey(0)\n",
    "n = 40\n",
    "Q = 0.1 * jnp.eye(n)  # Process noise covariance\n",
    "R_matrix = 0.5 * jnp.eye(n)#make_spd_matrix(n)  # Generating a symmetric positive definite matrix for R\n",
    "R = jnp.array(R_matrix)  # Observation noise covariance\n",
    "H = jnp.eye(n)  # Observation matrix\n",
    "initial_state = random.normal(random.PRNGKey(0), (n,))  # Initial state\n",
    "observation_interval = 1\n",
    "n_ensemble = 20\n",
    "\n",
    "A_stable = create_stable_matrix(n, key)\n",
    "\n",
    "\n",
    "def state_transition_function(x):\n",
    "    return jnp.dot(A_stable, x)\n",
    "\n",
    "A_step = Partial(state_transition_function)\n",
    "\n",
    "\n",
    "num_steps = 100"
   ]
  },
  {
   "cell_type": "code",
   "execution_count": 2,
   "id": "59c41a42-cde0-4814-9be4-a04d7576725d",
   "metadata": {},
   "outputs": [
    {
     "data": {
      "text/plain": [
       "Array([[-0.00498583, -0.13649331, -0.02905141, ...,  0.04102162,\n",
       "        -0.0355752 ,  0.11369595],\n",
       "       [-0.13649331,  0.01910555, -0.03708115, ..., -0.03015236,\n",
       "         0.0199717 , -0.09355967],\n",
       "       [-0.02905142, -0.03708115,  0.09458236, ..., -0.04205253,\n",
       "        -0.07820393, -0.11111479],\n",
       "       ...,\n",
       "       [ 0.04102163, -0.03015236, -0.04205254, ..., -0.01375088,\n",
       "         0.06516878, -0.07160039],\n",
       "       [-0.03557519,  0.0199717 , -0.07820394, ...,  0.06516878,\n",
       "         0.13236032,  0.04353936],\n",
       "       [ 0.11369595, -0.09355966, -0.11111479, ..., -0.07160041,\n",
       "         0.04353936, -0.20437019]], dtype=float32)"
      ]
     },
     "execution_count": 2,
     "metadata": {},
     "output_type": "execute_result"
    }
   ],
   "source": [
    "A_stable #first number should be - 0.004985"
   ]
  },
  {
   "cell_type": "code",
   "execution_count": 4,
   "id": "6ab6d4ee-f819-4e77-97a5-2e69029c5b0a",
   "metadata": {},
   "outputs": [],
   "source": [
    "observations, true_states = generate_true_states(key, num_steps, n, initial_state, H, Q, R, A_step, observation_interval)"
   ]
  },
  {
   "cell_type": "code",
   "execution_count": 7,
   "id": "3ea281c1-54ba-4183-aee9-03d44472a648",
   "metadata": {},
   "outputs": [],
   "source": [
    "import jax.numpy as jnp\n",
    "from jax import jit, lax\n",
    "from jax.scipy.linalg import inv\n",
    "import numpy as np  # For handling NaN checks with JAX arrays\n",
    "from jax_filters import ensrf_steps\n",
    "\n",
    "@jit\n",
    "def kalman_filter_step(carry, input):\n",
    "    m_prev, C_prev, M, H, Q, R, observation_interval = carry\n",
    "    y_curr = input\n",
    "    m_pred = M @ m_prev\n",
    "    C_pred = M @ C_prev @ M.T + Q\n",
    "    def update():\n",
    "        S = H @ C_pred @ H.T + R\n",
    "        K = C_pred @ H.T @ inv(S)\n",
    "        y_hat = H @ m_pred\n",
    "        m_update = m_pred + K @ (y_curr - y_hat)\n",
    "        C_update = (jnp.eye(C_prev.shape[0]) - K @ H) @ C_pred\n",
    "        return m_update, C_update\n",
    "    def no_update():\n",
    "        return m_pred, C_pred\n",
    "    is_observation_available = jnp.logical_not(jnp.any(jnp.isnan(y_curr)))\n",
    "    m_update, C_update = lax.cond(is_observation_available, update, no_update)\n",
    "\n",
    "    return (m_update, C_update, M, H, Q, R, observation_interval), (m_update, C_update)\n",
    "\n",
    "def apply_kalman_filter(y, m0, C0, M, H, Q, R, observation_interval):\n",
    "    carry_init = (m0, C0, M, H, Q, R, observation_interval)\n",
    "    _, (ms, Cs) = lax.scan(kalman_filter_step, carry_init, y)\n",
    "    return ms, Cs\n",
    "\n",
    "ms, Cs = apply_kalman_filter(observations, initial_state, Q, A_stable, H, Q, R,1)\n",
    "\n"
   ]
  },
  {
   "cell_type": "code",
   "execution_count": 16,
   "id": "03646606-c688-4f79-8ea8-3b11962347c3",
   "metadata": {},
   "outputs": [],
   "source": [
    "inflation = 1.1\n",
    "states, covariances = ensrf_steps(A_step, n_ensemble, ensemble_init, num_steps, observations, observation_interval, H, Q, R, localization_matrix, inflation, key)\n",
    "#print(covariances)"
   ]
  },
  {
   "cell_type": "code",
   "execution_count": 14,
   "id": "bcb32e9c-a54b-4373-82b7-3988fefadf92",
   "metadata": {},
   "outputs": [],
   "source": [
    "from jax_vi import KL_gaussian, log_likelihood, KL_sum\n",
    "\n",
    "\n",
    "def var_cost(inflation, ensemble_init, observations, H, Q, R, localization_matrix, key, num_steps, J0):\n",
    "   \n",
    "    states, covariances = ensrf_steps(A_step, n_ensemble, ensemble_init, num_steps, observations, observation_interval, H, Q, R, localization_matrix, inflation, key)\n",
    "\n",
    "    ensemble_mean = jnp.mean(states, axis=-1)  # Taking the mean across the ensemble members dimension\n",
    "    key, *subkeys = random.split(key, num=N+1)\n",
    "    kl_sum = KL_sum(ensemble_mean, covariances, n, A_step, Q, key, N)\n",
    "    def inner_map(subkey):\n",
    "        return log_likelihood(random.multivariate_normal(subkey, ensemble_mean, covariances), observations, H, R, num_steps, J0)  # Sometimes the covariances are negative definite. Fix\n",
    "    cost = kl_sum - jnp.nanmean(jax.lax.map(inner_map, jnp.vstack(subkeys)))\n",
    "    return cost"
   ]
  },
  {
   "cell_type": "code",
   "execution_count": 69,
   "id": "622b4bda-86a3-428a-a910-49cb4bb6a33d",
   "metadata": {},
   "outputs": [],
   "source": []
  },
  {
   "cell_type": "code",
   "execution_count": 20,
   "id": "7adff5cd-08c9-4302-adbb-c0c7c666e7c2",
   "metadata": {},
   "outputs": [
    {
     "data": {
      "text/plain": [
       "Array(8204.043, dtype=float32)"
      ]
     },
     "execution_count": 20,
     "metadata": {},
     "output_type": "execute_result"
    }
   ],
   "source": [
    "J = num_steps\n",
    "var_cost(1.3, ensemble_init, observations, H, Q, R, localization_matrix, key, J, J0)"
   ]
  },
  {
   "cell_type": "code",
   "execution_count": 18,
   "id": "04b3580f-0d77-4ad9-adfb-a6d85b549b8e",
   "metadata": {},
   "outputs": [
    {
     "data": {
      "application/vnd.jupyter.widget-view+json": {
       "model_id": "92d1eca6fc8f4204b0cb99069f79d3ad",
       "version_major": 2,
       "version_minor": 0
      },
      "text/plain": [
       "  0%|          | 0/50 [00:00<?, ?it/s]"
      ]
     },
     "metadata": {},
     "output_type": "display_data"
    },
    {
     "name": "stdout",
     "output_type": "stream",
     "text": [
      "nan 0.1315303498848616\n",
      "nan 0.1315303498848616\n",
      "nan 0.1315303498848616\n",
      "nan 0.1315303498848616\n",
      "nan 0.1315303498848616\n",
      "nan 0.1315303498848616\n",
      "nan 0.1315303498848616\n",
      "nan 0.1315303498848616\n",
      "nan 0.1315303498848616\n",
      "nan 0.1315303498848616\n",
      "nan 0.1315303498848616\n",
      "nan 0.1315303498848616\n"
     ]
    },
    {
     "ename": "KeyboardInterrupt",
     "evalue": "",
     "output_type": "error",
     "traceback": [
      "\u001b[0;31m---------------------------------------------------------------------------\u001b[0m",
      "\u001b[0;31mKeyboardInterrupt\u001b[0m                         Traceback (most recent call last)",
      "Cell \u001b[0;32mIn[18], line 36\u001b[0m\n\u001b[1;32m     33\u001b[0m key, subkey \u001b[38;5;241m=\u001b[39m random\u001b[38;5;241m.\u001b[39msplit(key)\n\u001b[1;32m     35\u001b[0m \u001b[38;5;66;03m# Gradient descent step for inflation parameter\u001b[39;00m\n\u001b[0;32m---> 36\u001b[0m grad_inflation \u001b[38;5;241m=\u001b[39m var_cost_grad(inflation_opt, ensemble_init, observations, H, Q, R, localization_matrix, subkey, num_steps, J0)\n\u001b[1;32m     37\u001b[0m inflation_opt \u001b[38;5;241m-\u001b[39m\u001b[38;5;241m=\u001b[39m alpha \u001b[38;5;241m*\u001b[39m grad_inflation  \u001b[38;5;66;03m# Update inflation parameter\u001b[39;00m\n\u001b[1;32m     39\u001b[0m inflations\u001b[38;5;241m.\u001b[39mappend(inflation_opt)\n",
      "    \u001b[0;31m[... skipping hidden 1 frame]\u001b[0m\n",
      "File \u001b[0;32m~/anaconda3/lib/python3.11/site-packages/jax/_src/api.py:659\u001b[0m, in \u001b[0;36mgrad.<locals>.grad_f\u001b[0;34m(*args, **kwargs)\u001b[0m\n\u001b[1;32m    656\u001b[0m \u001b[38;5;129m@wraps\u001b[39m(fun, docstr\u001b[38;5;241m=\u001b[39mdocstr, argnums\u001b[38;5;241m=\u001b[39margnums)\n\u001b[1;32m    657\u001b[0m \u001b[38;5;129m@api_boundary\u001b[39m\n\u001b[1;32m    658\u001b[0m \u001b[38;5;28;01mdef\u001b[39;00m \u001b[38;5;21mgrad_f\u001b[39m(\u001b[38;5;241m*\u001b[39margs, \u001b[38;5;241m*\u001b[39m\u001b[38;5;241m*\u001b[39mkwargs):\n\u001b[0;32m--> 659\u001b[0m   _, g \u001b[38;5;241m=\u001b[39m value_and_grad_f(\u001b[38;5;241m*\u001b[39margs, \u001b[38;5;241m*\u001b[39m\u001b[38;5;241m*\u001b[39mkwargs)\n\u001b[1;32m    660\u001b[0m   \u001b[38;5;28;01mreturn\u001b[39;00m g\n",
      "    \u001b[0;31m[... skipping hidden 1 frame]\u001b[0m\n",
      "File \u001b[0;32m~/anaconda3/lib/python3.11/site-packages/jax/_src/api.py:741\u001b[0m, in \u001b[0;36mvalue_and_grad.<locals>.value_and_grad_f\u001b[0;34m(*args, **kwargs)\u001b[0m\n\u001b[1;32m    739\u001b[0m _check_scalar(ans)\n\u001b[1;32m    740\u001b[0m tree_map(partial(_check_output_dtype_grad, holomorphic), ans)\n\u001b[0;32m--> 741\u001b[0m g \u001b[38;5;241m=\u001b[39m vjp_py(lax_internal\u001b[38;5;241m.\u001b[39m_one(ans))\n\u001b[1;32m    742\u001b[0m g \u001b[38;5;241m=\u001b[39m g[\u001b[38;5;241m0\u001b[39m] \u001b[38;5;28;01mif\u001b[39;00m \u001b[38;5;28misinstance\u001b[39m(argnums, \u001b[38;5;28mint\u001b[39m) \u001b[38;5;28;01melse\u001b[39;00m g\n\u001b[1;32m    743\u001b[0m \u001b[38;5;28;01mif\u001b[39;00m \u001b[38;5;129;01mnot\u001b[39;00m has_aux:\n",
      "File \u001b[0;32m~/anaconda3/lib/python3.11/site-packages/jax/_src/tree_util.py:357\u001b[0m, in \u001b[0;36m_HashableCallableShim.__call__\u001b[0;34m(self, *args, **kw)\u001b[0m\n\u001b[1;32m    356\u001b[0m \u001b[38;5;28;01mdef\u001b[39;00m \u001b[38;5;21m__call__\u001b[39m(\u001b[38;5;28mself\u001b[39m, \u001b[38;5;241m*\u001b[39margs, \u001b[38;5;241m*\u001b[39m\u001b[38;5;241m*\u001b[39mkw):\n\u001b[0;32m--> 357\u001b[0m   \u001b[38;5;28;01mreturn\u001b[39;00m \u001b[38;5;28mself\u001b[39m\u001b[38;5;241m.\u001b[39mfun(\u001b[38;5;241m*\u001b[39margs, \u001b[38;5;241m*\u001b[39m\u001b[38;5;241m*\u001b[39mkw)\n",
      "File \u001b[0;32m~/anaconda3/lib/python3.11/site-packages/jax/_src/api.py:2148\u001b[0m, in \u001b[0;36m_vjp_pullback_wrapper\u001b[0;34m(name, cotangent_dtypes, cotangent_shapes, io_tree, fun, *py_args_)\u001b[0m\n\u001b[1;32m   2143\u001b[0m   \u001b[38;5;28;01mif\u001b[39;00m np\u001b[38;5;241m.\u001b[39mshape(arg) \u001b[38;5;241m!=\u001b[39m ct_shape:\n\u001b[1;32m   2144\u001b[0m     \u001b[38;5;28;01mraise\u001b[39;00m \u001b[38;5;167;01mValueError\u001b[39;00m(\n\u001b[1;32m   2145\u001b[0m         \u001b[38;5;124mf\u001b[39m\u001b[38;5;124m\"\u001b[39m\u001b[38;5;124mShape of cotangent input to vjp pullback function \u001b[39m\u001b[38;5;132;01m{\u001b[39;00mnp\u001b[38;5;241m.\u001b[39mshape(arg)\u001b[38;5;132;01m}\u001b[39;00m\u001b[38;5;124m \u001b[39m\u001b[38;5;124m\"\u001b[39m\n\u001b[1;32m   2146\u001b[0m         \u001b[38;5;124m\"\u001b[39m\u001b[38;5;124mmust be the same as the shape of corresponding primal input \u001b[39m\u001b[38;5;124m\"\u001b[39m\n\u001b[1;32m   2147\u001b[0m         \u001b[38;5;124mf\u001b[39m\u001b[38;5;124m\"\u001b[39m\u001b[38;5;132;01m{\u001b[39;00mct_shape\u001b[38;5;132;01m}\u001b[39;00m\u001b[38;5;124m.\u001b[39m\u001b[38;5;124m\"\u001b[39m)\n\u001b[0;32m-> 2148\u001b[0m ans \u001b[38;5;241m=\u001b[39m fun(\u001b[38;5;241m*\u001b[39margs)\n\u001b[1;32m   2149\u001b[0m \u001b[38;5;28;01mreturn\u001b[39;00m tree_unflatten(out_tree, ans)\n",
      "File \u001b[0;32m~/anaconda3/lib/python3.11/site-packages/jax/_src/tree_util.py:357\u001b[0m, in \u001b[0;36m_HashableCallableShim.__call__\u001b[0;34m(self, *args, **kw)\u001b[0m\n\u001b[1;32m    356\u001b[0m \u001b[38;5;28;01mdef\u001b[39;00m \u001b[38;5;21m__call__\u001b[39m(\u001b[38;5;28mself\u001b[39m, \u001b[38;5;241m*\u001b[39margs, \u001b[38;5;241m*\u001b[39m\u001b[38;5;241m*\u001b[39mkw):\n\u001b[0;32m--> 357\u001b[0m   \u001b[38;5;28;01mreturn\u001b[39;00m \u001b[38;5;28mself\u001b[39m\u001b[38;5;241m.\u001b[39mfun(\u001b[38;5;241m*\u001b[39margs, \u001b[38;5;241m*\u001b[39m\u001b[38;5;241m*\u001b[39mkw)\n",
      "File \u001b[0;32m~/anaconda3/lib/python3.11/site-packages/jax/_src/interpreters/ad.py:149\u001b[0m, in \u001b[0;36mvjp.<locals>.unbound_vjp\u001b[0;34m(pvals, jaxpr, consts, *cts)\u001b[0m\n\u001b[1;32m    147\u001b[0m cts \u001b[38;5;241m=\u001b[39m \u001b[38;5;28mtuple\u001b[39m(ct \u001b[38;5;28;01mfor\u001b[39;00m ct, pval \u001b[38;5;129;01min\u001b[39;00m \u001b[38;5;28mzip\u001b[39m(cts, pvals) \u001b[38;5;28;01mif\u001b[39;00m \u001b[38;5;129;01mnot\u001b[39;00m pval\u001b[38;5;241m.\u001b[39mis_known())\n\u001b[1;32m    148\u001b[0m dummy_args \u001b[38;5;241m=\u001b[39m [UndefinedPrimal(v\u001b[38;5;241m.\u001b[39maval) \u001b[38;5;28;01mfor\u001b[39;00m v \u001b[38;5;129;01min\u001b[39;00m jaxpr\u001b[38;5;241m.\u001b[39minvars]\n\u001b[0;32m--> 149\u001b[0m arg_cts \u001b[38;5;241m=\u001b[39m backward_pass(jaxpr, reduce_axes, \u001b[38;5;28;01mTrue\u001b[39;00m, consts, dummy_args, cts)\n\u001b[1;32m    150\u001b[0m \u001b[38;5;28;01mreturn\u001b[39;00m \u001b[38;5;28mmap\u001b[39m(instantiate_zeros, arg_cts)\n",
      "File \u001b[0;32m~/anaconda3/lib/python3.11/site-packages/jax/_src/interpreters/ad.py:253\u001b[0m, in \u001b[0;36mbackward_pass\u001b[0;34m(jaxpr, reduce_axes, transform_stack, consts, primals_in, cotangents_in)\u001b[0m\n\u001b[1;32m    250\u001b[0m   cts_out \u001b[38;5;241m=\u001b[39m get_primitive_transpose(eqn\u001b[38;5;241m.\u001b[39mprimitive)(\n\u001b[1;32m    251\u001b[0m       params, call_jaxpr, invals, cts_in, cts_in_avals, reduce_axes)\n\u001b[1;32m    252\u001b[0m \u001b[38;5;28;01melif\u001b[39;00m eqn\u001b[38;5;241m.\u001b[39mprimitive \u001b[38;5;129;01min\u001b[39;00m reducing_transposes:\n\u001b[0;32m--> 253\u001b[0m   cts_out \u001b[38;5;241m=\u001b[39m reducing_transposes[eqn\u001b[38;5;241m.\u001b[39mprimitive](\n\u001b[1;32m    254\u001b[0m       reduce_axes, cts_in, \u001b[38;5;241m*\u001b[39minvals, \u001b[38;5;241m*\u001b[39m\u001b[38;5;241m*\u001b[39meqn\u001b[38;5;241m.\u001b[39mparams)\n\u001b[1;32m    255\u001b[0m \u001b[38;5;28;01melse\u001b[39;00m:\n\u001b[1;32m    256\u001b[0m   cts_out \u001b[38;5;241m=\u001b[39m get_primitive_transpose(eqn\u001b[38;5;241m.\u001b[39mprimitive)(\n\u001b[1;32m    257\u001b[0m       cts_in, \u001b[38;5;241m*\u001b[39minvals, \u001b[38;5;241m*\u001b[39m\u001b[38;5;241m*\u001b[39meqn\u001b[38;5;241m.\u001b[39mparams)\n",
      "File \u001b[0;32m~/anaconda3/lib/python3.11/site-packages/jax/_src/lax/control_flow/loops.py:758\u001b[0m, in \u001b[0;36m_scan_transpose\u001b[0;34m(reduce_axes, cts, reverse, length, num_consts, num_carry, jaxpr, linear, unroll, *args)\u001b[0m\n\u001b[1;32m    751\u001b[0m jaxpr_trans \u001b[38;5;241m=\u001b[39m _transpose_scan_jaxpr(\n\u001b[1;32m    752\u001b[0m     num_ires, num_consts \u001b[38;5;241m-\u001b[39m num_ires, num_eres, jaxpr, reduce_axes,\n\u001b[1;32m    753\u001b[0m     ct_ys_is_zeros)\n\u001b[1;32m    754\u001b[0m linear_trans \u001b[38;5;241m=\u001b[39m ([\u001b[38;5;28;01mFalse\u001b[39;00m] \u001b[38;5;241m*\u001b[39m num_ires \u001b[38;5;241m+\u001b[39m\n\u001b[1;32m    755\u001b[0m                 [\u001b[38;5;28;01mTrue\u001b[39;00m] \u001b[38;5;241m*\u001b[39m (\u001b[38;5;28mlen\u001b[39m(ct_consts) \u001b[38;5;241m+\u001b[39m \u001b[38;5;28mlen\u001b[39m(ct_carry) \u001b[38;5;241m+\u001b[39m \u001b[38;5;28mlen\u001b[39m(ct_ys)) \u001b[38;5;241m+\u001b[39m\n\u001b[1;32m    756\u001b[0m                 [\u001b[38;5;28;01mFalse\u001b[39;00m] \u001b[38;5;241m*\u001b[39m num_eres)\n\u001b[0;32m--> 758\u001b[0m outs \u001b[38;5;241m=\u001b[39m scan_p\u001b[38;5;241m.\u001b[39mbind(\n\u001b[1;32m    759\u001b[0m     \u001b[38;5;241m*\u001b[39m(ires \u001b[38;5;241m+\u001b[39m ct_consts \u001b[38;5;241m+\u001b[39m ct_carry \u001b[38;5;241m+\u001b[39m ct_ys \u001b[38;5;241m+\u001b[39m eres), reverse\u001b[38;5;241m=\u001b[39m\u001b[38;5;129;01mnot\u001b[39;00m reverse,\n\u001b[1;32m    760\u001b[0m     length\u001b[38;5;241m=\u001b[39mlength, jaxpr\u001b[38;5;241m=\u001b[39mjaxpr_trans, num_consts\u001b[38;5;241m=\u001b[39mnum_ires,\n\u001b[1;32m    761\u001b[0m     num_carry\u001b[38;5;241m=\u001b[39mnum_consts\u001b[38;5;241m-\u001b[39mnum_ires\u001b[38;5;241m+\u001b[39mnum_carry, linear\u001b[38;5;241m=\u001b[39m\u001b[38;5;28mtuple\u001b[39m(linear_trans),\n\u001b[1;32m    762\u001b[0m     unroll\u001b[38;5;241m=\u001b[39munroll)\n\u001b[1;32m    763\u001b[0m ct_consts, ct_init, ct_xs \u001b[38;5;241m=\u001b[39m split_list(outs, [num_consts \u001b[38;5;241m-\u001b[39m num_ires, num_carry])\n\u001b[1;32m    764\u001b[0m \u001b[38;5;28;01mreturn\u001b[39;00m [\u001b[38;5;28;01mNone\u001b[39;00m] \u001b[38;5;241m*\u001b[39m num_ires \u001b[38;5;241m+\u001b[39m ct_consts \u001b[38;5;241m+\u001b[39m ct_init \u001b[38;5;241m+\u001b[39m ct_xs \u001b[38;5;241m+\u001b[39m [\u001b[38;5;28;01mNone\u001b[39;00m] \u001b[38;5;241m*\u001b[39m num_eres\n",
      "File \u001b[0;32m~/anaconda3/lib/python3.11/site-packages/jax/_src/lax/control_flow/loops.py:1130\u001b[0m, in \u001b[0;36mscan_bind\u001b[0;34m(*args, **params)\u001b[0m\n\u001b[1;32m   1128\u001b[0m   _scan_typecheck(\u001b[38;5;28;01mTrue\u001b[39;00m, \u001b[38;5;241m*\u001b[39min_atoms, \u001b[38;5;241m*\u001b[39m\u001b[38;5;241m*\u001b[39mparams)\n\u001b[1;32m   1129\u001b[0m   core\u001b[38;5;241m.\u001b[39mcheck_jaxpr(params[\u001b[38;5;124m'\u001b[39m\u001b[38;5;124mjaxpr\u001b[39m\u001b[38;5;124m'\u001b[39m]\u001b[38;5;241m.\u001b[39mjaxpr)\n\u001b[0;32m-> 1130\u001b[0m \u001b[38;5;28;01mreturn\u001b[39;00m core\u001b[38;5;241m.\u001b[39mAxisPrimitive\u001b[38;5;241m.\u001b[39mbind(scan_p, \u001b[38;5;241m*\u001b[39margs, \u001b[38;5;241m*\u001b[39m\u001b[38;5;241m*\u001b[39mparams)\n",
      "File \u001b[0;32m~/anaconda3/lib/python3.11/site-packages/jax/_src/core.py:2740\u001b[0m, in \u001b[0;36mAxisPrimitive.bind\u001b[0;34m(self, *args, **params)\u001b[0m\n\u001b[1;32m   2736\u001b[0m axis_main \u001b[38;5;241m=\u001b[39m \u001b[38;5;28mmax\u001b[39m((axis_frame(a)\u001b[38;5;241m.\u001b[39mmain_trace \u001b[38;5;28;01mfor\u001b[39;00m a \u001b[38;5;129;01min\u001b[39;00m used_axis_names(\u001b[38;5;28mself\u001b[39m, params)),\n\u001b[1;32m   2737\u001b[0m                 default\u001b[38;5;241m=\u001b[39m\u001b[38;5;28;01mNone\u001b[39;00m, key\u001b[38;5;241m=\u001b[39m\u001b[38;5;28;01mlambda\u001b[39;00m t: \u001b[38;5;28mgetattr\u001b[39m(t, \u001b[38;5;124m'\u001b[39m\u001b[38;5;124mlevel\u001b[39m\u001b[38;5;124m'\u001b[39m, \u001b[38;5;241m-\u001b[39m\u001b[38;5;241m1\u001b[39m))\n\u001b[1;32m   2738\u001b[0m top_trace \u001b[38;5;241m=\u001b[39m (top_trace \u001b[38;5;28;01mif\u001b[39;00m \u001b[38;5;129;01mnot\u001b[39;00m axis_main \u001b[38;5;129;01mor\u001b[39;00m axis_main\u001b[38;5;241m.\u001b[39mlevel \u001b[38;5;241m<\u001b[39m top_trace\u001b[38;5;241m.\u001b[39mlevel\n\u001b[1;32m   2739\u001b[0m              \u001b[38;5;28;01melse\u001b[39;00m axis_main\u001b[38;5;241m.\u001b[39mwith_cur_sublevel())\n\u001b[0;32m-> 2740\u001b[0m \u001b[38;5;28;01mreturn\u001b[39;00m \u001b[38;5;28mself\u001b[39m\u001b[38;5;241m.\u001b[39mbind_with_trace(top_trace, args, params)\n",
      "File \u001b[0;32m~/anaconda3/lib/python3.11/site-packages/jax/_src/core.py:447\u001b[0m, in \u001b[0;36mPrimitive.bind_with_trace\u001b[0;34m(self, trace, args, params)\u001b[0m\n\u001b[1;32m    446\u001b[0m \u001b[38;5;28;01mdef\u001b[39;00m \u001b[38;5;21mbind_with_trace\u001b[39m(\u001b[38;5;28mself\u001b[39m, trace, args, params):\n\u001b[0;32m--> 447\u001b[0m   out \u001b[38;5;241m=\u001b[39m trace\u001b[38;5;241m.\u001b[39mprocess_primitive(\u001b[38;5;28mself\u001b[39m, \u001b[38;5;28mmap\u001b[39m(trace\u001b[38;5;241m.\u001b[39mfull_raise, args), params)\n\u001b[1;32m    448\u001b[0m   \u001b[38;5;28;01mreturn\u001b[39;00m \u001b[38;5;28mmap\u001b[39m(full_lower, out) \u001b[38;5;28;01mif\u001b[39;00m \u001b[38;5;28mself\u001b[39m\u001b[38;5;241m.\u001b[39mmultiple_results \u001b[38;5;28;01melse\u001b[39;00m full_lower(out)\n",
      "File \u001b[0;32m~/anaconda3/lib/python3.11/site-packages/jax/_src/core.py:935\u001b[0m, in \u001b[0;36mEvalTrace.process_primitive\u001b[0;34m(self, primitive, tracers, params)\u001b[0m\n\u001b[1;32m    934\u001b[0m \u001b[38;5;28;01mdef\u001b[39;00m \u001b[38;5;21mprocess_primitive\u001b[39m(\u001b[38;5;28mself\u001b[39m, primitive, tracers, params):\n\u001b[0;32m--> 935\u001b[0m   \u001b[38;5;28;01mreturn\u001b[39;00m primitive\u001b[38;5;241m.\u001b[39mimpl(\u001b[38;5;241m*\u001b[39mtracers, \u001b[38;5;241m*\u001b[39m\u001b[38;5;241m*\u001b[39mparams)\n",
      "File \u001b[0;32m~/anaconda3/lib/python3.11/site-packages/jax/_src/dispatch.py:87\u001b[0m, in \u001b[0;36mapply_primitive\u001b[0;34m(prim, *args, **params)\u001b[0m\n\u001b[1;32m     85\u001b[0m prev \u001b[38;5;241m=\u001b[39m lib\u001b[38;5;241m.\u001b[39mjax_jit\u001b[38;5;241m.\u001b[39mswap_thread_local_state_disable_jit(\u001b[38;5;28;01mFalse\u001b[39;00m)\n\u001b[1;32m     86\u001b[0m \u001b[38;5;28;01mtry\u001b[39;00m:\n\u001b[0;32m---> 87\u001b[0m   outs \u001b[38;5;241m=\u001b[39m fun(\u001b[38;5;241m*\u001b[39margs)\n\u001b[1;32m     88\u001b[0m \u001b[38;5;28;01mfinally\u001b[39;00m:\n\u001b[1;32m     89\u001b[0m   lib\u001b[38;5;241m.\u001b[39mjax_jit\u001b[38;5;241m.\u001b[39mswap_thread_local_state_disable_jit(prev)\n",
      "    \u001b[0;31m[... skipping hidden 1 frame]\u001b[0m\n",
      "File \u001b[0;32m~/anaconda3/lib/python3.11/site-packages/jax/_src/pjit.py:257\u001b[0m, in \u001b[0;36m_cpp_pjit.<locals>.cache_miss\u001b[0;34m(*args, **kwargs)\u001b[0m\n\u001b[1;32m    255\u001b[0m \u001b[38;5;129m@api_boundary\u001b[39m\n\u001b[1;32m    256\u001b[0m \u001b[38;5;28;01mdef\u001b[39;00m \u001b[38;5;21mcache_miss\u001b[39m(\u001b[38;5;241m*\u001b[39margs, \u001b[38;5;241m*\u001b[39m\u001b[38;5;241m*\u001b[39mkwargs):\n\u001b[0;32m--> 257\u001b[0m   outs, out_flat, out_tree, args_flat, jaxpr \u001b[38;5;241m=\u001b[39m _python_pjit_helper(\n\u001b[1;32m    258\u001b[0m       fun, infer_params_fn, \u001b[38;5;241m*\u001b[39margs, \u001b[38;5;241m*\u001b[39m\u001b[38;5;241m*\u001b[39mkwargs)\n\u001b[1;32m    259\u001b[0m   executable \u001b[38;5;241m=\u001b[39m _read_most_recent_pjit_call_executable(jaxpr)\n\u001b[1;32m    260\u001b[0m   fastpath_data \u001b[38;5;241m=\u001b[39m _get_fastpath_data(executable, out_tree, args_flat, out_flat)\n",
      "File \u001b[0;32m~/anaconda3/lib/python3.11/site-packages/jax/_src/pjit.py:168\u001b[0m, in \u001b[0;36m_python_pjit_helper\u001b[0;34m(fun, infer_params_fn, *args, **kwargs)\u001b[0m\n\u001b[1;32m    166\u001b[0m   dispatch\u001b[38;5;241m.\u001b[39mcheck_arg(arg)\n\u001b[1;32m    167\u001b[0m \u001b[38;5;28;01mtry\u001b[39;00m:\n\u001b[0;32m--> 168\u001b[0m   out_flat \u001b[38;5;241m=\u001b[39m pjit_p\u001b[38;5;241m.\u001b[39mbind(\u001b[38;5;241m*\u001b[39margs_flat, \u001b[38;5;241m*\u001b[39m\u001b[38;5;241m*\u001b[39mparams)\n\u001b[1;32m    169\u001b[0m \u001b[38;5;28;01mexcept\u001b[39;00m pxla\u001b[38;5;241m.\u001b[39mDeviceAssignmentMismatchError \u001b[38;5;28;01mas\u001b[39;00m e:\n\u001b[1;32m    170\u001b[0m   fails, \u001b[38;5;241m=\u001b[39m e\u001b[38;5;241m.\u001b[39margs\n",
      "File \u001b[0;32m~/anaconda3/lib/python3.11/site-packages/jax/_src/core.py:2740\u001b[0m, in \u001b[0;36mAxisPrimitive.bind\u001b[0;34m(self, *args, **params)\u001b[0m\n\u001b[1;32m   2736\u001b[0m axis_main \u001b[38;5;241m=\u001b[39m \u001b[38;5;28mmax\u001b[39m((axis_frame(a)\u001b[38;5;241m.\u001b[39mmain_trace \u001b[38;5;28;01mfor\u001b[39;00m a \u001b[38;5;129;01min\u001b[39;00m used_axis_names(\u001b[38;5;28mself\u001b[39m, params)),\n\u001b[1;32m   2737\u001b[0m                 default\u001b[38;5;241m=\u001b[39m\u001b[38;5;28;01mNone\u001b[39;00m, key\u001b[38;5;241m=\u001b[39m\u001b[38;5;28;01mlambda\u001b[39;00m t: \u001b[38;5;28mgetattr\u001b[39m(t, \u001b[38;5;124m'\u001b[39m\u001b[38;5;124mlevel\u001b[39m\u001b[38;5;124m'\u001b[39m, \u001b[38;5;241m-\u001b[39m\u001b[38;5;241m1\u001b[39m))\n\u001b[1;32m   2738\u001b[0m top_trace \u001b[38;5;241m=\u001b[39m (top_trace \u001b[38;5;28;01mif\u001b[39;00m \u001b[38;5;129;01mnot\u001b[39;00m axis_main \u001b[38;5;129;01mor\u001b[39;00m axis_main\u001b[38;5;241m.\u001b[39mlevel \u001b[38;5;241m<\u001b[39m top_trace\u001b[38;5;241m.\u001b[39mlevel\n\u001b[1;32m   2739\u001b[0m              \u001b[38;5;28;01melse\u001b[39;00m axis_main\u001b[38;5;241m.\u001b[39mwith_cur_sublevel())\n\u001b[0;32m-> 2740\u001b[0m \u001b[38;5;28;01mreturn\u001b[39;00m \u001b[38;5;28mself\u001b[39m\u001b[38;5;241m.\u001b[39mbind_with_trace(top_trace, args, params)\n",
      "File \u001b[0;32m~/anaconda3/lib/python3.11/site-packages/jax/_src/core.py:447\u001b[0m, in \u001b[0;36mPrimitive.bind_with_trace\u001b[0;34m(self, trace, args, params)\u001b[0m\n\u001b[1;32m    446\u001b[0m \u001b[38;5;28;01mdef\u001b[39;00m \u001b[38;5;21mbind_with_trace\u001b[39m(\u001b[38;5;28mself\u001b[39m, trace, args, params):\n\u001b[0;32m--> 447\u001b[0m   out \u001b[38;5;241m=\u001b[39m trace\u001b[38;5;241m.\u001b[39mprocess_primitive(\u001b[38;5;28mself\u001b[39m, \u001b[38;5;28mmap\u001b[39m(trace\u001b[38;5;241m.\u001b[39mfull_raise, args), params)\n\u001b[1;32m    448\u001b[0m   \u001b[38;5;28;01mreturn\u001b[39;00m \u001b[38;5;28mmap\u001b[39m(full_lower, out) \u001b[38;5;28;01mif\u001b[39;00m \u001b[38;5;28mself\u001b[39m\u001b[38;5;241m.\u001b[39mmultiple_results \u001b[38;5;28;01melse\u001b[39;00m full_lower(out)\n",
      "File \u001b[0;32m~/anaconda3/lib/python3.11/site-packages/jax/_src/core.py:935\u001b[0m, in \u001b[0;36mEvalTrace.process_primitive\u001b[0;34m(self, primitive, tracers, params)\u001b[0m\n\u001b[1;32m    934\u001b[0m \u001b[38;5;28;01mdef\u001b[39;00m \u001b[38;5;21mprocess_primitive\u001b[39m(\u001b[38;5;28mself\u001b[39m, primitive, tracers, params):\n\u001b[0;32m--> 935\u001b[0m   \u001b[38;5;28;01mreturn\u001b[39;00m primitive\u001b[38;5;241m.\u001b[39mimpl(\u001b[38;5;241m*\u001b[39mtracers, \u001b[38;5;241m*\u001b[39m\u001b[38;5;241m*\u001b[39mparams)\n",
      "File \u001b[0;32m~/anaconda3/lib/python3.11/site-packages/jax/_src/pjit.py:1245\u001b[0m, in \u001b[0;36m_pjit_call_impl\u001b[0;34m(jaxpr, in_shardings, out_shardings, resource_env, donated_invars, name, keep_unused, inline, *args)\u001b[0m\n\u001b[1;32m   1242\u001b[0m donated_argnums \u001b[38;5;241m=\u001b[39m [i \u001b[38;5;28;01mfor\u001b[39;00m i, d \u001b[38;5;129;01min\u001b[39;00m \u001b[38;5;28menumerate\u001b[39m(donated_invars) \u001b[38;5;28;01mif\u001b[39;00m d]\n\u001b[1;32m   1243\u001b[0m has_explicit_sharding \u001b[38;5;241m=\u001b[39m _pjit_explicit_sharding(\n\u001b[1;32m   1244\u001b[0m     in_shardings, out_shardings, \u001b[38;5;28;01mNone\u001b[39;00m, \u001b[38;5;28;01mNone\u001b[39;00m)\n\u001b[0;32m-> 1245\u001b[0m \u001b[38;5;28;01mreturn\u001b[39;00m xc\u001b[38;5;241m.\u001b[39m_xla\u001b[38;5;241m.\u001b[39mpjit(name, f, call_impl_cache_miss, [], [], donated_argnums,\n\u001b[1;32m   1246\u001b[0m                     tree_util\u001b[38;5;241m.\u001b[39mdispatch_registry,\n\u001b[1;32m   1247\u001b[0m                     _get_cpp_global_cache(has_explicit_sharding))(\u001b[38;5;241m*\u001b[39margs)\n",
      "File \u001b[0;32m~/anaconda3/lib/python3.11/site-packages/jax/_src/pjit.py:1229\u001b[0m, in \u001b[0;36m_pjit_call_impl.<locals>.call_impl_cache_miss\u001b[0;34m(*args_, **kwargs_)\u001b[0m\n\u001b[1;32m   1228\u001b[0m \u001b[38;5;28;01mdef\u001b[39;00m \u001b[38;5;21mcall_impl_cache_miss\u001b[39m(\u001b[38;5;241m*\u001b[39margs_, \u001b[38;5;241m*\u001b[39m\u001b[38;5;241m*\u001b[39mkwargs_):\n\u001b[0;32m-> 1229\u001b[0m   out_flat, compiled \u001b[38;5;241m=\u001b[39m _pjit_call_impl_python(\n\u001b[1;32m   1230\u001b[0m       \u001b[38;5;241m*\u001b[39margs, jaxpr\u001b[38;5;241m=\u001b[39mjaxpr, in_shardings\u001b[38;5;241m=\u001b[39min_shardings,\n\u001b[1;32m   1231\u001b[0m       out_shardings\u001b[38;5;241m=\u001b[39mout_shardings, resource_env\u001b[38;5;241m=\u001b[39mresource_env,\n\u001b[1;32m   1232\u001b[0m       donated_invars\u001b[38;5;241m=\u001b[39mdonated_invars, name\u001b[38;5;241m=\u001b[39mname, keep_unused\u001b[38;5;241m=\u001b[39mkeep_unused,\n\u001b[1;32m   1233\u001b[0m       inline\u001b[38;5;241m=\u001b[39minline)\n\u001b[1;32m   1234\u001b[0m   fastpath_data \u001b[38;5;241m=\u001b[39m _get_fastpath_data(\n\u001b[1;32m   1235\u001b[0m       compiled, tree_structure(out_flat), args, out_flat)\n\u001b[1;32m   1236\u001b[0m   \u001b[38;5;28;01mreturn\u001b[39;00m out_flat, fastpath_data\n",
      "File \u001b[0;32m~/anaconda3/lib/python3.11/site-packages/jax/_src/pjit.py:1165\u001b[0m, in \u001b[0;36m_pjit_call_impl_python\u001b[0;34m(jaxpr, in_shardings, out_shardings, resource_env, donated_invars, name, keep_unused, inline, *args)\u001b[0m\n\u001b[1;32m   1156\u001b[0m \u001b[38;5;28;01mglobal\u001b[39;00m _most_recent_pjit_call_executable\n\u001b[1;32m   1158\u001b[0m in_shardings \u001b[38;5;241m=\u001b[39m _resolve_in_shardings(\n\u001b[1;32m   1159\u001b[0m     args, in_shardings, out_shardings,\n\u001b[1;32m   1160\u001b[0m     resource_env\u001b[38;5;241m.\u001b[39mphysical_mesh \u001b[38;5;28;01mif\u001b[39;00m resource_env \u001b[38;5;129;01mis\u001b[39;00m \u001b[38;5;129;01mnot\u001b[39;00m \u001b[38;5;28;01mNone\u001b[39;00m \u001b[38;5;28;01melse\u001b[39;00m \u001b[38;5;28;01mNone\u001b[39;00m)\n\u001b[1;32m   1162\u001b[0m compiled \u001b[38;5;241m=\u001b[39m _pjit_lower(\n\u001b[1;32m   1163\u001b[0m     jaxpr, in_shardings, out_shardings, resource_env,\n\u001b[1;32m   1164\u001b[0m     donated_invars, name, keep_unused, inline,\n\u001b[0;32m-> 1165\u001b[0m     lowering_parameters\u001b[38;5;241m=\u001b[39mmlir\u001b[38;5;241m.\u001b[39mLoweringParameters())\u001b[38;5;241m.\u001b[39mcompile()\n\u001b[1;32m   1166\u001b[0m _most_recent_pjit_call_executable\u001b[38;5;241m.\u001b[39mweak_key_dict[jaxpr] \u001b[38;5;241m=\u001b[39m compiled\n\u001b[1;32m   1167\u001b[0m \u001b[38;5;66;03m# This check is expensive so only do it if enable_checks is on.\u001b[39;00m\n",
      "File \u001b[0;32m~/anaconda3/lib/python3.11/site-packages/jax/_src/interpreters/pxla.py:2219\u001b[0m, in \u001b[0;36mMeshComputation.compile\u001b[0;34m(self, compiler_options)\u001b[0m\n\u001b[1;32m   2217\u001b[0m \u001b[38;5;28;01mdef\u001b[39;00m \u001b[38;5;21mcompile\u001b[39m(\u001b[38;5;28mself\u001b[39m, compiler_options\u001b[38;5;241m=\u001b[39m\u001b[38;5;28;01mNone\u001b[39;00m) \u001b[38;5;241m-\u001b[39m\u001b[38;5;241m>\u001b[39m MeshExecutable:\n\u001b[1;32m   2218\u001b[0m   \u001b[38;5;28;01mif\u001b[39;00m \u001b[38;5;28mself\u001b[39m\u001b[38;5;241m.\u001b[39m_executable \u001b[38;5;129;01mis\u001b[39;00m \u001b[38;5;28;01mNone\u001b[39;00m \u001b[38;5;129;01mor\u001b[39;00m compiler_options \u001b[38;5;129;01mis\u001b[39;00m \u001b[38;5;129;01mnot\u001b[39;00m \u001b[38;5;28;01mNone\u001b[39;00m:\n\u001b[0;32m-> 2219\u001b[0m     executable \u001b[38;5;241m=\u001b[39m UnloadedMeshExecutable\u001b[38;5;241m.\u001b[39mfrom_hlo(\n\u001b[1;32m   2220\u001b[0m         \u001b[38;5;28mself\u001b[39m\u001b[38;5;241m.\u001b[39m_name, \u001b[38;5;28mself\u001b[39m\u001b[38;5;241m.\u001b[39m_hlo, \u001b[38;5;241m*\u001b[39m\u001b[38;5;241m*\u001b[39m\u001b[38;5;28mself\u001b[39m\u001b[38;5;241m.\u001b[39mcompile_args,\n\u001b[1;32m   2221\u001b[0m         compiler_options\u001b[38;5;241m=\u001b[39mcompiler_options)\n\u001b[1;32m   2222\u001b[0m     \u001b[38;5;28;01mif\u001b[39;00m compiler_options \u001b[38;5;129;01mis\u001b[39;00m \u001b[38;5;28;01mNone\u001b[39;00m:\n\u001b[1;32m   2223\u001b[0m       \u001b[38;5;28mself\u001b[39m\u001b[38;5;241m.\u001b[39m_executable \u001b[38;5;241m=\u001b[39m executable\n",
      "File \u001b[0;32m~/anaconda3/lib/python3.11/site-packages/jax/_src/interpreters/pxla.py:2659\u001b[0m, in \u001b[0;36mUnloadedMeshExecutable.from_hlo\u001b[0;34m(***failed resolving arguments***)\u001b[0m\n\u001b[1;32m   2656\u001b[0m       mesh \u001b[38;5;241m=\u001b[39m i\u001b[38;5;241m.\u001b[39mmesh  \u001b[38;5;66;03m# type: ignore\u001b[39;00m\n\u001b[1;32m   2657\u001b[0m       \u001b[38;5;28;01mbreak\u001b[39;00m\n\u001b[0;32m-> 2659\u001b[0m xla_executable, compile_options \u001b[38;5;241m=\u001b[39m _cached_compilation(\n\u001b[1;32m   2660\u001b[0m     hlo, name, mesh, spmd_lowering,\n\u001b[1;32m   2661\u001b[0m     tuple_args, auto_spmd_lowering, allow_prop_to_outputs,\n\u001b[1;32m   2662\u001b[0m     \u001b[38;5;28mtuple\u001b[39m(host_callbacks), backend, da, pmap_nreps,\n\u001b[1;32m   2663\u001b[0m     compiler_options_keys, compiler_options_values)\n\u001b[1;32m   2665\u001b[0m \u001b[38;5;28;01mif\u001b[39;00m \u001b[38;5;28mhasattr\u001b[39m(backend, \u001b[38;5;124m\"\u001b[39m\u001b[38;5;124mcompile_replicated\u001b[39m\u001b[38;5;124m\"\u001b[39m):\n\u001b[1;32m   2666\u001b[0m   semantics_in_shardings \u001b[38;5;241m=\u001b[39m SemanticallyEqualShardings(in_shardings)  \u001b[38;5;66;03m# type: ignore\u001b[39;00m\n",
      "File \u001b[0;32m~/anaconda3/lib/python3.11/site-packages/jax/_src/interpreters/pxla.py:2528\u001b[0m, in \u001b[0;36m_cached_compilation\u001b[0;34m(computation, name, mesh, spmd_lowering, tuple_args, auto_spmd_lowering, _allow_propagation_to_outputs, host_callbacks, backend, da, pmap_nreps, compiler_options_keys, compiler_options_values)\u001b[0m\n\u001b[1;32m   2523\u001b[0m   \u001b[38;5;28;01mreturn\u001b[39;00m \u001b[38;5;28;01mNone\u001b[39;00m, compile_options\n\u001b[1;32m   2525\u001b[0m \u001b[38;5;28;01mwith\u001b[39;00m dispatch\u001b[38;5;241m.\u001b[39mlog_elapsed_time(\n\u001b[1;32m   2526\u001b[0m     \u001b[38;5;124m\"\u001b[39m\u001b[38;5;124mFinished XLA compilation of \u001b[39m\u001b[38;5;132;01m{fun_name}\u001b[39;00m\u001b[38;5;124m in \u001b[39m\u001b[38;5;132;01m{elapsed_time}\u001b[39;00m\u001b[38;5;124m sec\u001b[39m\u001b[38;5;124m\"\u001b[39m,\n\u001b[1;32m   2527\u001b[0m     fun_name\u001b[38;5;241m=\u001b[39mname, event\u001b[38;5;241m=\u001b[39mdispatch\u001b[38;5;241m.\u001b[39mBACKEND_COMPILE_EVENT):\n\u001b[0;32m-> 2528\u001b[0m   xla_executable \u001b[38;5;241m=\u001b[39m compiler\u001b[38;5;241m.\u001b[39mcompile_or_get_cached(\n\u001b[1;32m   2529\u001b[0m       backend, computation, dev, compile_options, host_callbacks)\n\u001b[1;32m   2530\u001b[0m \u001b[38;5;28;01mreturn\u001b[39;00m xla_executable, compile_options\n",
      "File \u001b[0;32m~/anaconda3/lib/python3.11/site-packages/jax/_src/compiler.py:296\u001b[0m, in \u001b[0;36mcompile_or_get_cached\u001b[0;34m(backend, computation, devices, compile_options, host_callbacks)\u001b[0m\n\u001b[1;32m    292\u001b[0m use_compilation_cache \u001b[38;5;241m=\u001b[39m (compilation_cache\u001b[38;5;241m.\u001b[39mis_initialized() \u001b[38;5;129;01mand\u001b[39;00m\n\u001b[1;32m    293\u001b[0m                          backend\u001b[38;5;241m.\u001b[39mplatform \u001b[38;5;129;01min\u001b[39;00m supported_platforms)\n\u001b[1;32m    295\u001b[0m \u001b[38;5;28;01mif\u001b[39;00m \u001b[38;5;129;01mnot\u001b[39;00m use_compilation_cache:\n\u001b[0;32m--> 296\u001b[0m   \u001b[38;5;28;01mreturn\u001b[39;00m backend_compile(backend, computation, compile_options,\n\u001b[1;32m    297\u001b[0m                          host_callbacks)\n\u001b[1;32m    299\u001b[0m compilation_cache\u001b[38;5;241m.\u001b[39mset_once_cache_used(\n\u001b[1;32m    300\u001b[0m     \u001b[38;5;28;01mlambda\u001b[39;00m: monitoring\u001b[38;5;241m.\u001b[39mrecord_event(\n\u001b[1;32m    301\u001b[0m         \u001b[38;5;124m\"\u001b[39m\u001b[38;5;124m/jax/compilation_cache/tasks_using_cache\u001b[39m\u001b[38;5;124m\"\u001b[39m))\n\u001b[1;32m    302\u001b[0m monitoring\u001b[38;5;241m.\u001b[39mrecord_event(\u001b[38;5;124m'\u001b[39m\u001b[38;5;124m/jax/compilation_cache/compile_requests_use_cache\u001b[39m\u001b[38;5;124m'\u001b[39m)\n",
      "File \u001b[0;32m~/anaconda3/lib/python3.11/site-packages/jax/_src/profiler.py:336\u001b[0m, in \u001b[0;36mannotate_function.<locals>.wrapper\u001b[0;34m(*args, **kwargs)\u001b[0m\n\u001b[1;32m    333\u001b[0m \u001b[38;5;129m@wraps\u001b[39m(func)\n\u001b[1;32m    334\u001b[0m \u001b[38;5;28;01mdef\u001b[39;00m \u001b[38;5;21mwrapper\u001b[39m(\u001b[38;5;241m*\u001b[39margs, \u001b[38;5;241m*\u001b[39m\u001b[38;5;241m*\u001b[39mkwargs):\n\u001b[1;32m    335\u001b[0m   \u001b[38;5;28;01mwith\u001b[39;00m TraceAnnotation(name, \u001b[38;5;241m*\u001b[39m\u001b[38;5;241m*\u001b[39mdecorator_kwargs):\n\u001b[0;32m--> 336\u001b[0m     \u001b[38;5;28;01mreturn\u001b[39;00m func(\u001b[38;5;241m*\u001b[39margs, \u001b[38;5;241m*\u001b[39m\u001b[38;5;241m*\u001b[39mkwargs)\n\u001b[1;32m    337\u001b[0m   \u001b[38;5;28;01mreturn\u001b[39;00m wrapper\n",
      "File \u001b[0;32m~/anaconda3/lib/python3.11/site-packages/jax/_src/compiler.py:256\u001b[0m, in \u001b[0;36mbackend_compile\u001b[0;34m(backend, module, options, host_callbacks)\u001b[0m\n\u001b[1;32m    251\u001b[0m   \u001b[38;5;28;01mreturn\u001b[39;00m backend\u001b[38;5;241m.\u001b[39mcompile(built_c, compile_options\u001b[38;5;241m=\u001b[39moptions,\n\u001b[1;32m    252\u001b[0m                          host_callbacks\u001b[38;5;241m=\u001b[39mhost_callbacks)\n\u001b[1;32m    253\u001b[0m \u001b[38;5;66;03m# Some backends don't have `host_callbacks` option yet\u001b[39;00m\n\u001b[1;32m    254\u001b[0m \u001b[38;5;66;03m# TODO(sharadmv): remove this fallback when all backends allow `compile`\u001b[39;00m\n\u001b[1;32m    255\u001b[0m \u001b[38;5;66;03m# to take in `host_callbacks`\u001b[39;00m\n\u001b[0;32m--> 256\u001b[0m \u001b[38;5;28;01mreturn\u001b[39;00m backend\u001b[38;5;241m.\u001b[39mcompile(built_c, compile_options\u001b[38;5;241m=\u001b[39moptions)\n",
      "\u001b[0;31mKeyboardInterrupt\u001b[0m: "
     ]
    }
   ],
   "source": [
    "from IPython.display import clear_output\n",
    "from jax import grad\n",
    "from tqdm.notebook import tqdm\n",
    "import jax.numpy as jnp\n",
    "from jax import random\n",
    "import properscoring\n",
    "\n",
    "\n",
    "\n",
    "# Modification: Use grad to compute the gradient with respect to the inflation parameter\n",
    "var_cost_grad = grad(var_cost, argnums=0)\n",
    "\n",
    "J0 = 0\n",
    "inflation_opt = 1.1  # Example starting value for inflation\n",
    "alpha = 1e-6  # Learning rate\n",
    "key = random.PRNGKey(0)  # Random key\n",
    "N = 10  # Number of MC samples\n",
    "m0 = initial_state\n",
    "C0 = Q  # Initial covariance, assuming Q is your process noise covariance\n",
    "localization_matrix = generate_gc_localization_matrix(n, 15)# jnp.ones((n, n)) # \n",
    "n_ensemble  = 20\n",
    "ensemble_init = random.multivariate_normal(key, initial_state, Q, (n_ensemble,)).T\n",
    "\n",
    "crpss = []\n",
    "rmses=[]\n",
    "inflations = []\n",
    "true_filter_divergences = []\n",
    "\n",
    "# from jax import config\n",
    "# config.update(\"jax_debug_nans\", True)\n",
    "\n",
    "for i in tqdm(range(50)):\n",
    "    key, subkey = random.split(key)\n",
    "        \n",
    "    # Gradient descent step for inflation parameter\n",
    "    grad_inflation = var_cost_grad(inflation_opt, ensemble_init, observations, H, Q, R, localization_matrix, subkey, num_steps, J0)\n",
    "    inflation_opt -= alpha * grad_inflation  # Update inflation parameter\n",
    "    \n",
    "    inflations.append(inflation_opt)\n",
    "\n",
    "    states, covariances = ensrf_steps(A_step, n_ensemble, ensemble_init, num_steps, observations, observation_interval, H, Q, R, localization_matrix, inflation, key)\n",
    "    \n",
    "    ensemble_mean = jnp.mean(states, axis=-1)  # Taking the mean across the ensemble members dimension\n",
    "    #true_filter_divergences.append(KL_gaussian(ensemble_mean.T, covariances, ms.T, Cs))\n",
    "\n",
    "    rmse = jnp.sqrt(jnp.mean((ensemble_mean - true_states)**2))\n",
    "    rmses.append(rmse)\n",
    "    crps = properscoring.crps_ensemble(true_states, states).mean(axis=1).mean()\n",
    "    crpss.append(crps)\n",
    "    #clear_output(wait=True)\n",
    "    \n",
    "    print(inflation_opt, crps)"
   ]
  },
  {
   "cell_type": "code",
   "execution_count": 51,
   "id": "68bfbd18-fca0-4f90-9ffe-7d0537a51b91",
   "metadata": {},
   "outputs": [
    {
     "data": {
      "text/plain": [
       "Array([[ 0.07836241, -0.7641989 , -0.12098181, ..., -0.20468104,\n",
       "        -0.53091204,  0.32743043],\n",
       "       [ 0.12314163, -0.52652967, -0.26787078, ..., -0.44446802,\n",
       "        -0.34339535,  0.09057826],\n",
       "       [ 0.21506685, -0.34971774,  0.22789443, ..., -0.23412657,\n",
       "        -0.08423281,  0.46471524],\n",
       "       ...,\n",
       "       [ 0.60597956, -0.00444032, -0.76824206, ...,  0.15328997,\n",
       "        -0.3658951 , -0.06035931],\n",
       "       [ 0.06862107,  0.02553357,  0.6577666 , ...,  0.07941943,\n",
       "        -0.88178587,  0.00518188],\n",
       "       [-0.05369499,  0.08855119, -0.27075857, ..., -0.10694164,\n",
       "        -0.12803587,  0.00748018]], dtype=float32)"
      ]
     },
     "execution_count": 51,
     "metadata": {},
     "output_type": "execute_result"
    }
   ],
   "source": [
    "ms"
   ]
  }
 ],
 "metadata": {
  "kernelspec": {
   "display_name": "Python 3 (ipykernel)",
   "language": "python",
   "name": "python3"
  },
  "language_info": {
   "codemirror_mode": {
    "name": "ipython",
    "version": 3
   },
   "file_extension": ".py",
   "mimetype": "text/x-python",
   "name": "python",
   "nbconvert_exporter": "python",
   "pygments_lexer": "ipython3",
   "version": "3.11.5"
  }
 },
 "nbformat": 4,
 "nbformat_minor": 5
}
