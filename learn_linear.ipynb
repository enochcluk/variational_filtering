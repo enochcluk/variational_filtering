{
 "cells": [
  {
   "cell_type": "code",
   "execution_count": 15,
   "id": "88e09d12-5017-4ada-a599-b4c6ff4e88d2",
   "metadata": {},
   "outputs": [],
   "source": [
    "# Import necessary libraries\n",
    "import jax.numpy as jnp\n",
    "from jax import random, grad, jit, lax\n",
    "from jax.scipy.linalg import inv, svd, eigh, det\n",
    "from jax.numpy.linalg import norm\n",
    "from tqdm import tqdm\n",
    "from sklearn.datasets import make_spd_matrix\n",
    "from jax_models import Lorenz96\n",
    "from jax_models import visualize_observations, Lorenz96, generate_true_states, generate_gc_localization_matrix\n",
    "#from jax_filters import ensrf_steps\n",
    "import jax\n",
    "import matplotlib.pyplot as plt\n",
    "#from jax_vi import KL_gaussian, log_likelihood\n",
    "from jax.tree_util import Partial\n",
    "\n",
    "def create_stable_matrix(n, key):\n",
    "    # Generate a symmetric random matrix\n",
    "    A = random.normal(key, (n, n))\n",
    "    A = (A + A.T) / 2\n",
    "    # Ensure the matrix has a spectral radius < 1 for stability\n",
    "    eigenvalues, eigenvectors = eigh(A)\n",
    "    scaled_eigenvalues = eigenvalues / (jnp.abs(eigenvalues).max() + 0.1)  # Scale eigenvalues to ensure stability\n",
    "    A_stable = eigenvectors @ jnp.diag(scaled_eigenvalues) @ eigenvectors.T\n",
    "    return A_stable\n",
    "\n",
    "key = random.PRNGKey(0)\n",
    "n = 40\n",
    "Q = 0.1 * jnp.eye(n)  # Process noise covariance\n",
    "R_matrix = 0.5 * jnp.eye(n)#make_spd_matrix(n)  # Generating a symmetric positive definite matrix for R\n",
    "R = jnp.array(R_matrix)  # Observation noise covariance\n",
    "H = jnp.eye(n)  # Observation matrix\n",
    "initial_state = random.normal(random.PRNGKey(0), (n,))  # Initial state\n",
    "observation_interval = 1\n",
    "n_ensemble = 20\n",
    "\n",
    "A_stable = create_stable_matrix(n, key)\n",
    "\n",
    "M = A_stable\n",
    "def state_transition_function(x):\n",
    "    return jnp.dot(M, x)\n",
    "\n",
    "def jacobian_function(x):\n",
    "    return M\n",
    "\n",
    "jac_func = Partial(jacobian_function)\n",
    "A_step = Partial(state_transition_function)\n",
    "\n",
    "num_steps = 100"
   ]
  },
  {
   "cell_type": "code",
   "execution_count": 2,
   "id": "59c41a42-cde0-4814-9be4-a04d7576725d",
   "metadata": {},
   "outputs": [
    {
     "data": {
      "text/plain": [
       "Array([[-0.00498583, -0.13649331, -0.02905141, ...,  0.04102162,\n",
       "        -0.0355752 ,  0.11369595],\n",
       "       [-0.13649331,  0.01910555, -0.03708115, ..., -0.03015236,\n",
       "         0.0199717 , -0.09355967],\n",
       "       [-0.02905142, -0.03708115,  0.09458236, ..., -0.04205253,\n",
       "        -0.07820393, -0.11111479],\n",
       "       ...,\n",
       "       [ 0.04102163, -0.03015236, -0.04205254, ..., -0.01375088,\n",
       "         0.06516878, -0.07160039],\n",
       "       [-0.03557519,  0.0199717 , -0.07820394, ...,  0.06516878,\n",
       "         0.13236032,  0.04353936],\n",
       "       [ 0.11369595, -0.09355966, -0.11111479, ..., -0.07160041,\n",
       "         0.04353936, -0.20437019]], dtype=float32)"
      ]
     },
     "execution_count": 2,
     "metadata": {},
     "output_type": "execute_result"
    }
   ],
   "source": [
    "A_stable #first number should be - 0.004985"
   ]
  },
  {
   "cell_type": "code",
   "execution_count": 46,
   "id": "6ab6d4ee-f819-4e77-97a5-2e69029c5b0a",
   "metadata": {},
   "outputs": [],
   "source": [
    "observations, true_states = generate_true_states(key, num_steps, n, initial_state, H, Q, R, A_step, observation_interval+ 3)"
   ]
  },
  {
   "cell_type": "code",
   "execution_count": 47,
   "id": "c91329ee-9348-4132-b943-e9068ce6aa5c",
   "metadata": {},
   "outputs": [
    {
     "data": {
      "text/plain": [
       "Array([-0.04309407,         nan,         nan,         nan,  0.06407922,\n",
       "               nan,         nan,         nan, -0.09228519,         nan,\n",
       "               nan,         nan,  0.10621283,         nan,         nan,\n",
       "               nan,  0.15251684,         nan,         nan,         nan,\n",
       "       -0.208201  ,         nan,         nan,         nan,  0.1527056 ,\n",
       "               nan,         nan,         nan, -0.2755527 ,         nan,\n",
       "               nan,         nan,  0.28428125,         nan,         nan,\n",
       "               nan, -0.08476555,         nan,         nan,         nan,\n",
       "        0.19532718,         nan,         nan,         nan, -0.18693644,\n",
       "               nan,         nan,         nan, -0.11860991,         nan,\n",
       "               nan,         nan,  0.01496275,         nan,         nan,\n",
       "               nan, -0.00263208,         nan,         nan,         nan,\n",
       "        0.12697113,         nan,         nan,         nan,  0.03223038,\n",
       "               nan,         nan,         nan,  0.05954238,         nan,\n",
       "               nan,         nan, -0.10316849,         nan,         nan,\n",
       "               nan, -0.06021328,         nan,         nan,         nan,\n",
       "       -0.03245981,         nan,         nan,         nan, -0.29747382,\n",
       "               nan,         nan,         nan, -0.09156638,         nan,\n",
       "               nan,         nan, -0.20601521,         nan,         nan,\n",
       "               nan, -0.04608254,         nan,         nan,         nan],      dtype=float32)"
      ]
     },
     "execution_count": 47,
     "metadata": {},
     "output_type": "execute_result"
    }
   ],
   "source": [
    "observations.mean(axis=1)"
   ]
  },
  {
   "cell_type": "code",
   "execution_count": 40,
   "id": "3ea281c1-54ba-4183-aee9-03d44472a648",
   "metadata": {},
   "outputs": [],
   "source": [
    "import jax.numpy as jnp\n",
    "from jax import jit, lax\n",
    "from jax.scipy.linalg import inv\n",
    "import numpy as np  # For handling NaN checks with JAX arrays\n",
    "from jax_filters import ensrf_steps\n",
    "\n",
    "@jit\n",
    "def kalman_filter_step(carry, input):\n",
    "    m_prev, C_prev, M, H, Q, R, observation_interval = carry\n",
    "    y_curr = input\n",
    "    m_pred = M @ m_prev\n",
    "    C_pred = M @ C_prev @ M.T + Q\n",
    "    def update():\n",
    "        S = H @ C_pred @ H.T + R\n",
    "        K = C_pred @ H.T @ inv(S)\n",
    "        y_hat = H @ m_pred\n",
    "        m_update = m_pred + K @ (y_curr - y_hat)\n",
    "        C_update = (jnp.eye(C_prev.shape[0]) - K @ H) @ C_pred\n",
    "        return m_update, C_update\n",
    "    def no_update():\n",
    "        return m_pred, C_pred\n",
    "    is_observation_available = jnp.logical_not(jnp.any(jnp.isnan(y_curr)))\n",
    "    m_update, C_update = lax.cond(is_observation_available, update, no_update)\n",
    "\n",
    "    return (m_update, C_update, M, H, Q, R, observation_interval), (m_update, C_update)\n",
    "\n",
    "def apply_kalman_filter(y, m0, C0, M, H, Q, R, observation_interval):\n",
    "    carry_init = (m0, C0, M, H, Q, R, observation_interval)\n",
    "    _, (ms, Cs) = lax.scan(kalman_filter_step, carry_init, y)\n",
    "    return ms, Cs\n",
    "\n",
    "ms, Cs = apply_kalman_filter(observations, initial_state, Q, A_stable, H, Q, R,0)\n",
    "\n"
   ]
  },
  {
   "cell_type": "code",
   "execution_count": 48,
   "id": "c9b3e382-505d-4f66-a8df-55be740a3ca2",
   "metadata": {},
   "outputs": [],
   "source": [
    "\n",
    "@jit\n",
    "def kalman_filter_step(carry, input):\n",
    "    m_prev, C_prev, state_transition_function, jacobian_function, H, Q, R = carry\n",
    "    y_curr = input\n",
    "    m_pred = state_transition_function(m_prev)\n",
    "    F_jac = jacobian_function(m_prev)\n",
    "    C_pred = F_jac @ C_prev @ F_jac.T + Q\n",
    "    \n",
    "    def update():\n",
    "        S = H @ C_pred @ H.T + R\n",
    "        K = C_pred @ H.T @ inv(S)\n",
    "        y_hat = H @ m_pred\n",
    "        m_update = m_pred + K @ (y_curr - y_hat)\n",
    "        C_update = (jnp.eye(H.shape[1]) - K @ H) @ C_pred\n",
    "        return m_update, C_update\n",
    "    \n",
    "    def no_update():\n",
    "        return m_pred, C_pred\n",
    "    \n",
    "    is_observation_available = jnp.logical_not(jnp.any(jnp.isnan(y_curr)))\n",
    "    m_update, C_update = lax.cond(is_observation_available, update, no_update)\n",
    "\n",
    "    return (m_update, C_update, state_transition_function, jacobian_function, H, Q, R), (m_update, C_update)\n",
    "\n",
    "@jit\n",
    "def apply_kalman_filter(y, m0, C0, state_transition_function, jacobian_function, H, Q, R):\n",
    "    carry_init = (m0, C0, state_transition_function, jacobian_function, H, Q, R)\n",
    "    _, (ms, Cs) = lax.scan(kalman_filter_step, carry_init, y)\n",
    "    return ms, Cs\n",
    "\n"
   ]
  },
  {
   "cell_type": "code",
   "execution_count": 52,
   "id": "03646606-c688-4f79-8ea8-3b11962347c3",
   "metadata": {},
   "outputs": [],
   "source": [
    "from jax_filters import kalman_filter_process\n",
    "ms1, Cs1, ks1 =kalman_filter_process(A_step, jac_func, m0, C0, observations, H, Q, R)\n"
   ]
  },
  {
   "cell_type": "code",
   "execution_count": 53,
   "id": "2550e798-09ec-42d6-94a0-a6903242e0de",
   "metadata": {},
   "outputs": [],
   "source": [
    "ms, Cs = apply_kalman_filter(observations, m0, C0, A_step, jac_func, H, Q, R)"
   ]
  },
  {
   "cell_type": "code",
   "execution_count": 57,
   "id": "0a7b0c1c-fb2b-4e4b-b6a1-151e707d4ae0",
   "metadata": {},
   "outputs": [
    {
     "data": {
      "text/plain": [
       "Array([[ 0.07836241, -0.7641989 , -0.12098181, ..., -0.20468104,\n",
       "        -0.53091204,  0.32743043],\n",
       "       [        nan,         nan,         nan, ...,         nan,\n",
       "                nan,         nan],\n",
       "       [        nan,         nan,         nan, ...,         nan,\n",
       "                nan,         nan],\n",
       "       ...,\n",
       "       [        nan,         nan,         nan, ...,         nan,\n",
       "                nan,         nan],\n",
       "       [        nan,         nan,         nan, ...,         nan,\n",
       "                nan,         nan],\n",
       "       [        nan,         nan,         nan, ...,         nan,\n",
       "                nan,         nan]], dtype=float32)"
      ]
     },
     "execution_count": 57,
     "metadata": {},
     "output_type": "execute_result"
    }
   ],
   "source": [
    "ms1\n"
   ]
  },
  {
   "cell_type": "code",
   "execution_count": 5,
   "id": "bcb32e9c-a54b-4373-82b7-3988fefadf92",
   "metadata": {},
   "outputs": [],
   "source": [
    "from jax_vi import KL_gaussian, log_likelihood, KL_sum\n",
    "\n",
    "\n",
    "def var_cost(inflation, ensemble_init, observations, H, Q, R, localization_matrix, key, num_steps, J0):\n",
    "   \n",
    "    states, covariances = ensrf_steps(A_step, n_ensemble, ensemble_init, num_steps, observations, observation_interval, H, Q, R, localization_matrix, inflation, key)\n",
    "\n",
    "    ensemble_mean = jnp.mean(states, axis=-1)  # Taking the mean across the ensemble members dimension\n",
    "    key, *subkeys = random.split(key, num=N+1)\n",
    "    kl_sum = KL_sum(ensemble_mean, covariances, n, A_step, Q, key, N)\n",
    "    def inner_map(subkey):\n",
    "        return log_likelihood(random.multivariate_normal(subkey, ensemble_mean, covariances), observations, H, R, num_steps, J0)  # Sometimes the covariances are negative definite. Fix\n",
    "    cost = kl_sum - jnp.nanmean(jax.lax.map(inner_map, jnp.vstack(subkeys)))\n",
    "    return cost"
   ]
  },
  {
   "cell_type": "code",
   "execution_count": 69,
   "id": "622b4bda-86a3-428a-a910-49cb4bb6a33d",
   "metadata": {},
   "outputs": [],
   "source": []
  },
  {
   "cell_type": "code",
   "execution_count": 20,
   "id": "7adff5cd-08c9-4302-adbb-c0c7c666e7c2",
   "metadata": {},
   "outputs": [
    {
     "data": {
      "text/plain": [
       "Array(8204.043, dtype=float32)"
      ]
     },
     "execution_count": 20,
     "metadata": {},
     "output_type": "execute_result"
    }
   ],
   "source": [
    "J = num_steps\n",
    "var_cost(1.3, ensemble_init, observations, H, Q, R, localization_matrix, key, J, J0)"
   ]
  },
  {
   "cell_type": "code",
   "execution_count": 6,
   "id": "04b3580f-0d77-4ad9-adfb-a6d85b549b8e",
   "metadata": {},
   "outputs": [
    {
     "data": {
      "application/vnd.jupyter.widget-view+json": {
       "model_id": "80c1df9eade94a718565594ab8f66588",
       "version_major": 2,
       "version_minor": 0
      },
      "text/plain": [
       "  0%|          | 0/50 [00:00<?, ?it/s]"
      ]
     },
     "metadata": {},
     "output_type": "display_data"
    },
    {
     "name": "stdout",
     "output_type": "stream",
     "text": [
      "nan 0.1315303498848616\n",
      "nan 0.1315303498848616\n",
      "nan 0.1315303498848616\n",
      "nan 0.1315303498848616\n",
      "nan 0.1315303498848616\n",
      "nan 0.1315303498848616\n",
      "nan 0.1315303498848616\n",
      "nan 0.1315303498848616\n",
      "nan 0.1315303498848616\n",
      "nan 0.1315303498848616\n",
      "nan 0.1315303498848616\n",
      "nan 0.1315303498848616\n",
      "nan 0.1315303498848616\n",
      "nan 0.1315303498848616\n",
      "nan 0.1315303498848616\n",
      "nan 0.1315303498848616\n",
      "nan 0.1315303498848616\n",
      "nan 0.1315303498848616\n",
      "nan 0.1315303498848616\n",
      "nan 0.1315303498848616\n",
      "nan 0.1315303498848616\n",
      "nan 0.1315303498848616\n",
      "nan 0.1315303498848616\n",
      "nan 0.1315303498848616\n",
      "nan 0.1315303498848616\n",
      "nan 0.1315303498848616\n",
      "nan 0.1315303498848616\n",
      "nan 0.1315303498848616\n",
      "nan 0.1315303498848616\n",
      "nan 0.1315303498848616\n",
      "nan 0.1315303498848616\n",
      "nan 0.1315303498848616\n",
      "nan 0.1315303498848616\n",
      "nan 0.1315303498848616\n",
      "nan 0.1315303498848616\n",
      "nan 0.1315303498848616\n",
      "nan 0.1315303498848616\n",
      "nan 0.1315303498848616\n",
      "nan 0.1315303498848616\n",
      "nan 0.1315303498848616\n",
      "nan 0.1315303498848616\n",
      "nan 0.1315303498848616\n",
      "nan 0.1315303498848616\n",
      "nan 0.1315303498848616\n",
      "nan 0.1315303498848616\n",
      "nan 0.1315303498848616\n",
      "nan 0.1315303498848616\n",
      "nan 0.1315303498848616\n",
      "nan 0.1315303498848616\n",
      "nan 0.1315303498848616\n"
     ]
    }
   ],
   "source": [
    "from IPython.display import clear_output\n",
    "from jax import grad\n",
    "from tqdm.notebook import tqdm\n",
    "import jax.numpy as jnp\n",
    "from jax import random\n",
    "import properscoring\n",
    "\n",
    "\n",
    "\n",
    "# Modification: Use grad to compute the gradient with respect to the inflation parameter\n",
    "var_cost_grad = grad(var_cost, argnums=0)\n",
    "\n",
    "J0 = 0\n",
    "inflation_opt = 1.1  # Example starting value for inflation\n",
    "alpha = 1e-6  # Learning rate\n",
    "key = random.PRNGKey(0)  # Random key\n",
    "N = 10  # Number of MC samples\n",
    "m0 = initial_state\n",
    "C0 = Q  # Initial covariance, assuming Q is your process noise covariance\n",
    "localization_matrix = generate_gc_localization_matrix(n, 15)# jnp.ones((n, n)) # \n",
    "n_ensemble  = 20\n",
    "ensemble_init = random.multivariate_normal(key, initial_state, Q, (n_ensemble,)).T\n",
    "\n",
    "crpss = []\n",
    "rmses=[]\n",
    "inflations = []\n",
    "true_filter_divergences = []\n",
    "\n",
    "# from jax import config\n",
    "# config.update(\"jax_debug_nans\", True)\n",
    "\n",
    "for i in tqdm(range(50)):\n",
    "    key, subkey = random.split(key)\n",
    "        \n",
    "    # Gradient descent step for inflation parameter\n",
    "    grad_inflation = var_cost_grad(inflation_opt, ensemble_init, observations, H, Q, R, localization_matrix, subkey, num_steps, J0)\n",
    "    inflation_opt -= alpha * grad_inflation  # Update inflation parameter\n",
    "    \n",
    "    inflations.append(inflation_opt)\n",
    "\n",
    "    states, covariances = ensrf_steps(A_step, n_ensemble, ensemble_init, num_steps, observations, observation_interval, H, Q, R, localization_matrix, inflation, key)\n",
    "    \n",
    "    ensemble_mean = jnp.mean(states, axis=-1)  # Taking the mean across the ensemble members dimension\n",
    "    #true_filter_divergences.append(KL_gaussian(ensemble_mean.T, covariances, ms.T, Cs))\n",
    "\n",
    "    rmse = jnp.sqrt(jnp.mean((ensemble_mean - true_states)**2))\n",
    "    rmses.append(rmse)\n",
    "    crps = properscoring.crps_ensemble(true_states, states).mean(axis=1).mean()\n",
    "    crpss.append(crps)\n",
    "    #clear_output(wait=True)\n",
    "    \n",
    "    print(inflation_opt, crps)"
   ]
  },
  {
   "cell_type": "code",
   "execution_count": 51,
   "id": "68bfbd18-fca0-4f90-9ffe-7d0537a51b91",
   "metadata": {},
   "outputs": [
    {
     "data": {
      "text/plain": [
       "Array([[ 0.07836241, -0.7641989 , -0.12098181, ..., -0.20468104,\n",
       "        -0.53091204,  0.32743043],\n",
       "       [ 0.12314163, -0.52652967, -0.26787078, ..., -0.44446802,\n",
       "        -0.34339535,  0.09057826],\n",
       "       [ 0.21506685, -0.34971774,  0.22789443, ..., -0.23412657,\n",
       "        -0.08423281,  0.46471524],\n",
       "       ...,\n",
       "       [ 0.60597956, -0.00444032, -0.76824206, ...,  0.15328997,\n",
       "        -0.3658951 , -0.06035931],\n",
       "       [ 0.06862107,  0.02553357,  0.6577666 , ...,  0.07941943,\n",
       "        -0.88178587,  0.00518188],\n",
       "       [-0.05369499,  0.08855119, -0.27075857, ..., -0.10694164,\n",
       "        -0.12803587,  0.00748018]], dtype=float32)"
      ]
     },
     "execution_count": 51,
     "metadata": {},
     "output_type": "execute_result"
    }
   ],
   "source": [
    "ms"
   ]
  }
 ],
 "metadata": {
  "kernelspec": {
   "display_name": "Python 3 (ipykernel)",
   "language": "python",
   "name": "python3"
  },
  "language_info": {
   "codemirror_mode": {
    "name": "ipython",
    "version": 3
   },
   "file_extension": ".py",
   "mimetype": "text/x-python",
   "name": "python",
   "nbconvert_exporter": "python",
   "pygments_lexer": "ipython3",
   "version": "3.11.5"
  }
 },
 "nbformat": 4,
 "nbformat_minor": 5
}
