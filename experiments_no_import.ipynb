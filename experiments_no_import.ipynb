{
 "cells": [
  {
   "cell_type": "code",
   "execution_count": 7,
   "metadata": {
    "tags": []
   },
   "outputs": [
    {
     "data": {
      "text/plain": [
       "<module 'jax_models' from '/central/home/eluk/variational_filtering/jax_models.py'>"
      ]
     },
     "execution_count": 7,
     "metadata": {},
     "output_type": "execute_result"
    }
   ],
   "source": [
    "import importlib\n",
    "import jax_models\n",
    "from jax.scipy.linalg import inv, det, svd\n",
    "import jax.numpy as np\n",
    "from jax import random, jit\n",
    "from sklearn.datasets import make_spd_matrix\n",
    "import matplotlib.pyplot as plt\n",
    "from matplotlib.colors import LinearSegmentedColormap\n",
    "import jax\n",
    "from jax_models import  generate_true_states, generate_gc_localization_matrix #visualize_observations, KuramotoSivashinsky,\n",
    "from jax_filters import ensrf_steps\n",
    "importlib.reload(jax_models)"
   ]
  },
  {
   "cell_type": "code",
   "execution_count": 13,
   "metadata": {
    "tags": []
   },
   "outputs": [],
   "source": [
    "from jax.numpy.fft import fft, ifft\n",
    "\n",
    "@jit\n",
    "def KS_step(u, k, E, E2, Q, f1, f2, f3, g, h):\n",
    "    v = fft(u)\n",
    "    Nv = g * fft(np.real(ifft(v))**2)\n",
    "    a = E2 * v + Q * Nv\n",
    "    Na = g * fft(np.real(ifft(a))**2)\n",
    "    b = E2 * v + Q * Na\n",
    "    Nb = g * fft(np.real(ifft(b))**2)\n",
    "    c = E2 * a + Q * (2*Nb - Nv)\n",
    "    Nc = g * fft(np.real(ifft(c))**2)\n",
    "    v_next = E * v + Nv * f1 + 2 * (Na + Nb) * f2 + Nc * f3\n",
    "    u_next = np.real(ifft(v_next))\n",
    "\n",
    "    return u_next\n",
    "\n",
    "# Precompute constants needed for the time step function\n",
    "def precompute_constants(s, l, h, M):\n",
    "    k = (2 * np.pi / l) * np.concatenate([np.arange(0, s//2), np.array([0]), np.arange(-s//2+1, 0)])\n",
    "    L = k**2 - k**4\n",
    "    E = np.exp(h*L)\n",
    "    E2 = np.exp(h*L/2)\n",
    "    r = np.exp(1j * np.pi * (np.arange(1, M+1)-.5) / M)\n",
    "    LR = h * np.tile(L, (M, 1)).T + np.tile(r, (s, 1))\n",
    "    Q = h * np.real(np.mean((np.exp(LR/2)-1)/LR, axis=1))\n",
    "    f1 = h * np.real(np.mean((-4-LR+np.exp(LR)*(4-3*LR+LR**2))/LR**3, axis=1))\n",
    "    f2 = h * np.real(np.mean((2+LR+np.exp(LR)*(-2+LR))/LR**3, axis=1))\n",
    "    f3 = h * np.real(np.mean((-4-3*LR-LR**2+np.exp(LR)*(4-LR))/LR**3, axis=1))\n",
    "    g = -0.5j * k\n",
    "\n",
    "    return k, E, E2, Q, f1, f2, f3, g\n",
    "s = 256\n",
    "l = 22\n",
    "h = 0.25\n",
    "M = 16\n",
    "# Precompute constants\n",
    "k, E, E2, Q_ks, f1, f2, f3, g = precompute_constants(s, l, h, M)\n"
   ]
  },
  {
   "cell_type": "code",
   "execution_count": 6,
   "metadata": {
    "tags": []
   },
   "outputs": [],
   "source": []
  },
  {
   "cell_type": "code",
   "execution_count": null,
   "metadata": {
    "tags": []
   },
   "outputs": [
    {
     "name": "stderr",
     "output_type": "stream",
     "text": [
      "Running Trials:   0%|                                                                            | 0/10 [00:00<?, ?it/s]"
     ]
    },
    {
     "name": "stdout",
     "output_type": "stream",
     "text": [
      "Trial 0\n"
     ]
    },
    {
     "name": "stderr",
     "output_type": "stream",
     "text": [
      "Running Trials:  10%|██████▊                                                             | 1/10 [00:46<06:54, 46.09s/it]"
     ]
    },
    {
     "name": "stdout",
     "output_type": "stream",
     "text": [
      "Trial 1\n"
     ]
    },
    {
     "name": "stderr",
     "output_type": "stream",
     "text": [
      "Running Trials:  20%|█████████████▌                                                      | 2/10 [01:32<06:10, 46.34s/it]"
     ]
    },
    {
     "name": "stdout",
     "output_type": "stream",
     "text": [
      "Trial 2\n"
     ]
    },
    {
     "name": "stderr",
     "output_type": "stream",
     "text": [
      "Running Trials:  30%|████████████████████▍                                               | 3/10 [02:18<05:21, 45.92s/it]"
     ]
    },
    {
     "name": "stdout",
     "output_type": "stream",
     "text": [
      "Trial 3\n"
     ]
    },
    {
     "name": "stderr",
     "output_type": "stream",
     "text": [
      "Running Trials:  40%|███████████████████████████▏                                        | 4/10 [03:03<04:33, 45.61s/it]"
     ]
    },
    {
     "name": "stdout",
     "output_type": "stream",
     "text": [
      "Trial 4\n"
     ]
    },
    {
     "name": "stderr",
     "output_type": "stream",
     "text": [
      "Running Trials:  50%|██████████████████████████████████                                  | 5/10 [03:48<03:48, 45.67s/it]"
     ]
    },
    {
     "name": "stdout",
     "output_type": "stream",
     "text": [
      "Trial 5\n"
     ]
    }
   ],
   "source": [
    "import pickle\n",
    "import os\n",
    "from datetime import datetime\n",
    "from tqdm import tqdm\n",
    "\n",
    "radii = [2, 10, 100]\n",
    "inflations = [1.0, 1.05, 1.1]\n",
    "num_trials = 10\n",
    "ensemble_sizes = [10, 20]\n",
    "n= s\n",
    "num_steps = 10  # Total number of time steps\n",
    "observation_interval = 5  # Observation is available every 5 time steps\n",
    "\n",
    "# Initialize random key for reproducibility\n",
    "key = random.PRNGKey(0)\n",
    "ks_model_step = lambda state: KS_step(state, k, E, E2, Q_ks, f1, f2, f3, g, h)\n",
    "\n",
    "# Process noise covariance and Observation noise covariance\n",
    "Q = 0.01 * np.eye(n)\n",
    "R = 0.5 * np.eye(n)\n",
    "# Observation matrix (identity matrix for direct observation of all state variables)\n",
    "H = np.eye(n)\n",
    "\n",
    "# Initial state\n",
    "initial_state = random.normal(key, (n,))\n",
    "\n",
    "# Initialize data structures for results\n",
    "std_errors = {(radius, inflation, n_ensemble): [] for radius in radii for inflation in inflations for n_ensemble in ensemble_sizes}\n",
    "errors = {(radius, inflation, n_ensemble): [] for radius in radii for inflation in inflations for n_ensemble in ensemble_sizes}\n",
    "\n",
    "for trial in tqdm(range(num_trials), desc=\"Running Trials\"):\n",
    "    print(f\"Trial {trial}\")\n",
    "    observations, true_states = generate_true_states(key, num_steps, n, initial_state, H, Q, R, ks_model_step, observation_interval)\n",
    "\n",
    "    for radius in radii:\n",
    "        local_mat = generate_gc_localization_matrix(n, radius)\n",
    "        for inflation in inflations:\n",
    "            for n_ensemble in ensemble_sizes:\n",
    "                ensemble_init = random.multivariate_normal(key, initial_state, Q, (n_ensemble,)).T\n",
    "                states = ensrf_steps(ks_model_step, n_ensemble, ensemble_init, num_steps, observations, observation_interval, H, Q, R, local_mat, inflation)\n",
    "                average_state = np.mean(states, axis=2)  # Calculate the mean along the ensemble dimension\n",
    "                error = np.sqrt(np.mean((average_state - true_states) ** 2, axis=1))\n",
    "                errors[(radius, inflation, n_ensemble)].append(error)\n",
    "                std_dev = np.std(states, axis=(1, 2))  # Standard deviation across all ensemble members and state dimensions\n",
    "                std_errors[(radius, inflation, n_ensemble)].append(std_dev)\n",
    "\n",
    "# Preparing data for saving\n",
    "all_data = {\n",
    "    'std_errors': std_errors,\n",
    "    'errors': errors,\n",
    "    'parameters': {\n",
    "        'radii': radii,\n",
    "        'inflations': inflations,\n",
    "        'ensemble_sizes': ensemble_sizes,\n",
    "        'num_trials': num_trials\n",
    "    }\n",
    "}\n",
    "\n",
    "# File saving path\n",
    "directory = 'variational_filtering/experiment_data/'\n",
    "filename = f'ks_experiment_{datetime.now().strftime(\"%Y-%m-%d_%H-%M-%S\")}.pkl'\n",
    "file_path = os.path.join(directory, filename)\n",
    "\n",
    "with open(file_path, 'wb') as f:\n",
    "    pickle.dump(all_data, f)"
   ]
  }
 ],
 "metadata": {
  "kernelspec": {
   "display_name": "Python 3 (ipykernel)",
   "language": "python",
   "name": "python3"
  },
  "language_info": {
   "codemirror_mode": {
    "name": "ipython",
    "version": 3
   },
   "file_extension": ".py",
   "mimetype": "text/x-python",
   "name": "python",
   "nbconvert_exporter": "python",
   "pygments_lexer": "ipython3",
   "version": "3.11.5"
  }
 },
 "nbformat": 4,
 "nbformat_minor": 4
}
